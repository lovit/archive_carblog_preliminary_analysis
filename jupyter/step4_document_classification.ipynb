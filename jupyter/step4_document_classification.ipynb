{
 "cells": [
  {
   "cell_type": "code",
   "execution_count": 1,
   "metadata": {},
   "outputs": [
    {
     "name": "stdout",
     "output_type": "stream",
     "text": [
      "(0.18567, 0.54834, 1.2969, 20)\n"
     ]
    }
   ],
   "source": [
    "import sys\n",
    "sys.path.append('../')\n",
    "import pickle\n",
    "from scipy.io import mmread\n",
    "\n",
    "from config import car_model_directory as model_directory\n",
    "from utils import remove_alphabet_number_comb\n",
    "from utils import read_list\n",
    "\n",
    "index2category = read_list('./car_index.txt')\n",
    "with open('{}/common_words.pkl'.format(model_directory), 'rb') as f:\n",
    "    common_words = pickle.load(f)\n",
    "with open('{}/category_sensitive_words.pkl'.format(model_directory), 'rb') as f:\n",
    "    category_sensitive_words = pickle.load(f)\n",
    "with open('{}/subword_df_slot.pkl'.format(model_directory), 'rb') as f:\n",
    "    params = pickle.load(f)\n",
    "    index2subword = params['index2subword']\n",
    "    subword2index = {subword:index for index,subword in enumerate(index2subword)}\n",
    "    del params\n",
    "    \n",
    "print(common_words['차량']) # (nstd, mean, max/mean, argmax_c)"
   ]
  },
  {
   "cell_type": "code",
   "execution_count": null,
   "metadata": {
    "collapsed": true
   },
   "outputs": [],
   "source": [
    "%matplotlib inline\n",
    "\n",
    "import numpy as np\n",
    "import matplotlib.pyplot as plt\n",
    "from collections import Counter"
   ]
  },
  {
   "cell_type": "code",
   "execution_count": 2,
   "metadata": {},
   "outputs": [
    {
     "name": "stdout",
     "output_type": "stream",
     "text": [
      "0 3752\n",
      "1 834\n",
      "2 572\n",
      "3 2968\n",
      "4 3082\n",
      "5 3267\n",
      "6 209\n",
      "7 146\n",
      "8 319\n",
      "9 1229\n",
      "10 1138\n",
      "11 139\n",
      "12 120\n",
      "13 118\n",
      "14 178\n",
      "15 78\n",
      "16 370\n",
      "17 334\n",
      "18 237\n",
      "19 219\n",
      "20 156\n",
      "21 586\n",
      "22 236\n",
      "23 269\n",
      "24 1290\n",
      "25 1472\n",
      "26 2142\n"
     ]
    }
   ],
   "source": [
    "for c, words in enumerate(category_sensitive_words):\n",
    "    print(c, len(words))"
   ]
  },
  {
   "cell_type": "code",
   "execution_count": 5,
   "metadata": {},
   "outputs": [],
   "source": [
    "c = 0\n",
    "with open('{}/related_words_c{}.pkl'.format(model_directory, c), 'rb') as f:\n",
    "    W_ij = pickle.load(f)\n",
    "#     sensitive_words = set(category_sensitive_words[c])\n",
    "#     common_words = set(common_words)\n",
    "sensitive_words = set(remove_alphabet_number_comb(category_sensitive_words[c]))\n",
    "common_words = set(remove_alphabet_number_comb(common_words))\n",
    "true_specific, false_specific, has_no_relateds = select_specific_words(W_ij, sensitive_words, common_words, cost_factor=1.0, cutoff=0.00)"
   ]
  },
  {
   "cell_type": "code",
   "execution_count": 6,
   "metadata": {
    "scrolled": false
   },
   "outputs": [
    {
     "name": "stdout",
     "output_type": "stream",
     "text": [
      "category = A6\n",
      "True specific\n",
      "['베르디', '우니', '정혁', '부육셰히르', '드니프로', '야마가', '리베르', '투르크', '에스파뇰', '벨레', '시타', '로코모티', '상파울', '일리치', '나시오날', '세비야', '아라우', '올림피', '감바', '부르크', '우니베르시', '마스트', '하그', '올림피아', '캔자스', '레인저', '투르', '도르', '비토', '비야', '스파르타', '로스토', '알메', '페레', '크레테', '바레', '칩셋', '아이팟터치', '쿼드코어', '주상복합', '아이패드3', '출시국', '홈버튼', '입주예정', '입주민', '아이패드2', '입주가', '아이패드에', '레티나', 'A6블록', '아이폰5C', 'A6칩', '아이폰5s', '뉴아이패드', '아이폰5', '택지지구', '아이폰4S', 'A6블', '택지', '아이폰5에', '아이폰4', '아이폰5S', '입주자', '광명역세권', '시흥목감', '미사강변', '게이밍', '한라비발디', '포스코건설', '운정역', '엠코타운', '가람마을', '아티브', '지속시간', '대시보드뜯', '콘솔뜯', '다시방뜯', '플라스틱뜯', '핸들뜯', '코어i']\n",
      "\n",
      "False specific (common words)\n",
      "['우레탄도', '나츠', '페르소나', '레슬', '라데', '세라믹브', '수입차밋션', '학점은', '아우토엠', '터치네비게이션', '경동오토미션', '대명오토', '에뮬', '아우디A6중고', '히아트모터스', '대전exLED', '미러웍스', '레보', '범퍼몰', '뉴아우디', '유카로', '아우디A6네비', '모빌리언스', '밀텍', '아식', '베리어스', '아우디사', '아우디A6차량', '아우디뉴A6', 'A6차량', '제조아우디차명', 'A6에', '콰트로가', 'A6모델']\n",
      "\n",
      "Has no related words\n",
      "['히로시', '글렌', '수입차브', '벤츠네비', '아우디s', '엠비언트라이트', '포켓몬', '울산연암동', '핸들상처', 'bmw중고', '대전자동차용품', '마드리', '보증제외', '염증', '파티원', '펠콘', '에쿠스맴버', '그랜드프', '사통팔달', '리에', '머플러접지', '볼로', '실수요자', '업무수', '분양하', '루가', '푸르지오', '한국자동차유리', '스파르', '학점', '대단지', 'KW일체형', '페더럴', '라즈', '오데', '아시아선수촌', '부산웨딩', '오토덴트', '호반', '녹음했', 'bmw부품', '제품번호', '체스', '클럭', '우남', '벤츠네비게이션', 'BMW리', '대구리', '기륭', '퀄컴', '알렉산드', '코우', '로렌소', '아우디매', '파견되', '잠실동근처', '미래가치', '방어력', '리마', '한국전자', '홍대장', '연습실', '택지개발', '오토클리닉', '무주택', '역세권', '살로', '프라하', '로테', '5시리즈와', '루마니아', '교육기', '245마력', '연주곡', '상업지', '광주판금도', '자이로', '세인트', '용지', '피츠', '기합', '수입차부품', '코르도바', '해밀턴', '헬싱', '지구단위계획', '로코', '우라칸', '평생교육', '메인배터리', '청약', 'BMW수리', '건설사', '분당지', '쿼드', '킹스', '샌프란시스코', 'BMW정', '보르', '울산화봉동', '종현', '하르', '중심상', '싼타페인', 'BMW5시리즈', '자동차실내천', '재학생', '자기소개', '삼정오토미션', '사바', '신형3', '코스타', '면접장', '자동7', '브뤼', '임대수', '터치네비', '기관총', '특별공', '000매', '도시바', '분양가', '모델하우스', '아키텍처', '에코파워팩', '레오파', '포르투', '수지수입차', '산내', '이천합성', '건설사들', '루머', '두산위브', '안소', '일원에', '바르샤바', '오클', '아이폰에', '카오디오워크', '미드레인지', '대우건설', '수입차미션', 'm3튜닝', '프로세서', '우림필유', '외부전', '연립', '보금자리', '젠쿱순정휠', '클라라', '마이애미', '금융소', '대전칼라', '베로', '시애', 'TDI가', '2성', '데모차량', '벤츠E220', '넥센엔페라', '전공과', '바이오스', '쿠페3', '푸에', '사우스', '주거환경', '한가람', '블래스', '드레스덴', '호서대', '벤츠E2', '경험치', '벤츠전용', '아를', '아우디부품', '루스', '아키텍', '레이크', '프로이', '한라비', '인접하', '공격력', '함부르크', '0중고차', '슈투트가르트', '아우디전', '클루', '배치기', '상트', '벤츠전', '벤츠E클래스', '바이에른', '우라', '자동8', '이펙트', '만하임', '구독신청', '한림통상', '파파야', '입주', '주니어스', '창원차키', '하이클라스', '시트긁', '인천남동점', '리코더', '대전소', '벤츠매', '파르', '아우디코리아', '잘츠부르크']\n"
     ]
    }
   ],
   "source": [
    "print('category = {}'.format(index2category[c]))\n",
    "print('True specific')\n",
    "print(remove_alphabet_number_comb([word for word, _ in true_specific]))\n",
    "print('\\nFalse specific (common words)')\n",
    "print(remove_alphabet_number_comb([word for word, _ in false_specific]))\n",
    "print('\\nHas no related words')\n",
    "print(remove_alphabet_number_comb([word for word, _ in has_no_relateds]))"
   ]
  },
  {
   "cell_type": "code",
   "execution_count": 121,
   "metadata": {},
   "outputs": [],
   "source": [
    "positive_features = {word for word in common_words}\n",
    "positive_features.update([word for word, _ in false_specific])\n",
    "negative_features = {word for word, _ in true_specific}\n",
    "negative_features.update([word for word, _ in has_no_relateds])\n",
    "\n",
    "positive_features = {subword2index[word] for word in positive_features}\n",
    "negative_features = {subword2index[word] for word in negative_features}\n",
    "\n",
    "x_fname = '{}/subword_tf_c{}.mtx'.format(model_directory, c)\n",
    "x = mmread(x_fname).tocsr()"
   ]
  },
  {
   "cell_type": "code",
   "execution_count": 122,
   "metadata": {
    "collapsed": true
   },
   "outputs": [],
   "source": [
    "def classify_documents(x, positive_features, negative_features, negative_score_factor=1.0):\n",
    "    n, m = x.shape\n",
    "    factor = negative_score_factor * len(negative_features) / len(positive_features)\n",
    "    \n",
    "    rows, cols = x.nonzero()\n",
    "    data = x.data\n",
    "    scores = [0]*n\n",
    "    unknown_features = [0]*n\n",
    "    num_features = [0]*n\n",
    "    normalizer = [0]*n\n",
    "    \n",
    "    n_entry = len(rows)\n",
    "    for i_entry, (i,j,d) in enumerate(zip(rows, cols, data)):\n",
    "        if i_entry % 5000 == 4999:\n",
    "            print('\\r  - computing ... {} % entries'.format('%.2f'%(100*(i_entry+1)/n_entry)), flush=True, end='')\n",
    "        num_features[i] = num_features[i] + d\n",
    "        if j in positive_features:\n",
    "            scores[i] = scores[i] + d\n",
    "            normalizer[i] = normalizer[i] + d\n",
    "        if j in negative_features:\n",
    "            scores[i] = scores[i] - (factor * d)\n",
    "            normalizer[i] = normalizer[i] + (factor * d)\n",
    "        if not (j in positive_features or j in negative_features):\n",
    "            unknown_features[i] = unknown_features[i] + d\n",
    "            #scores[i] = scores[i] - d * factor\n",
    "    scores = [score/normalizer[i] if normalizer[i] > 0 else 0 for i,score in enumerate(scores)]\n",
    "    unknown_features = [num/num_features[i] for i,num in enumerate(unknown_features) if num_features[i] > 0]\n",
    "    print('\\rclassification was done.{}'.format(' '*50))\n",
    "    return scores, num_features, unknown_features"
   ]
  },
  {
   "cell_type": "code",
   "execution_count": 134,
   "metadata": {},
   "outputs": [
    {
     "name": "stdout",
     "output_type": "stream",
     "text": [
      "classification was done.                                                  \n"
     ]
    }
   ],
   "source": [
    "scores, num_features, unknown_features = classify_documents(x, positive_features, negative_features, negative_score_factor=100)"
   ]
  },
  {
   "cell_type": "code",
   "execution_count": 135,
   "metadata": {},
   "outputs": [
    {
     "name": "stdout",
     "output_type": "stream",
     "text": [
      "len scores = 61924\n",
      "len counter(scores) = 6824\n"
     ]
    }
   ],
   "source": [
    "print('len scores =',len(scores))\n",
    "print('len counter(scores) =',len(Counter(scores)))"
   ]
  },
  {
   "cell_type": "code",
   "execution_count": 136,
   "metadata": {},
   "outputs": [
    {
     "data": {
      "image/png": "[encoded data removed]",
      "text/plain": [
       "<matplotlib.figure.Figure at 0x7f453e791a58>"
      ]
     },
     "metadata": {},
     "output_type": "display_data"
    }
   ],
   "source": [
    "plt.hist(scores, bins=50)\n",
    "plt.title(\"Histogram with 'auto' bins\")\n",
    "plt.show()"
   ]
  },
  {
   "cell_type": "code",
   "execution_count": 68,
   "metadata": {
    "collapsed": true
   },
   "outputs": [],
   "source": [
    "def make_bow(doc, topk=30):\n",
    "    import re\n",
    "    regex = '^[a-zA-Z0-9]+$'\n",
    "    \n",
    "    bow = x[doc,:]\n",
    "    term = bow.nonzero()[1]\n",
    "    data = bow.data\n",
    "    bow = sorted([(t,tf) for t,tf in zip(term, data)], key=lambda x:-x[1])\n",
    "    bow = [(index2subword[t],tf) for t,tf in bow]\n",
    "    bow = [(t,tf) for t,tf in bow if not re.match(regex, t)][:topk]\n",
    "    return bow\n"
   ]
  },
  {
   "cell_type": "code",
   "execution_count": 137,
   "metadata": {},
   "outputs": [
    {
     "name": "stdout",
     "output_type": "stream",
     "text": [
      "3532 58392\n"
     ]
    }
   ],
   "source": [
    "negative = [i for i, score in enumerate(scores) if score < 0.5]\n",
    "positive = [i for i, score in enumerate(scores) if score > 0.5]\n",
    "print(len(negative), len(positive))"
   ]
  },
  {
   "cell_type": "code",
   "execution_count": 138,
   "metadata": {},
   "outputs": [
    {
     "data": {
      "text/plain": [
       "0.048560989365789085"
      ]
     },
     "execution_count": 138,
     "metadata": {},
     "output_type": "execute_result"
    }
   ],
   "source": [
    "scores[15]"
   ]
  },
  {
   "cell_type": "code",
   "execution_count": 141,
   "metadata": {
    "scrolled": false
   },
   "outputs": [
    {
     "name": "stdout",
     "output_type": "stream",
     "text": [
      "#doc=15, score=0.04856, unknown_features=0.1682, num_features=220\n",
      "[('아이', 23), ('아이폰', 23), ('아이폰4', 9), ('아이폰5', 9), ('디자인', 7), ('예상', 6), ('뉴아', 5), ('뉴아이', 5), ('뉴아이패드', 5), ('디스', 5), ('디스플레이', 5), ('레티나', 5), ('아이폰5에', 5), ('이렇게', 4), ('카메라', 4), ('나올', 3), ('디자인이', 3), ('확률', 3), ('나왔', 2), ('나왔으', 2), ('알려', 2), ('애플', 2), ('좋겠', 2), ('1200만', 1), ('A6칩', 1), ('ㅠㅠ', 1), ('ㅠㅠㅠ', 1), ('ㅠㅠㅠㅠ', 1), ('ㅠㅠㅠㅠㅠ', 1), ('같았', 1)] \n",
      "\n",
      "#doc=22, score=-0.2224, unknown_features=0.9379, num_features=757\n",
      "[('노르', 3), ('그라', 2), ('마카', 2), ('브라', 2), ('유나', 2), ('포르', 2), ('28일', 1), ('경기', 1), ('고아', 1), ('골든', 1), ('그린', 1), ('김대', 1), ('노르웨이', 1), ('더블', 1), ('도르', 1), ('레알', 1), ('로버', 1), ('로테', 1), ('모스', 1), ('모스크바', 1), ('뮌헨', 1), ('미트', 1), ('바레', 1), ('바이', 1), ('바이에른', 1), ('박수', 1), ('반필드', 1), ('베를', 1), ('베를린', 1), ('벨기에', 1)] \n",
      "\n",
      "#doc=23, score=-0.4192, unknown_features=0.4868, num_features=152\n",
      "[('운정', 9), ('한라', 8), ('한라비', 8), ('한라비발디', 8), ('운정역', 7), ('1층', 5), ('가람마을', 4), ('파주', 4), ('한빛', 4), ('가온', 3), ('어린', 3), ('혁신', 3), ('34평', 2), ('60만', 2), ('60만원', 2), ('A6블', 2), ('교하', 2), ('야당', 2), ('어린이', 2), ('어린이집', 2), ('월세', 2), ('지산', 2), ('코오롱', 2), ('가능', 1), ('가능하', 1), ('가능하시', 1), ('계신', 1), ('계신분', 1), ('계신분들', 1), ('계획', 1)] \n",
      "\n",
      "#doc=61, score=0.3078, unknown_features=0.789, num_features=417\n",
      "[('소계', 14), ('도시', 11), ('도시형', 11), ('공공', 10), ('국민', 6), ('이지', 6), ('블럭', 5), ('1차', 3), ('경기', 3), ('단지', 3), ('서울', 3), ('수도', 3), ('수도권', 3), ('합계', 3), ('2차', 2), ('계룡', 2), ('동일', 2), ('블록', 2), ('센트', 2), ('이하', 2), ('주상복합', 2), ('파크', 2), ('편한', 2), ('한라', 2), ('한라비', 2), ('한라비발디', 2), ('호반', 2), ('11월', 1), ('12년', 1), ('13년', 1)] \n",
      "\n",
      "#doc=97, score=0.3783, unknown_features=0.6854, num_features=820\n",
      "[('확장', 14), ('교하', 13), ('정상', 12), ('벽산', 10), ('입주', 10), ('아파트', 9), ('남양', 7), ('운정', 7), ('있습니다', 7), ('월드', 6), ('월드메르디앙', 6), ('전세', 6), ('파주', 6), ('하시', 6), ('한라', 6), ('한라비', 6), ('한라비발디', 6), ('물건', 5), ('10월', 4), ('11월', 4), ('동양', 4), ('전망', 4), ('풀옵션', 4), ('기존', 3), ('동문', 3), ('신축', 3), ('입니다', 3), ('전용', 3), ('추천', 3), ('한빛', 3)] \n",
      "\n",
      "#doc=111, score=-0.4283, unknown_features=0.1841, num_features=630\n",
      "[('한라', 118), ('한라비', 93), ('한라비발디', 93), ('할인', 69), ('파주', 46), ('단지', 29), ('단지내', 25), ('가람마을', 21), ('34평', 10), ('위치', 6), ('운정', 4), ('지산', 4), ('고등', 2), ('고등학', 2), ('고등학교', 2), ('교하', 2), ('내부', 2), ('사진', 2), ('얼마', 2), ('와동', 2), ('전화', 2), ('전화주', 2), ('전화주세요', 2), ('좋은', 2), ('중학', 2), ('중학교', 2), ('초등', 2), ('초등학', 2), ('초등학교', 2), ('한빛', 2)] \n",
      "\n",
      "#doc=140, score=0.2789, unknown_features=0.2996, num_features=454\n",
      "[('광명', 30), ('광명역', 26), ('광명역세권', 11), ('푸르', 10), ('푸르지오', 10), ('단지', 7), ('오피', 7), ('오피스', 7), ('오피스텔', 7), ('타입', 7), ('파크', 7), ('호반', 7), ('시흥', 6), ('있는', 6), ('분양', 5), ('시흥목감', 5), ('있다', 5), ('디자인', 4), ('위치', 4), ('인근', 4), ('있어', 4), ('효성', 4), ('각종', 3), ('교육', 3), ('교통', 3), ('누릴', 3), ('목감', 3), ('분양가', 3), ('아파트', 3), ('위치하고', 3)] \n",
      "\n",
      "#doc=143, score=0.2179, unknown_features=0.3623, num_features=138\n",
      "[('분양', 6), ('분양가', 5), ('목감', 3), ('시흥', 3), ('시흥목감', 3), ('3차', 2), ('가장', 2), ('건너', 2), ('것으로', 2), ('광명', 2), ('광명역', 2), ('광명역세권', 2), ('서쪽', 2), ('신안', 2), ('아름다운', 2), ('예상', 2), ('예정', 2), ('인근', 2), ('입주', 2), ('있습니다', 2), ('한양', 2), ('2차', 1), ('3분', 1), ('4억', 1), ('6억', 1), ('7억', 1), ('8억', 1), ('9월', 1), ('9월에', 1), ('거리', 1)] \n",
      "\n",
      "#doc=187, score=0.3929, unknown_features=0.8455, num_features=123\n",
      "[('프로', 2), ('구성', 1), ('규격', 1), ('기자', 1), ('김소', 1), ('마이', 1), ('마이크', 1), ('마이크로', 1), ('메인', 1), ('메인보드', 1), ('온라인', 1), ('입니다', 1), ('지원', 1), ('지원하', 1), ('지원하는', 1), ('칩셋', 1), ('탑재', 1), ('탑재된', 1), ('프로세', 1), ('프로세서', 1), ('프로젝', 1), ('프로젝트', 1), ('프로젝트명', 1), ('피씨', 1)] \n",
      "\n",
      "#doc=444, score=0.4122, unknown_features=0.4541, num_features=925\n",
      "[('분양', 37), ('예정', 12), ('세종', 11), ('계획', 9), ('예정이', 9), ('아파트', 8), ('택지', 8), ('관심', 7), ('세종시', 7), ('3월', 6), ('강남', 6), ('높은', 6), ('물량', 6), ('양산', 6), ('인천', 6), ('각각', 5), ('계획이', 5), ('수요', 5), ('수요자', 5), ('신도', 5), ('신도시', 5), ('있다', 5), ('청약', 5), ('충남', 5), ('택지개발', 5), ('혁신', 5), ('호반', 5), ('2월', 4), ('3월에', 4), ('5월', 4)] \n",
      "\n",
      "#doc=478, score=0.2163, unknown_features=0.6301, num_features=73\n",
      "[('용지', 4), ('인쇄', 4), ('기본', 2), ('잉크', 2), ('최대', 2), ('출력', 2), ('컬러', 2), ('해상', 2), ('해상도', 2), ('흑백', 2), ('가능', 1), ('가능한', 1), ('기준', 1), ('레터', 1), ('메모리', 1), ('방식', 1), ('보정', 1), ('분리', 1), ('분리형', 1), ('소프', 1), ('소프트', 1), ('소프트웨어', 1), ('속도', 1), ('양면', 1), ('제품', 1), ('처리', 1), ('크기', 1)] \n",
      "\n",
      "#doc=490, score=0.1983, unknown_features=0.6852, num_features=270\n",
      "[('벤츠', 10), ('미니', 8), ('아우디', 7), ('장착', 6), ('벤츠네비', 3), ('벤츠네비게이션', 3), ('인디', 3), ('5시', 2), ('5시리즈', 2), ('구매', 2), ('네비', 2), ('모니터', 2), ('벤츠매', 2), ('수입차', 2), ('인터', 2), ('인터페이스', 2), ('터치', 2), ('핸드', 2), ('핸드폰', 2), ('BMW5시리즈', 1), ('BMW네비', 1), ('BMW리', 1), ('BMW매', 1), ('BMW미니', 1), ('bmw리', 1), ('구로', 1), ('네비게이션', 1), ('뒷좌석', 1), ('리어', 1), ('리어모니터', 1)] \n",
      "\n",
      "#doc=513, score=0.3856, unknown_features=0.4141, num_features=495\n",
      "[('아이', 28), ('아이패', 27), ('아이패드', 27), ('아이패드3', 24), ('갤럭시', 12), ('스펙', 8), ('8인치', 6), ('배터리', 4), ('소식', 4), ('우위', 4), ('일단', 4), ('있습니다', 4), ('출시', 4), ('10시', 3), ('7인', 3), ('7인치', 3), ('같습니다', 3), ('듀얼', 3), ('무게', 3), ('블랙', 3), ('삼성', 3), ('아니', 3), ('애플', 3), ('이상', 3), ('전면', 3), ('전해', 3), ('쿼드', 3), ('쿼드코어', 3), ('해상', 3), ('해상도', 3)] \n",
      "\n",
      "#doc=533, score=-0.03295, unknown_features=0.9517, num_features=5927\n",
      "[('유나', 32), ('시티', 17), ('타운', 14), ('레알', 6), ('로버', 5), ('스포', 5), ('아비', 5), ('아틀', 5), ('에스', 5), ('클럽', 5), ('리스', 4), ('사우', 4), ('올림', 4), ('올림피', 4), ('이스', 4), ('카운', 4), ('카운티', 4), ('하이', 4), ('레이', 3), ('레인', 3), ('레인저', 3), ('레크', 3), ('메이', 3), ('베로', 3), ('블랙', 3), ('빅토', 3), ('사우스', 3), ('아르', 3), ('올림피아', 3), ('이스트', 3)] \n",
      "\n",
      "#doc=567, score=0.3893, unknown_features=0.1801, num_features=322\n",
      "[('아이', 19), ('아이폰', 18), ('아이폰5', 14), ('디스', 6), ('디스플레이', 6), ('출시', 6), ('디자인', 5), ('갤럭시', 4), ('루머', 4), ('예상', 4), ('있습니다', 4), ('디자인이', 3), ('많은', 3), ('스마트', 3), ('아이폰4', 3), ('아직', 3), ('애플', 3), ('이상', 3), ('장착', 3), ('장착하', 3), ('장착하게', 3), ('조금', 3), ('최근', 3), ('카메라', 3), ('하지만', 3), ('현재', 3), ('2012년', 2), ('800만', 2), ('갤럭시S', 2), ('그리고', 2)] \n",
      "\n",
      "#doc=625, score=0.3296, unknown_features=0.3143, num_features=280\n",
      "[('아이', 15), ('아이폰', 9), ('쿼드', 7), ('쿼드코어', 7), ('아이패', 6), ('아이패드', 6), ('아이폰5', 6), ('것으로', 5), ('듀얼', 3), ('디스', 3), ('디스플레이', 3), ('애플', 3), ('예상', 3), ('합니다', 3), ('가능', 2), ('가능성', 2), ('높아', 2), ('모델', 2), ('모델로', 2), ('서비스', 2), ('스펙', 2), ('오전', 2), ('오후', 2), ('용산', 2), ('지원', 2), ('채용', 2), ('출시', 2), ('한강', 2), ('4인', 1), ('4인치', 1)] \n",
      "\n",
      "#doc=636, score=0.4827, unknown_features=0.2492, num_features=325\n",
      "[('아이', 11), ('아이폰', 11), ('아이폰5', 10), ('아이폰5S', 6), ('움직', 4), ('있다', 4), ('지문', 4), ('터치', 4), ('애플', 3), ('채택', 3), ('2배', 2), ('가격', 2), ('골드', 2), ('구입', 2), ('달라', 2), ('발표', 2), ('배터리', 2), ('비슷', 2), ('사용', 2), ('색상', 2), ('색상이', 2), ('설명', 2), ('스마트', 2), ('스마트폰', 2), ('실버', 2), ('암호', 2), ('약정', 2), ('연결', 2), ('움직이', 2), ('움직임', 2)] \n",
      "\n",
      "#doc=638, score=-0.1052, unknown_features=0.8182, num_features=22\n",
      "[('적용', 1), ('적용차', 1), ('적용차종', 1), ('제품', 1), ('제품번호', 1)] \n",
      "\n",
      "#doc=700, score=0.399, unknown_features=0.3194, num_features=792\n",
      "[('아이', 20), ('아이패', 18), ('아이패드', 18), ('애플', 17), ('아이패드3', 15), ('쿼드', 11), ('쿼드코어', 11), ('애플리케이션', 9), ('프로', 9), ('프로세', 9), ('프로세서', 9), ('생산', 8), ('현재', 8), ('것이', 7), ('장착', 7), ('제품', 7), ('가능', 6), ('삼성', 6), ('것이라', 5), ('공급', 5), ('듀얼', 5), ('있는', 5), ('출시', 5), ('하지만', 5), ('2분', 4), ('2분기', 4), ('가능성', 4), ('반도', 4), ('반도체', 4), ('삼성전', 4)] \n",
      "\n",
      "#doc=720, score=0.195, unknown_features=0.7292, num_features=48\n",
      "[('5천', 1), ('가격', 1), ('담당', 1), ('담당자', 1), ('면적', 1), ('상담', 1), ('서판교', 1), ('연락', 1), ('월세', 1), ('입주', 1), ('입주가', 1), ('전용', 1), ('태영', 1), ('해당', 1), ('화장', 1), ('화장실', 1), ('희망', 1)] \n",
      "\n",
      "#doc=779, score=0.0, unknown_features=1.0, num_features=69\n",
      "[('3부', 1)] \n",
      "\n",
      "#doc=876, score=0.1104, unknown_features=0.3662, num_features=71\n",
      "[('입주', 4), ('2013년', 2), ('예정', 2), ('예정인', 2), ('현장', 2), ('11월', 1), ('12월', 1), ('2014년', 1), ('6월', 1), ('A6블', 1), ('계약', 1), ('계약하', 1), ('계약하시', 1), ('공사', 1), ('답답', 1), ('답답하', 1), ('대강', 1), ('모델', 1), ('모델하우스', 1), ('보여', 1), ('보여주', 1), ('보여주고', 1), ('분들', 1), ('분들이', 1), ('사라', 1), ('상황', 1), ('씨티', 1), ('아파트', 1), ('않습니다', 1), ('어떤', 1)] \n",
      "\n",
      "#doc=882, score=0.09688, unknown_features=0.6239, num_features=117\n",
      "[('단지', 6), ('호반', 6), ('납부', 4), ('상가', 4), ('임대', 4), ('단지내', 3), ('매매', 3), ('분양', 3), ('아파트', 3), ('9개', 2), ('갤러', 2), ('갤러리', 2), ('갤러리아', 2), ('납부하', 2), ('불당', 2), ('펜타', 2), ('10년', 1), ('1층', 1), ('1층에', 1), ('2017년', 1), ('3월', 1), ('A6블', 1), ('계약', 1), ('계약금', 1), ('구성', 1), ('근린', 1), ('나와', 1), ('낙찰', 1), ('낙찰가', 1), ('되었', 1)] \n",
      "\n",
      "#doc=895, score=0.451, unknown_features=0.3038, num_features=372\n",
      "[('아이', 23), ('아이팟', 13), ('아이팟터치', 12), ('아이폰', 8), ('애플', 8), ('아이폰5', 6), ('또한', 5), ('더욱', 4), ('이번', 4), ('4인', 3), ('4인치', 3), ('90만', 3), ('같이', 3), ('루프', 3), ('사진', 3), ('정말', 3), ('탑재', 3), ('탑재되', 3), ('탑재되어', 3), ('편리', 3), ('하지만', 3), ('4세', 2), ('공유', 2), ('그리고', 2), ('기능', 2), ('기대', 2), ('기본', 2), ('뒷면', 2), ('듀얼', 2), ('레티나', 2)] \n",
      "\n",
      "#doc=910, score=0.425, unknown_features=0.2432, num_features=148\n",
      "[('아이', 6), ('아이폰', 6), ('아이폰5', 6), ('구매', 4), ('ㅎㅎ', 3), ('바로', 3), ('아이폰5C', 3), ('화이트', 3), ('간단', 2), ('구매했', 2), ('그린', 2), ('아이폰5S', 2), ('옐로', 2), ('옐로우', 2), ('플라', 2), ('플라스', 2), ('플라스틱', 2), ('하나', 2), ('ㅎㅎㅎ', 1), ('개봉', 1), ('갤럭시', 1), ('겉에', 1), ('고민', 1), ('고민하', 1), ('고민하시', 1), ('구동', 1), ('구매할', 1), ('구매해', 1), ('구성', 1), ('구입', 1)] \n",
      "\n",
      "#doc=918, score=0.4679, unknown_features=0.3355, num_features=304\n",
      "[('아이', 12), ('아이폰', 11), ('아이폰5', 7), ('스펙', 6), ('속도', 5), ('갤럭시', 4), ('듀얼', 4), ('프로', 4), ('프로세', 4), ('프로세서', 4), ('훨씬', 4), ('생각', 3), ('생각합니다', 3), ('업로드', 3), ('출시', 3), ('혁신', 3), ('혁신이', 3), ('갤럭시S', 2), ('갤럭시노트', 2), ('구동', 2), ('그래', 2), ('그래픽', 2), ('그리고', 2), ('너무', 2), ('디스', 2), ('디스플레이', 2), ('떨어', 2), ('떨어지', 2), ('떨어지지', 2), ('레티나', 2)] \n",
      "\n",
      "#doc=932, score=0.4593, unknown_features=0.6765, num_features=68\n",
      "[('방어', 3), ('기합', 2), ('뽐내', 2), ('가디', 1), ('공존', 1), ('구애', 1), ('구조', 1), ('도발', 1), ('돌파', 1), ('되는', 1), ('매우', 1), ('벌레', 1), ('보완', 1), ('보완하', 1), ('불꽃', 1), ('사이', 1), ('사이코', 1), ('생명', 1), ('스톤', 1), ('아이', 1), ('아이언', 1), ('아주', 1), ('앵콜', 1), ('약점', 1), ('엄청', 1), ('열풍', 1), ('오기', 1), ('우수', 1), ('위협', 1), ('이용', 1)] \n",
      "\n",
      "#doc=963, score=0.4074, unknown_features=0.3404, num_features=520\n",
      "[('광명', 30), ('광명역', 22), ('호반', 18), ('취득', 15), ('분양', 7), ('신고', 7), ('아파트', 7), ('납부', 6), ('4억', 5), ('단지', 5), ('목감', 5), ('부동', 5), ('부동산', 5), ('주방', 5), ('분양가', 4), ('설계', 4), ('세대', 4), ('이내', 4), ('이용', 4), ('입주', 4), ('적용', 4), ('경우', 3), ('계산', 3), ('광명역세권', 3), ('배치', 3), ('안방', 3), ('우수', 3), ('이용하', 3), ('있어', 3), ('창문', 3)] \n",
      "\n",
      "#doc=990, score=0.02241, unknown_features=0.6126, num_features=302\n",
      "[('청라', 34), ('아파트', 9), ('청라지구', 9), ('한라', 8), ('분양', 7), ('분양가', 7), ('한라비', 6), ('한라비발디', 6), ('매매', 4), ('선호', 3), ('조망', 3), ('100세', 2), ('A6블', 2), ('가장', 2), ('매매가', 2), ('문의', 2), ('서구', 2), ('선호하', 2), ('위치', 2), ('인천', 2), ('인천시', 2), ('입니다', 2), ('입주', 2), ('10월', 1), ('12개', 1), ('15분', 1), ('2010년', 1), ('2011년', 1), ('2개', 1), ('4개', 1)] \n",
      "\n",
      "#doc=995, score=0.08573, unknown_features=0.3313, num_features=323\n",
      "[('시흥', 19), ('시흥목감', 17), ('목감', 16), ('한양', 12), ('광명', 8), ('광명역', 6), ('레이', 5), ('레이크', 5), ('신안', 5), ('한신', 5), ('광명역세권', 4), ('교통', 4), ('서울', 4), ('이동', 4), ('인근', 4), ('호반', 4), ('강남', 3), ('개통', 3), ('기대', 3), ('기대된다', 3), ('도로', 3), ('아파트', 3), ('여의도', 3), ('이용', 3), ('있다', 3), ('20분', 2), ('30분', 2), ('3분', 2), ('가능', 2), ('가능할', 2)] \n",
      "\n",
      "#doc=1090, score=0.1746, unknown_features=0.3611, num_features=108\n",
      "[('미사', 4), ('미사강변', 4), ('청약', 4), ('마감', 3), ('결과', 2), ('나오', 2), ('나오는', 2), ('마감하', 2), ('마음', 2), ('분들', 2), ('분양', 2), ('타입', 2), ('하는', 2), ('한강', 2), ('A6블', 1), ('A6블록', 1), ('간절', 1), ('거실', 1), ('구조', 1), ('그나마', 1), ('나머지', 1), ('넣으', 1), ('당첨', 1), ('당첨되', 1), ('돌고', 1), ('돌았', 1), ('되어', 1), ('되어있', 1), ('되어있어', 1), ('마감하였', 1)] \n",
      "\n",
      "#doc=1130, score=0.2775, unknown_features=0.2161, num_features=472\n",
      "[('아이', 29), ('아이폰', 29), ('아이폰5', 27), ('아이폰5S', 17), ('구매', 8), ('기능', 7), ('스펙', 6), ('카메라', 6), ('경우', 5), ('다른', 4), ('예약', 4), ('감지', 3), ('기능이', 3), ('만큼', 3), ('보이', 3), ('스마트', 3), ('스마트폰', 3), ('아이폰5s', 3), ('80만', 2), ('가졌', 2), ('가진', 2), ('감지하', 2), ('갤럭시', 2), ('것으로', 2), ('겠지', 2), ('결국', 2), ('과거', 2), ('구동', 2), ('구매자', 2), ('구매하', 2)] \n",
      "\n",
      "#doc=1138, score=0.0, unknown_features=1.0, num_features=357\n",
      "[('무제', 1), ('배너', 1)] \n",
      "\n",
      "#doc=1144, score=0.2556, unknown_features=0.5915, num_features=71\n",
      "[('급매', 2), ('메인', 2), ('코너', 2), ('택지', 2), ('투자', 2), ('000여', 1), ('480만원', 1), ('4억', 1), ('가깝', 1), ('건설', 1), ('대전', 1), ('되고', 1), ('바랍니다', 1), ('보금자리', 1), ('서구', 1), ('세대', 1), ('시작', 1), ('시작이', 1), ('신세', 1), ('신세계', 1), ('아시', 1), ('예정', 1), ('오름', 1), ('오름세', 1), ('위치', 1), ('위치하고', 1), ('입주', 1), ('입주하', 1), ('있는', 1), ('있는데', 1)] \n",
      "\n",
      "#doc=1168, score=0.4168, unknown_features=0.4118, num_features=17\n",
      "[('아우디', 7), ('아우디A', 4), ('아우디A4', 2), ('아우디A6', 1), ('아우디부', 1), ('아우디부품', 1), ('아우디중고', 1)] \n",
      "\n",
      "#doc=1201, score=0.3929, unknown_features=0.2419, num_features=401\n",
      "[('아이', 25), ('아이폰', 22), ('아이폰5', 14), ('스펙', 8), ('것으로', 7), ('차세대', 7), ('프로', 6), ('프로세', 6), ('프로세서', 6), ('밝혀', 5), ('그러', 4), ('보이', 4), ('아이폰5에', 4), ('않았', 4), ('않았다', 4), ('애플', 4), ('장착', 4), ('것이', 3), ('공개', 3), ('구체적', 3), ('그래', 3), ('그래픽', 3), ('기존', 3), ('기존과', 3), ('뉴아', 3), ('뉴아이', 3), ('뉴아이패드', 3), ('다른', 3), ('대한', 3), ('라는', 3)] \n",
      "\n",
      "#doc=1291, score=-0.5422, unknown_features=0.2759, num_features=29\n",
      "[('파주', 3), ('한라', 3), ('한라비', 3), ('한라비발디', 3), ('모델', 2), ('모델하우스', 2), ('운정', 2), ('가람마을', 1), ('구경', 1), ('구경하', 1), ('운정역', 1), ('인테리어', 1)] \n",
      "\n",
      "#doc=1308, score=-0.07794, unknown_features=0.9481, num_features=9960\n",
      "[('유나', 30), ('타운', 14), ('시티', 11), ('사우', 8), ('레알', 7), ('프라', 7), ('로버', 6), ('바르', 6), ('포르', 6), ('사우스', 5), ('슈투트가르트', 5), ('스타', 5), ('슬로', 5), ('에스', 5), ('크라', 5), ('클럽', 5), ('프라하', 5), ('하이', 5), ('뉴욕', 4), ('레드', 4), ('레인', 4), ('레인저', 4), ('로코', 4), ('로코모티', 4), ('뮌헨', 4), ('바이', 4), ('베르', 4), ('스파', 4), ('스파르', 4), ('아스', 4)] \n",
      "\n",
      "#doc=1323, score=-0.1333, unknown_features=0.5515, num_features=359\n",
      "[('입주', 17), ('공공', 13), ('미사', 13), ('입주예정', 10), ('미사강변', 9), ('민영', 9), ('2016년', 7), ('2014년', 5), ('2015년', 5), ('분양', 5), ('6월', 4), ('상가', 4), ('3월', 3), ('아파트', 3), ('좋은', 3), ('푸르', 3), ('푸르지오', 3), ('10월', 2), ('3개', 2), ('4월', 2), ('7월', 2), ('8월', 2), ('9월', 2), ('관심', 2), ('기회', 2), ('안내', 2), ('안내해', 2), ('오피', 2), ('오피스', 2), ('오피스텔', 2)] \n",
      "\n",
      "#doc=1345, score=0.2133, unknown_features=0.4891, num_features=92\n",
      "[('블럭', 4), ('입주', 3), ('입주예정', 3), ('전세', 3), ('000원', 2), ('2013년', 2), ('금액', 2), ('분양', 2), ('햇살', 2), ('11월', 1), ('12월', 1), ('2014년', 1), ('24평', 1), ('30평', 1), ('34평', 1), ('6월', 1), ('구하', 1), ('구하기', 1), ('나온', 1), ('되는', 1), ('되는것', 1), ('되었', 1), ('마감', 1), ('많이', 1), ('매매', 1), ('반갑', 1), ('보금자리', 1), ('비슷', 1), ('비슷하', 1), ('설치', 1)] \n",
      "\n",
      "#doc=1370, score=0.0, unknown_features=1.0, num_features=80\n",
      "[('무제', 1)] \n",
      "\n",
      "#doc=1391, score=0.2365, unknown_features=0.2222, num_features=36\n",
      "[('아이', 2), ('아이폰', 2), ('완전', 2), ('이어', 2), ('다시', 1), ('다시보', 1), ('듀얼', 1), ('디스', 1), ('디스플레이', 1), ('레티나', 1), ('모르', 1), ('모르겠', 1), ('부럽', 1), ('부럽지', 1), ('심플', 1), ('심플하', 1), ('아이폰3gs', 1), ('아이폰5', 1), ('애플', 1), ('역시', 1), ('예전', 1), ('전체', 1), ('차이', 1), ('충전', 1), ('충전기', 1), ('케이', 1), ('케이스', 1), ('쿼드', 1), ('쿼드코어', 1), ('흐려', 1)] \n",
      "\n",
      "#doc=1448, score=0.4302, unknown_features=0.3041, num_features=444\n",
      "[('광명', 16), ('호반', 12), ('광명역', 10), ('시흥', 9), ('목감', 8), ('시흥목감', 5), ('있는', 5), ('광명시', 4), ('상업', 4), ('이어', 4), ('청약', 4), ('합니다', 4), ('가지고', 3), ('경기', 3), ('경기도', 3), ('분양', 3), ('위치', 3), ('인프라', 3), ('좋아', 3), ('하니', 3), ('거리', 2), ('교통', 2), ('단지', 2), ('도보', 2), ('들어', 2), ('또한', 2), ('분들', 2), ('성공', 2), ('순위', 2), ('신안', 2)] \n",
      "\n",
      "#doc=1485, score=0.4194, unknown_features=0.3979, num_features=568\n",
      "[('호반', 15), ('부산', 14), ('명지', 13), ('2차', 11), ('분양', 11), ('단지', 9), ('예정', 7), ('목감', 5), ('시흥', 5), ('천안', 5), ('높은', 4), ('위치', 4), ('입주', 4), ('지상', 4), ('1차', 3), ('1층', 3), ('29일', 3), ('8월', 3), ('9월', 3), ('가구', 3), ('공간', 3), ('광명', 3), ('구성', 3), ('구성된', 3), ('동탄', 3), ('동탄2', 3), ('또한', 3), ('마련', 3), ('버스', 3), ('예정이', 3)] \n",
      "\n",
      "#doc=1494, score=0.3696, unknown_features=0.2427, num_features=239\n",
      "[('아이', 16), ('아이폰', 14), ('아이폰5', 9), ('세로', 4), ('아이폰4', 4), ('지원', 4), ('출시', 4), ('8시', 3), ('그래', 3), ('길이', 3), ('두께', 3), ('화면', 3), ('10시', 2), ('1차', 2), ('같은', 2), ('무게', 2), ('속도', 2), ('아이콘', 2), ('아이폰4S', 2), ('애플', 2), ('재생', 2), ('출시국', 2), ('탑재', 2), ('한국', 2), ('2배', 1), ('3세대', 1), ('4인', 1), ('4인치', 1), ('5개', 1), ('800만', 1)] \n",
      "\n",
      "#doc=1545, score=0.4168, unknown_features=0.8039, num_features=51\n",
      "[('아우디', 7), ('아우디A', 3), ('아우디A6', 2), ('노아', 1), ('뉴A', 1), ('뉴A6', 1), ('아우디부', 1), ('아우디부품', 1), ('아우디중고', 1), ('적용', 1), ('적용차', 1)] \n",
      "\n",
      "#doc=1629, score=0.01745, unknown_features=0.7026, num_features=797\n",
      "[('용지', 49), ('최대', 16), ('봉투', 14), ('기준', 11), ('복사', 8), ('분당', 8), ('두꺼', 7), ('이하', 7), ('컬러', 7), ('흑백', 7), ('본드', 6), ('인쇄', 6), ('지원', 6), ('카드', 6), ('옵션', 5), ('제품', 5), ('대기', 4), ('무게', 4), ('토너', 4), ('광택', 3), ('다목적', 3), ('라벨', 3), ('속도', 3), ('아카', 3), ('일반', 3), ('있습니다', 3), ('재생', 3), ('펀치', 3), ('편지', 3), ('편집', 3)] \n",
      "\n",
      "#doc=1632, score=-0.2272, unknown_features=0.5918, num_features=49\n",
      "[('입주', 3), ('씨티', 2), ('입주예정', 2), ('있습니다', 2), ('11월', 1), ('12월', 1), ('2014년', 1), ('6월', 1), ('A6블', 1), ('가장', 1), ('남겨', 1), ('남겨두', 1), ('남아', 1), ('남았', 1), ('많은', 1), ('물량', 1), ('예정', 1), ('예정인', 1), ('원흥', 1)] \n",
      "\n",
      "#doc=1659, score=-0.02847, unknown_features=0.996, num_features=2248\n",
      "[('제품', 2), ('결합', 1), ('링크', 1), ('무선', 1), ('부가', 1), ('부가세', 1), ('아키', 1), ('아키텍', 1), ('아키텍처', 1)] \n",
      "\n",
      "#doc=1662, score=0.03827, unknown_features=0.9621, num_features=264\n",
      "[('연주', 2), ('연주곡', 2), ('피아', 2), ('들고', 1), ('망가', 1), ('모습', 1), ('모습에', 1), ('뮤직', 1), ('발랄', 1), ('안겨', 1), ('안겨주', 1), ('있는', 1), ('자신', 1), ('작곡', 1), ('작곡가', 1), ('제목', 1), ('제작', 1), ('출신', 1), ('캐나다', 1), ('프랭', 1), ('피아노', 1), ('피아니스트', 1)] \n",
      "\n",
      "#doc=1663, score=0.1333, unknown_features=0.3204, num_features=387\n",
      "[('시흥', 20), ('목감', 18), ('시흥목감', 14), ('광명', 11), ('광명역', 8), ('호반', 8), ('광명역세권', 6), ('수도', 6), ('수도권', 6), ('아파트', 6), ('한신', 6), ('레이', 5), ('레이크', 5), ('퍼스', 5), ('퍼스트', 5), ('한양', 5), ('가능', 4), ('관심', 4), ('교통', 4), ('신안', 4), ('가능할', 3), ('것으로', 3), ('인접', 3), ('있는', 3), ('있다', 3), ('있어', 3), ('택지', 3), ('감안', 2), ('강남', 2), ('개통', 2)] \n",
      "\n",
      "#doc=1678, score=0.447, unknown_features=0.2215, num_features=316\n",
      "[('아이', 19), ('아이패', 18), ('아이패드', 18), ('아이패드3', 15), ('가격', 6), ('이번', 6), ('출시', 6), ('블로그', 4), ('있습니다', 4), ('아이패드2', 3), ('애플', 3), ('예상', 3), ('정말', 3), ('3월', 2), ('가격은', 2), ('갤럭시', 2), ('거의', 2), ('구입', 2), ('궁금', 2), ('그럼', 2), ('나오', 2), ('디스', 2), ('디스플레이', 2), ('레티나', 2), ('보도', 2), ('비교', 2), ('소식', 2), ('시장', 2), ('예상되', 2), ('이번에', 2)] \n",
      "\n",
      "#doc=1691, score=0.1116, unknown_features=0.3474, num_features=95\n",
      "[('아파트', 9), ('고양', 6), ('경기', 5), ('경기도', 5), ('고양시', 3), ('고양원흥', 3), ('보금자리', 3), ('원흥', 3), ('원흥동', 3), ('레이', 2), ('레이크', 2), ('분양', 2), ('수영', 2), ('수원', 2), ('수원시', 2), ('양산', 2), ('전농', 2), ('푸르', 2), ('푸르지오', 2), ('2011년', 1), ('2011년1', 1), ('A6블', 1), ('A6블록', 1), ('경상', 1), ('경상남도', 1), ('당첨', 1), ('당첨자', 1), ('대전', 1), ('대전도', 1), ('동대문', 1)] \n",
      "\n",
      "#doc=1694, score=0.2864, unknown_features=0.2983, num_features=580\n",
      "[('아이', 30), ('아이패', 24), ('아이패드', 24), ('애플', 11), ('프로', 10), ('프로세', 10), ('프로세서', 10), ('지원', 9), ('쿼드', 9), ('쿼드코어', 9), ('디스', 8), ('디스플레이', 8), ('기능', 7), ('레티나', 7), ('탑재', 6), ('발표', 5), ('아이패드에', 5), ('것이', 4), ('아이패드2', 4), ('아이폰', 4), ('채택', 4), ('카메라', 4), ('해상', 4), ('해상도', 4), ('것이라', 3), ('구현', 3), ('듀얼', 3), ('모델', 3), ('있습니다', 3), ('하지만', 3)] \n",
      "\n",
      "#doc=1795, score=0.2494, unknown_features=0.4416, num_features=77\n",
      "[('아파트', 3), ('가까', 2), ('단지', 2), ('운정', 2), ('운정역', 2), ('있답니다', 2), ('파주', 2), ('1억', 1), ('1억5', 1), ('34평', 1), ('ㅎㅎ', 1), ('가까워', 1), ('가까이', 1), ('가깝', 1), ('단지내', 1), ('도서', 1), ('도서관', 1), ('라인', 1), ('라인이', 1), ('로얄', 1), ('무섭', 1), ('물건', 1), ('물건이', 1), ('믿으', 1), ('보이', 1), ('보이는', 1), ('북한', 1), ('빠지', 1), ('서두', 1), ('서두르', 1)] \n",
      "\n",
      "#doc=1823, score=0.1487, unknown_features=0.7, num_features=20\n",
      "[('수입차', 2), ('중고', 2), ('중고부품', 2), ('수입차부', 1), ('수입차부품', 1), ('외제차', 1)] \n",
      "\n",
      "#doc=1854, score=0.1065, unknown_features=0.9689, num_features=3055\n",
      "[('아이', 8), ('아이폰', 8), ('아이폰5', 8), ('아이폰5C', 4), ('발표', 3), ('아이폰5S', 3), ('애플', 3), ('탑재', 3), ('특징', 3), ('4인', 2), ('4인치', 2), ('두께', 2), ('메모리', 2), ('무게', 2), ('색상', 2), ('시스템', 2), ('전면', 2), ('2년', 1), ('가격', 1), ('골드', 1), ('공식', 1), ('기존', 1), ('기준', 1), ('내용', 1), ('노랑', 1), ('녹색', 1), ('대동', 1), ('동작', 1), ('듀얼', 1), ('루머', 1)] \n",
      "\n",
      "#doc=1871, score=0.0, unknown_features=1.0, num_features=5\n",
      "[('드래', 1), ('드래곤', 1), ('레어', 1)] \n",
      "\n",
      "#doc=2008, score=0.4649, unknown_features=0.381, num_features=126\n",
      "[('한다', 6), ('애플', 5), ('아이', 4), ('채용', 4), ('그래', 3), ('그래픽', 3), ('트리', 3), ('듀얼', 2), ('벌써', 2), ('스피', 2), ('스피드', 2), ('아이패', 2), ('아이패드', 2), ('아이폰', 2), ('채용하', 2), ('클럭', 2), ('확인', 2), ('2012년', 1), ('2012년도', 1), ('2배', 1), ('3세대', 1), ('5세', 1), ('5세대', 1), ('가능', 1), ('가능성', 1), ('가장', 1), ('같이', 1), ('구동', 1), ('그리고', 1), ('높다', 1)] \n",
      "\n",
      "#doc=2014, score=0.4472, unknown_features=0.3669, num_features=169\n",
      "[('아이', 6), ('아이패', 5), ('아이패드', 5), ('아이패드3', 5), ('있다', 5), ('것으로', 3), ('애플', 3), ('기기', 2), ('예상', 2), ('전망', 2), ('지원', 2), ('통해', 2), ('1이', 1), ('1차', 1), ('26일', 1), ('2월', 1), ('3월', 1), ('7인', 1), ('7인치', 1), ('7일', 1), ('가능', 1), ('가능성', 1), ('고조', 1), ('고조시', 1), ('공개', 1), ('기대', 1), ('기대감', 1), ('내다', 1), ('내다보', 1), ('내용', 1)] \n",
      "\n",
      "#doc=2035, score=-0.05999, unknown_features=0.5588, num_features=68\n",
      "[('아이', 3), ('아이패', 3), ('아이패드', 3), ('아이패드3', 3), ('지원', 2), ('쿼드', 2), ('쿼드코어', 2), ('1일', 1), ('4세', 1), ('개발', 1), ('뉴스', 1), ('도구', 1), ('사용', 1), ('사용해', 1), ('사진', 1), ('애플', 1), ('외신', 1), ('제기', 1), ('주장', 1), ('주장이', 1), ('지원한', 1), ('지원한다', 1), ('차세대', 1), ('출력', 1), ('태블릿', 1), ('통신', 1), ('포함', 1), ('포함하', 1), ('현지', 1)] \n",
      "\n",
      "#doc=2077, score=0.4679, unknown_features=0.2319, num_features=263\n",
      "[('아이', 12), ('아이폰', 11), ('애플', 7), ('아이폰5', 6), ('기존', 4), ('칩셋', 4), ('케이', 4), ('케이스', 4), ('동일', 3), ('동일하', 3), ('디자인', 3), ('발표', 3), ('비교', 3), ('아이폰5C', 3), ('올라', 3), ('제작', 3), ('가장', 2), ('기존에', 2), ('디바', 2), ('보입니다', 2), ('봤을', 2), ('비교했을', 2), ('성능', 2), ('성능이', 2), ('아이폰5S', 2), ('2배', 1), ('5가지', 1), ('가격', 1), ('가능', 1), ('가능하', 1)] \n",
      "\n",
      "#doc=2089, score=0.4861, unknown_features=0.3333, num_features=246\n",
      "[('아이', 6), ('아이폰', 4), ('프로', 4), ('프로세', 4), ('프로세서', 4), ('기다', 3), ('기다리', 3), ('나왔', 3), ('새로', 3), ('이어', 3), ('화면', 3), ('기다리고', 2), ('기존', 2), ('단자', 2), ('보시', 2), ('사진', 2), ('생겼', 2), ('아이폰5', 2), ('애플', 2), ('우선', 2), ('제일', 2), ('중요', 2), ('중요한', 2), ('테스트', 2), ('1차', 1), ('4인', 1), ('4인치', 1), ('800만', 1), ('ㅠㅠ', 1), ('가격', 1)] \n",
      "\n",
      "#doc=2100, score=0.4388, unknown_features=0.8986, num_features=207\n",
      "[('계열', 5), ('보드', 3), ('셀러', 3), ('시리즈', 3), ('프로', 3), ('가능', 1), ('경우', 1), ('듀얼', 1), ('레고', 1), ('사르', 1), ('사용', 1), ('싱글', 1), ('참고', 1), ('참고자료', 1), ('출처', 1), ('칼리', 1), ('쿼드', 1), ('쿼드코어', 1), ('트리', 1), ('헥사', 1)] \n",
      "\n",
      "#doc=2132, score=-0.2839, unknown_features=0.7229, num_features=332\n",
      "[('체스', 30), ('디펜', 5), ('시실리', 5), ('엔딩', 5), ('오프', 5), ('오프닝', 5), ('체크', 5), ('안좋', 3), ('입니다', 3), ('좋은', 3), ('게임', 2), ('공격', 2), ('다음', 2), ('분석', 2), ('수인', 2), ('제가', 2), ('15분', 1), ('2번', 1), ('2번째', 1), ('3번', 1), ('3번째', 1), ('4번', 1), ('결과', 1), ('결국', 1), ('공부', 1), ('교환', 1), ('교환하', 1), ('교환하는', 1), ('규칙', 1), ('그러', 1)] \n",
      "\n",
      "#doc=2153, score=-0.1052, unknown_features=0.6, num_features=10\n",
      "[('도이', 1), ('따위', 1), ('레오', 1), ('레오파', 1), ('메이', 1), ('메이드', 1), ('산화', 1), ('없어', 1), ('전차', 1)] \n",
      "\n",
      "#doc=2294, score=-0.1292, unknown_features=0.9297, num_features=2690\n",
      "[('유나', 9), ('레알', 6), ('시티', 5), ('아틀', 5), ('리버', 4), ('모스', 4), ('스파', 4), ('스파르', 4), ('모스크바', 3), ('몬테', 3), ('바르', 3), ('세비야', 3), ('스파르타', 3), ('아르', 3), ('알라', 3), ('에버', 3), ('카르', 3), ('크라', 3), ('페트', 3), ('드니프로', 2), ('레버', 2), ('메탈', 2), ('바이', 2), ('바이어', 2), ('방콕', 2), ('베스', 2), ('보르', 2), ('부육셰히르', 2), ('브라', 2), ('사라', 2)] \n",
      "\n",
      "#doc=2342, score=0.2946, unknown_features=0.9473, num_features=740\n",
      "[('상대', 7), ('선발', 5), ('성적', 5), ('방어', 3), ('뉴욕', 2), ('시즌', 2), ('시카고', 2), ('1세', 1), ('가르', 1), ('노리', 1), ('디트로이트', 1), ('로스', 1), ('로이', 1), ('루이', 1), ('루이스', 1), ('마이', 1), ('마이크', 1), ('마크', 1), ('미네', 1), ('바르', 1), ('배당', 1), ('버드', 1), ('번호', 1), ('벌리', 1), ('보니', 1), ('부분', 1), ('사나', 1), ('색칠', 1), ('샌디', 1), ('샌디에고', 1)] \n",
      "\n",
      "#doc=2343, score=0.03827, unknown_features=0.6327, num_features=245\n",
      "[('운정', 38), ('파주', 19), ('아파트', 10), ('한빛', 8), ('가람마을', 7), ('휴먼', 7), ('휴먼시아', 7), ('교하', 6), ('동문', 4), ('공동', 3), ('통일', 3), ('한라', 3), ('한라비', 3), ('한라비발디', 3), ('혁신', 3), ('1통', 2), ('6단', 2), ('벽산', 2), ('월드', 2), ('월드메르디앙', 2), ('자유', 2), ('자유로', 2), ('지산', 2), ('한가', 2), ('한가람', 2), ('현대', 2), ('현대아', 2), ('현대아파트', 2), ('2동', 1), ('3단', 1)] \n",
      "\n",
      "#doc=2346, score=0.411, unknown_features=0.1684, num_features=95\n",
      "[('아이', 9), ('아이폰', 9), ('아이폰5', 7), ('ㅋㅋ', 6), ('ㅋㅋㅋ', 6), ('ㅋㅋㅋㅋ', 6), ('사고', 3), ('사고싶', 3), ('빠른', 2), ('A6칩', 1), ('가벼', 1), ('가장', 1), ('간지', 1), ('검색', 1), ('그냥', 1), ('그래', 1), ('그래픽', 1), ('그런', 1), ('그런데', 1), ('네트', 1), ('네트워크', 1), ('노예', 1), ('다운', 1), ('두배', 1), ('디스', 1), ('디스플레이', 1), ('디자인', 1), ('마음', 1), ('마음에', 1), ('맞게', 1)] \n",
      "\n",
      "#doc=2482, score=0.4268, unknown_features=0.2397, num_features=121\n",
      "[('아이', 6), ('아이폰', 6), ('갤럭시', 5), ('갤럭시노트', 5), ('아이폰5', 5), ('대결', 3), ('선택', 3), ('소비자', 3), ('더욱', 2), ('삼성', 2), ('스마트', 2), ('스마트폰', 2), ('애플', 2), ('4인', 1), ('4인치', 1), ('800만', 1), ('가벼', 1), ('가벼워', 1), ('가벼워졌', 1), ('가운데', 1), ('것으로', 1), ('공개', 1), ('공개된', 1), ('궁금', 1), ('궁금해', 1), ('궁금해지', 1), ('기능', 1), ('늘어', 1), ('늘어났', 1), ('달리', 1)] \n",
      "\n",
      "#doc=2486, score=-0.5676, unknown_features=0.4619, num_features=1717\n",
      "[('도시', 457), ('도시바', 457), ('액정', 2), ('일산', 1), ('입고', 1), ('정상', 1), ('제조', 1), ('제조사', 1), ('출고', 1), ('행신', 1), ('행신동', 1), ('확인', 1), ('확인후', 1)] \n",
      "\n",
      "#doc=2516, score=0.4193, unknown_features=0.3559, num_features=281\n",
      "[('아이', 10), ('아이폰', 9), ('프로', 6), ('프로세', 6), ('프로세서', 6), ('것으로', 5), ('아이폰5', 4), ('애플', 4), ('뉴아', 3), ('뉴아이', 3), ('뉴아이패드', 3), ('매체', 3), ('않았', 3), ('예상', 3), ('차세대', 3), ('공개', 2), ('그러', 2), ('기사', 2), ('달리', 2), ('대한', 2), ('링크', 2), ('명칭', 2), ('모바일', 2), ('밝혀', 2), ('삼성', 2), ('새로', 2), ('생산', 2), ('아래', 2), ('아이폰5에', 2), ('아이폰에', 2)] \n",
      "\n",
      "#doc=2548, score=-0.4236, unknown_features=0.375, num_features=8\n",
      "[('A6블', 1), ('A6블록', 1), ('단지', 1), ('목감', 1), ('시흥', 1), ('지구', 1)] \n",
      "\n"
     ]
    },
    {
     "name": "stdout",
     "output_type": "stream",
     "text": [
      "#doc=2609, score=0.3589, unknown_features=0.3541, num_features=466\n",
      "[('광명', 28), ('광명역', 23), ('파크', 6), ('푸르', 6), ('푸르지오', 6), ('호반', 6), ('효성', 6), ('개발', 5), ('광명역세권', 5), ('오피', 5), ('오피스', 5), ('오피스텔', 5), ('이용', 5), ('중심', 5), ('중심상', 4), ('퍼스', 4), ('퍼스트', 4), ('개통', 3), ('대중', 3), ('대중교통', 3), ('도보', 3), ('롯데', 3), ('면적', 3), ('시흥', 3), ('시흥목감', 3), ('아울', 3), ('위치', 3), ('있다', 3), ('코스', 3), ('코스트', 3)] \n",
      "\n",
      "#doc=2620, score=0.1575, unknown_features=0.6257, num_features=179\n",
      "[('미니', 8), ('아우디', 8), ('벤츠', 6), ('5시', 2), ('5시리즈', 2), ('네비', 2), ('모니터', 2), ('벤츠네비', 2), ('벤츠네비게이션', 2), ('벤츠매', 2), ('수입차', 2), ('핸드', 2), ('핸드폰', 2), ('BMW5시리즈', 1), ('BMW네비', 1), ('BMW리', 1), ('BMW매', 1), ('BMW미니', 1), ('bmw리', 1), ('구로', 1), ('네비게이션', 1), ('뒷좌석', 1), ('리어', 1), ('리어모니터', 1), ('매립', 1), ('미니쿠퍼', 1), ('미러', 1), ('미러링', 1), ('벤츠전', 1), ('수입차네비', 1)] \n",
      "\n",
      "#doc=2667, score=-0.02847, unknown_features=0.3077, num_features=91\n",
      "[('시흥', 5), ('시흥목감', 3), ('입주', 3), ('000원', 2), ('9월', 2), ('A6블', 2), ('거주', 2), ('많아', 2), ('입주예정', 2), ('2대', 1), ('5대', 1), ('A6블록', 1), ('가장', 1), ('거주하', 1), ('결과', 1), ('경기', 1), ('경기도', 1), ('경쟁', 1), ('경쟁률', 1), ('공공', 1), ('관심', 1), ('광명', 1), ('광명시', 1), ('기록', 1), ('기록했', 1), ('기록했다', 1), ('단지', 1), ('대한', 1), ('많아지', 1), ('매매', 1)] \n",
      "\n",
      "#doc=2745, score=0.3669, unknown_features=0.4375, num_features=16\n",
      "[('아우디', 7), ('아우디A', 2), ('아우디A6', 2), ('아우디뉴', 1), ('아우디뉴A6', 1), ('아우디부', 1), ('아우디부품', 1), ('아우디중고', 1)] \n",
      "\n",
      "#doc=2762, score=0.4332, unknown_features=0.2335, num_features=257\n",
      "[('아이', 13), ('아이폰', 11), ('아이폰5', 10), ('정보', 5), ('보이', 4), ('아이폰5C', 4), ('아이폰5S', 4), ('있다', 4), ('가능', 3), ('가능성', 3), ('것으로', 3), ('발표', 3), ('색상', 3), ('중저', 3), ('9월', 2), ('것이', 2), ('것이라', 2), ('듀얼', 2), ('모델', 2), ('발매', 2), ('보이고', 2), ('시장', 2), ('시즌', 2), ('아이패', 2), ('아이패드', 2), ('애플', 2), ('이미', 2), ('이미지', 2), ('추가', 2), ('추측', 2)] \n",
      "\n",
      "#doc=2818, score=-0.1052, unknown_features=0.8462, num_features=26\n",
      "[('계측', 1), ('대체', 1), ('도시', 1), ('도시바', 1), ('메모리', 1), ('인쇄', 1), ('히로', 1)] \n",
      "\n",
      "#doc=2941, score=-0.42, unknown_features=0.9604, num_features=2350\n",
      "[('유나', 6), ('모스', 4), ('스파', 4), ('스파르', 4), ('스파르타', 4), ('실내', 4), ('모스크바', 3), ('라이', 2), ('바레', 2), ('세인트', 2), ('스타', 2), ('2014년', 1), ('2014년0', 1), ('그라', 1), ('그린', 1), ('나시오날', 1), ('노르', 1), ('니즈', 1), ('더블', 1), ('도미', 1), ('두바이', 1), ('드로', 1), ('라이노', 1), ('라이온', 1), ('레인', 1), ('레인저', 1), ('레지', 1), ('로버', 1), ('로스', 1), ('로스토', 1)] \n",
      "\n",
      "#doc=2964, score=0.1647, unknown_features=0.3273, num_features=55\n",
      "[('A6블', 3), ('남아', 3), ('1층', 2), ('상세', 2), ('설명', 2), ('설명해', 2), ('원흥', 2), ('있습니다', 2), ('현재', 2), ('2세', 1), ('2세대', 1), ('43세', 1), ('60일', 1), ('A6블록', 1), ('계약', 1), ('계약금', 1), ('높은', 1), ('드리', 1), ('드립니다', 1), ('많이', 1), ('모델', 1), ('모델하우스', 1), ('분양', 1), ('분양가', 1), ('없습니다', 1), ('연두', 1), ('입니다', 1), ('잔금', 1), ('전세', 1), ('전화', 1)] \n",
      "\n",
      "#doc=2979, score=0.1155, unknown_features=0.8923, num_features=20904\n",
      "[('10월', 708), ('10월1', 514), ('유나', 96), ('시티', 48), ('타운', 45), ('레알', 36), ('스타', 20), ('아틀', 20), ('포르', 17), ('바르', 15), ('브라', 15), ('에르', 14), ('에스', 14), ('프라', 14), ('마드리', 13), ('스포', 13), ('카운', 13), ('카운티', 13), ('포르투', 13), ('레이', 12), ('올림', 12), ('크라', 12), ('프로', 12), ('레드', 11), ('레인', 11), ('레인저', 11), ('모스', 11), ('스파', 11), ('스파르', 11), ('아스', 11)] \n",
      "\n",
      "#doc=2992, score=0.03827, unknown_features=0.4444, num_features=9\n",
      "[('아우디', 4), ('아우디A', 1), ('아우디A6', 1), ('아우디부', 1), ('아우디부품', 1), ('아우디중고', 1)] \n",
      "\n",
      "#doc=3005, score=0.03827, unknown_features=0.3814, num_features=97\n",
      "[('미사', 4), ('미사강변', 4), ('강남', 2), ('모델', 2), ('모델하우스', 2), ('소개', 2), ('입지', 2), ('전용', 2), ('총1', 2), ('한강', 2), ('11개', 1), ('2016년', 1), ('4세', 1), ('9월', 1), ('가능', 1), ('가능한', 1), ('계약', 1), ('관심', 1), ('구성', 1), ('구성된', 1), ('꼽히', 1), ('넘겨', 1), ('높은', 1), ('높은데', 1), ('대규모', 1), ('대단', 1), ('대단지', 1), ('뛰어', 1), ('뛰어난', 1), ('분양', 1)] \n",
      "\n",
      "#doc=3064, score=0.2862, unknown_features=0.2565, num_features=382\n",
      "[('아이', 32), ('아이폰', 32), ('아이폰5', 29), ('출시', 8), ('것으로', 4), ('관심', 4), ('디자인', 4), ('사용', 4), ('출시일', 4), ('10월', 3), ('기능', 3), ('또한', 3), ('사양', 3), ('있는', 3), ('카메라', 3), ('10월에', 2), ('2년', 2), ('800만', 2), ('강화', 2), ('강화유리', 2), ('같습니다', 2), ('보입니다', 2), ('세계', 2), ('소식', 2), ('신문', 2), ('아이폰5에', 2), ('안테나', 2), ('예상', 2), ('전문', 2), ('집중', 2)] \n",
      "\n",
      "#doc=3091, score=-0.09292, unknown_features=0.9051, num_features=12585\n",
      "[('유나', 88), ('시티', 47), ('타운', 42), ('레알', 27), ('레이', 15), ('포르', 15), ('브라', 14), ('스타', 12), ('스포', 12), ('카운', 12), ('카운티', 12), ('포르투', 12), ('프로', 12), ('에스', 11), ('로버', 10), ('마드리', 10), ('바르', 10), ('에르', 10), ('레드', 9), ('레인', 9), ('레인저', 9), ('메이', 9), ('아르', 9), ('아스', 9), ('아틀', 9), ('알비', 9), ('오스', 9), ('원더', 9), ('이스', 9), ('파리', 9)] \n",
      "\n",
      "#doc=3099, score=0.4168, unknown_features=0.9415, num_features=171\n",
      "[('녹음', 2), ('1999년', 1), ('2000년', 1), ('녹음했', 1), ('맥락', 1), ('모르', 1), ('모르겠', 1), ('모르겠다', 1), ('아니', 1), ('아니면', 1), ('아무', 1), ('언제', 1), ('없이', 1)] \n",
      "\n",
      "#doc=3118, score=0.3281, unknown_features=0.2943, num_features=401\n",
      "[('아이', 29), ('아이패', 25), ('아이패드', 25), ('아이패드3', 16), ('애플', 6), ('가격', 5), ('스펙', 5), ('아이패드2', 5), ('홈버튼', 5), ('사진', 4), ('새로', 4), ('합니다', 4), ('3월', 3), ('가격이', 3), ('발표', 3), ('이미', 3), ('이미지', 3), ('8일', 2), ('공개', 2), ('기대', 2), ('또한', 2), ('레티나', 2), ('새벽', 2), ('생각', 2), ('싶습니다', 2), ('아닌', 2), ('아이팟', 2), ('아이폰', 2), ('우리', 2), ('있습니다', 2)] \n",
      "\n",
      "#doc=3120, score=0.0, unknown_features=1.0, num_features=12\n",
      "[('건방', 2), ('구상', 1), ('미정', 1), ('손톱', 1), ('스톤', 1)] \n",
      "\n",
      "#doc=3125, score=0.4388, unknown_features=0.4, num_features=210\n",
      "[('미사', 11), ('미사강변', 8), ('서울', 5), ('예정', 5), ('한강', 5), ('2차', 4), ('인접', 4), ('푸르', 4), ('푸르지오', 4), ('하남', 4), ('공급', 3), ('교육', 3), ('5호', 2), ('가능', 2), ('강남', 2), ('강동', 2), ('개발', 2), ('기대', 2), ('기대되', 2), ('기대되는', 2), ('단지', 2), ('복합', 2), ('분양', 2), ('연장', 2), ('인근', 2), ('자연', 2), ('자연환경', 2), ('조망', 2), ('지역', 2), ('최대', 2)] \n",
      "\n",
      "#doc=3130, score=0.2413, unknown_features=0.2756, num_features=156\n",
      "[('아이', 7), ('아이폰', 7), ('아이폰5', 7), ('아이폰5S', 5), ('출시', 4), ('가격', 3), ('합니다', 3), ('국내', 2), ('아이폰5C', 2), ('애플', 2), ('출시국', 2), ('출시되', 2), ('25일', 1), ('2차', 1), ('3일', 1), ('75만', 1), ('9일', 1), ('ㄷㄷ', 1), ('가격은', 1), ('가격이', 1), ('갤럭시', 1), ('경쟁', 1), ('골드', 1), ('국내시장', 1), ('국내시장에', 1), ('국내에', 1), ('궁금', 1), ('궁금하', 1), ('그리스', 1), ('금속', 1)] \n",
      "\n",
      "#doc=3162, score=0.4712, unknown_features=0.2097, num_features=186\n",
      "[('아이', 15), ('아이폰', 15), ('아이폰5', 9), ('사전', 4), ('사전예약', 4), ('스펙', 3), ('아이폰4', 3), ('출시', 3), ('공개', 2), ('기다', 2), ('되었', 2), ('되었습니다', 2), ('받을', 2), ('애플', 2), ('있습니다', 2), ('작년', 2), ('카페', 2), ('4인', 1), ('4인치', 1), ('5에', 1), ('ㅎㅎ', 1), ('가격', 1), ('가격이', 1), ('가볍', 1), ('공개된', 1), ('관심', 1), ('그대로', 1), ('그립', 1), ('기다려', 1), ('기다리', 1)] \n",
      "\n",
      "#doc=3271, score=0.2906, unknown_features=0.2602, num_features=565\n",
      "[('아이', 30), ('아이패', 30), ('아이패드', 30), ('아이패드3', 15), ('루머', 11), ('디스', 9), ('디스플레이', 9), ('아이패드2', 9), ('디자인', 7), ('레티나', 7), ('출시', 7), ('같습니다', 6), ('많은', 6), ('예상', 6), ('쿼드', 6), ('쿼드코어', 6), ('탑재', 6), ('듀얼', 5), ('생각', 5), ('스펙', 5), ('가능', 4), ('가능하', 4), ('버튼', 4), ('비슷', 4), ('생각합니다', 4), ('아직', 4), ('애플', 4), ('예상하', 4), ('있습니다', 4), ('크기', 4)] \n",
      "\n",
      "#doc=3294, score=0.3466, unknown_features=0.2748, num_features=131\n",
      "[('아이', 6), ('시계', 5), ('루머', 4), ('디자인', 3), ('애플', 3), ('5세', 2), ('5세대', 2), ('블루', 2), ('블루투스', 2), ('스마트', 2), ('스펙', 2), ('아이팟', 2), ('아이팟터치', 2), ('아이폰', 2), ('아이폰5', 2), ('앱스토어', 2), ('이렇게', 2), ('최근', 2), ('카메라', 2), ('컨셉', 2), ('1년', 1), ('5인', 1), ('800만', 1), ('A6칩', 1), ('간지', 1), ('간지나', 1), ('결국', 1), ('구체적', 1), ('나오', 1), ('나오기', 1)] \n",
      "\n",
      "#doc=3324, score=-0.5749, unknown_features=0.25, num_features=8\n",
      "[('A6블', 1), ('A6블록', 1), ('시흥', 1), ('시흥목감', 1), ('인테리어', 1), ('컨셉', 1)] \n",
      "\n",
      "#doc=3335, score=-0.5662, unknown_features=0.4628, num_features=1720\n",
      "[('도시', 456), ('도시바', 456), ('액정', 2), ('전문', 1), ('전문점', 1), ('정상', 1), ('제조', 1), ('제조사', 1), ('출고', 1), ('충남', 1), ('택배', 1), ('확인', 1), ('확인후', 1)] \n",
      "\n",
      "#doc=3377, score=0.3429, unknown_features=0.5257, num_features=253\n",
      "[('광교', 16), ('분양', 7), ('호반', 7), ('6차', 5), ('예정', 4), ('전가', 4), ('전용', 4), ('임대', 3), ('입주', 3), ('있는', 3), ('1층', 2), ('5년', 2), ('8개', 2), ('가구', 2), ('거주', 2), ('거주하', 2), ('결정', 2), ('구성', 2), ('동수', 2), ('동수원', 2), ('신도', 2), ('신도시', 2), ('아파트', 2), ('양재', 2), ('예정이', 2), ('임차', 2), ('지상', 2), ('지어', 2), ('지하', 2), ('2015년', 1)] \n",
      "\n",
      "#doc=3394, score=0.3459, unknown_features=0.4859, num_features=1560\n",
      "[('아이', 81), ('아이폰', 78), ('아이폰5', 65), ('애플', 36), ('출시', 18), ('공개', 9), ('공급', 9), ('삼성', 9), ('9월', 8), ('베이', 8), ('베이스', 8), ('있다', 8), ('퀄컴', 8), ('갤럭시', 7), ('스마트', 7), ('스마트폰', 7), ('제조', 7), ('10월', 6), ('선택', 6), ('갤럭시S', 5), ('부품', 5), ('아이폰4', 5), ('판매', 5), ('6월', 4), ('가격', 4), ('가운데', 4), ('관계', 4), ('기능', 4), ('모바일', 4), ('제조업', 4)] \n",
      "\n",
      "#doc=3410, score=0.4907, unknown_features=0.3186, num_features=226\n",
      "[('프로', 8), ('프로세', 8), ('프로세서', 8), ('아이', 6), ('것으로', 5), ('사용', 5), ('아이폰', 5), ('모션', 4), ('사용된', 4), ('애플', 4), ('성능', 3), ('있을', 3), ('처리', 3), ('감소', 2), ('데이', 2), ('데이터', 2), ('또한', 2), ('스마트', 2), ('아이폰5', 2), ('아이폰5S', 2), ('앞으로', 2), ('있는', 2), ('있습니다', 2), ('있어', 2), ('지원', 2), ('지원하', 2), ('추측', 2), ('출시', 2), ('통해', 2), ('향상', 2)] \n",
      "\n",
      "#doc=3429, score=0.4275, unknown_features=0.2904, num_features=303\n",
      "[('아이', 15), ('아이폰', 13), ('아이폰5', 10), ('가장', 3), ('공개', 3), ('아이폰4', 3), ('애플', 3), ('출시', 3), ('10월', 2), ('4인', 2), ('4인치', 2), ('가능', 2), ('국내', 2), ('기다', 2), ('기다리', 2), ('기다리고', 2), ('디스', 2), ('디스플레이', 2), ('맡았', 2), ('빨라', 2), ('사진', 2), ('소개', 2), ('속도', 2), ('신제품', 2), ('실망', 2), ('아마', 2), ('아이팟', 2), ('제품', 2), ('촬영', 2), ('출시국', 2)] \n",
      "\n"
     ]
    }
   ],
   "source": [
    "_counter = 0\n",
    "for doc in negative:\n",
    "# for doc in positive:\n",
    "    bow = make_bow(doc)\n",
    "    if not bow:\n",
    "        continue\n",
    "    print('#doc={}, score={:.4}, unknown_features={:.4}, num_features={}'.format(doc, float(scores[doc]), float(unknown_features[doc]), num_features[doc]))\n",
    "    print(bow, '\\n')\n",
    "    _counter += 1\n",
    "    if _counter > 100: break"
   ]
  },
  {
   "cell_type": "code",
   "execution_count": null,
   "metadata": {
    "collapsed": true
   },
   "outputs": [],
   "source": []
  }
 ],
 "metadata": {
  "kernelspec": {
   "display_name": "Python 3",
   "language": "python",
   "name": "python3"
  },
  "language_info": {
   "codemirror_mode": {
    "name": "ipython",
    "version": 3
   },
   "file_extension": ".py",
   "mimetype": "text/x-python",
   "name": "python",
   "nbconvert_exporter": "python",
   "pygments_lexer": "ipython3",
   "version": "3.6.1"
  }
 },
 "nbformat": 4,
 "nbformat_minor": 1
}
