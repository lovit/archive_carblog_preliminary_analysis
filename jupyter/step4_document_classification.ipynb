{
 "cells": [
  {
   "cell_type": "code",
   "execution_count": 1,
   "metadata": {},
   "outputs": [
    {
     "name": "stdout",
     "output_type": "stream",
     "text": [
      "(0.18567, 0.54834, 1.2969, 20)\n"
     ]
    }
   ],
   "source": [
    "import sys\n",
    "sys.path.append('../')\n",
    "import pickle\n",
    "from scipy.io import mmread\n",
    "\n",
    "from config import car_model_directory as model_directory\n",
    "from utils import remove_alphabet_number_comb\n",
    "from utils import read_list\n",
    "\n",
    "index2category = read_list('./car_index.txt')\n",
    "with open('{}/common_words.pkl'.format(model_directory), 'rb') as f:\n",
    "    common_words = pickle.load(f)\n",
    "with open('{}/category_sensitive_words.pkl'.format(model_directory), 'rb') as f:\n",
    "    category_sensitive_words = pickle.load(f)\n",
    "with open('{}/subword_df_slot.pkl'.format(model_directory), 'rb') as f:\n",
    "    params = pickle.load(f)\n",
    "    index2subword = params['index2subword']\n",
    "    subword2index = {subword:index for index,subword in enumerate(index2subword)}\n",
    "    del params\n",
    "    \n",
    "print(common_words['차량']) # (nstd, mean, max/mean, argmax_c)"
   ]
  },
  {
   "cell_type": "code",
   "execution_count": null,
   "metadata": {
    "collapsed": true
   },
   "outputs": [],
   "source": [
    "%matplotlib inline\n",
    "\n",
    "import numpy as np\n",
    "import matplotlib.pyplot as plt\n",
    "from collections import Counter"
   ]
  },
  {
   "cell_type": "code",
   "execution_count": 2,
   "metadata": {},
   "outputs": [
    {
     "name": "stdout",
     "output_type": "stream",
     "text": [
      "0 3752\n",
      "1 834\n",
      "2 572\n",
      "3 2968\n",
      "4 3082\n",
      "5 3267\n",
      "6 209\n",
      "7 146\n",
      "8 319\n",
      "9 1229\n",
      "10 1138\n",
      "11 139\n",
      "12 120\n",
      "13 118\n",
      "14 178\n",
      "15 78\n",
      "16 370\n",
      "17 334\n",
      "18 237\n",
      "19 219\n",
      "20 156\n",
      "21 586\n",
      "22 236\n",
      "23 269\n",
      "24 1290\n",
      "25 1472\n",
      "26 2142\n"
     ]
    }
   ],
   "source": [
    "for c, words in enumerate(category_sensitive_words):\n",
    "    print(c, len(words))"
   ]
  },
  {
   "cell_type": "code",
   "execution_count": null,
   "metadata": {
    "collapsed": true
   },
   "outputs": [],
   "source": [
    "c = 10\n",
    "with open('{}/related_words_c{}.pkl'.format(model_directory, c), 'rb') as f:\n",
    "    W_ij = pickle.load(f)"
   ]
  },
  {
   "cell_type": "code",
   "execution_count": 175,
   "metadata": {
    "collapsed": true
   },
   "outputs": [],
   "source": [
    "#     sensitive_words = set(category_sensitive_words[c])\n",
    "#     common_words = set(common_words)\n",
    "sensitive_words = set(remove_alphabet_number_comb(category_sensitive_words[c]))\n",
    "common_words = set(remove_alphabet_number_comb(common_words))\n",
    "true_specific, false_specific, has_no_relateds = select_specific_words(W_ij, sensitive_words, common_words, cost_factor=1.0, cutoff=0.1)"
   ]
  },
  {
   "cell_type": "code",
   "execution_count": 176,
   "metadata": {
    "scrolled": false
   },
   "outputs": [
    {
     "name": "stdout",
     "output_type": "stream",
     "text": [
      "category = 소나타\n",
      "True specific\n",
      "['연주', '피아노', '작곡', '연주하', '베토벤', '작곡가', '바이올', '협주곡', '바이올린', '선율', '연주자', '곡이', '오케스트라', '연주하는', '연주가', '모차르트', '악장', '음악적', '음악가', '음악에', '곡들', '악기', '피아니스트', '연주회', '바흐', '기교', '곡으로', '연주한', '연주되', '브람스', '지휘', '첼로', '슈만', '편곡', '슈베르트', '3악장', '반주', '변주곡', '오페라', '연주할', '연주에', '현악', '지휘자', '교향곡', '작곡한', '1악장', '연주했', '연주해', '곡에', '작곡가들', '2악장', '하이든', '쇼팽', '청중', '서정적', '리듬', '연주한다', '관현악', '멘델스존', '전곡', '악보', '음반', '곡인', '실내악', '연주자들', '선율이', '레퍼토리', '연주되는', '연주회에', '헌정', '작품에', '곡들이', '건반', '음악가들', '연주와', '화음', '바로크', '환상곡', '드뷔시', '성악', '연주하기', '모음곡', '바이올리니스트', '제1번', '초연', '차이코프스키', '청중들', '레퍼', '음악원', '합창', '낭만주의', '4악장', '모짜르트', '클라리넷', '트리오', '곡이라', '음악회', '음악성', '연주하면', '연주회에서', '음악학', '파가니니', '피아니스트로', '장조', '연주했다', '콘체르토', '피아노에', '전주곡', '왈츠', '4중주', '연주자로', '합주', '기악', '작곡가로', '서곡', '춤곡', '작곡하', '음악인', '서정성', '비올라', '피아노곡', '비르투오', '협주곡이', '독주곡', '연습곡', '클라라', '3곡', '바그너', '피날레', '라흐마니노프', '론도', '작곡가이', '아리아', '심포', '푸가', '음악계', '심포니', '현악기', '작곡자', '음악가로', '작곡했', 'D장조', '음악사', '무곡', '프로코피', '악장이', '무반주', '베토벤이', '서주', '악기로', '도입부', '오케스트라와', '격정', '플루트', '앙상블', '연주에서', '연주되었', '말러', '낭만파', '오보에', '지휘자로', 'C장조', '헨델', '오케스트라에', '독주자', '칸타', '소프라노', '목관', '스케르초', '라이프치히', '음악에서', '아다지오', '쇼스타코비치', '기교적', '코다', '현악4중주', '작품에서', '슈트라우스', '작곡했다', '첼리스트', '시적', '음반이', '실황', '음악이라', '드보르작', '악단', '알레그로', '녹턴', '작곡되었', '행진곡', '음악원에', '음악세계', '3중주', '곡에서', '피아니스트로서', 'A장조', '현대음악', '레코딩', '서정적이', '객석', '협연', '타악기', '그리그', '악상', '4곡', '명연', '악보에', '작곡가로서', '음표', '민요', '비창', '원숙', '사중주', '호른', 'G장조', '베를리오즈', '스트라빈스키', '피아노소나타', '비발디', '음반에', '피아니스트들', '프로코피에프', '공연에', '고전주의', '연주자에', '악장에', '성악가', '5중주', '필하모닉', '교향악단', '바이올린이', '실내악곡', '관악기', '파르티타', '생상스', '천재성', '필하모니', '바하', '시벨리우스', '클래식음악', '교향곡이', '제1악장', '트럼펫', '연주하였', '바순', '비평가', '관현악단', '합창단', '곡이었', '3악장에', '연주곡', '관현악곡', '악기들', 'F장조', '음악계에', '격정적', '음악가로서', '곡인데', '작곡하였', '2곡', '현악사중주', '피아니스트이', '하프시코드', '카덴차', '전집', '협주곡에', '브루크너', '교향곡에', '작곡가에', '음악회에', '편곡하', '18세기', '금관', '표제', '카프리치오', '고전음악', '클라비어', '작곡에', '반음계', '쇤베르크', '비극적', '베버', '레슨', '레오폴', '대위법', '명연주', '프로코피예프', '트릴', '단원들', '제2악장', '프렐류드', '오라토리오', '잘츠부르크', '백작', '레퀴엠', '칸타빌레', '음정', '음악감독', '제3악장', '성악곡', '칸타타', '카라얀', '베르디', '오페라에', '콘서트홀', '녹음이', '주법', '번스타인', '루빈스타인', '음악교육', '차이콥스키', '명반', '옥타브', '파우스트', '공연에서', '바르톡', '연주자로서', '콩쿠르', '리히터', '장송', '작곡가였', '6곡', '에튀드', '패시지', '헌정하', '콩쿨', '건반악기', '연주시간', '리사이틀', '서양음악', '악장에서', '연주회장', '악곡', '플룻', '연주자이', '성부', '고전파', '5곡', '클래식에', '연주법', '토카타', '연주였', '솔리스트', '불협화음', '로시니', '베토벤에', '기악곡', '팀파니', '작곡가들에', '쳄발로', '독주회', '수록되어', '실내악에', '샤콘느', '악파', '콘트라베이스', '목관악기', '음계', '음형', '색채감', '연주기', '레파토리', '지휘자들', '연주라', '음들', '림스키', '카잘스', '크로이', '엘가', '음악사에', '게오르', '음악학교', '연주가들', '작곡하기', '소나타들', '작곡하는', '피아니스트였', '소나타형식', '음악제', '미뉴에트', '드보르자크', '교회음악', '2악장에서', '출판되었', '음악학자', '라르', '무소르그스키', '제시부', '피아니즘', '만하임', '애수', '음대', '스카를라티', '월광', '명곡이', '협연한', '4박자', '대위법적', '반주자', '연주들', '화성적', '반음계적', '재현부', '바르샤바', '독주악기', '정명훈', '녹음했', '제1주제', '하이든이', '3악장에서', '음반들', '음악가였', '스타카토', '초연하', '바렌보임', '작곡가라', '코렐리', '모차르트에', '작품들에', '연주자였', '제1바이올린', '클라이맥스', '다성', '명곡들', '보헤미아', '오르페', '바흐에', '소곡', '제2주제', '호로비츠', '음반에서', '음악가이', '연주력', '체르니', '선율적', '로스트로포비치', '협연하', '선율들', '사사하', '전개부', '악구', '세속', '오르가니스트', '12곡', '텔레만', '메시앙', '바이마르', '바로크시대', '즉흥연주', '1주제', '앵콜', '호두까기', '음악대학', '2주제', '발전부', '제4악장', '형식미', '녹음에', '협연자', '편지에', '서울시향', '코다이', '명상적', '32곡', '음악이었', '사라사테', '걸작들', '아바도', '푸치니', '교향곡들', '첫머리', '아르헤리치', '오이스트라흐', '음악애호가', '무지크', '사사했', '표제음악', '상연', '하이페츠', '공연되', '지휘자이', '상임지휘자', '스크리아빈', '10곡', '1곡', '탱고', '16세기', '찬미', '편곡되', '작품1', '작풍', '제자였', '연주함', '정기연주회', '해학', '고전시대', '레오폴트', '굴드', '정경화', '카네기홀', '제자이', '쇼팽에', '체임버', '연주가로', '영웅적', '연주하다', '문학적', '부르크', '아르페지오네', '에밀', '민족적', '하이든에', 'B플랫', '브루흐', '녹음되', '콰르텟', '솔로이스', '궁정악', '피아졸라', '피아니스트에', '브람스에', '구노', '마이스키', '켐프', '협연했', '음울', '엄숙하', '악장인', '백건우', '달빛', '사중주단', '세속적', '코다에', '청력', '폴리포니', '12음', '통주저음', '예술감독', '브렌델', '전악장', '이자이', '앵콜곡', '연주인', '솔리스트로', '도입부에', '희곡', '낭만시대', '폴리니', '음악가에', '세도막', '투티', '편곡해', '중엽', '콘서바토리', '딸림', '악기이', '파헬벨', '감바', '하스킬', '사티', '무터', '클레멘티', '후학', '비탈리', '유니즌', '한국예', '야노', '키신', '금호아트홀', '연주실', 'E플랫', '나흐트', '재현부에서', '사사하였', '솔로이스트', '국립음대', '경과부', '객석에', '수록하', '암보', '윤이상', '음악영', '랑랑', '국제콩', '알비노니', '상드', '콘티누오', '길렐스', '리코더', '곡중', '아라우', '역임하였', '테크닉적', '박하우스', '손열음', '출강', '1801년', '한국음악', '서울예고', '문학에', '건반에', '김선욱', '국제음악', '그뤼미오', '노다메', '마스터클래스', '귓병', '클래식계', '연주회였', '임동혁', '협연하였', '베에토벤', '용재', '국제콩쿠르', '전문연주자', '코리안심포니', '8중', '조수미', '2성', '초청연주', '윤디', '선화예', '최고연주자과정', '연습실', '디토', '공연일', 'IBK챔버홀', '리사이틀홀', '소나타인', '출강하', '타이스', '월광소나타', '한국문화예술', '덧없', '입시곡', '일리치', '치아키', '신춘', '톨스토이', '피아노학원', '소나타였']\n",
      "\n",
      "False specific (common words)\n",
      "['카프카', '문제의식', '신이치', '샬롯', '유혹의', '광염', '괴도', '김동인', '페르소나', '태민이', '나츠', '디렉터님', '렌트할인', '메리케이', '원동기형식G4', 'YF소나타이', '차명NEW', '원동기형식L4', '차명쏘나타', 'GOLD중고차', 'YF소나타PR', 'YF소나타차량']\n",
      "\n",
      "Has no related words\n",
      "['마스트', '생활고', '노래이', '고뇌', '마법사', '전남대', '제23', '볼로', '로자', '거장들', '녹음하', '정경', '문학사상사', '인어공주', '알레', '모스크바에', '율곡', '코우', '김천역', '하루키', '입학했', '멜로디', '들려주었', '괴테', '에반', '17세기', '프라하', '소나타자동차키', '피츠', '상임', '평생교육', '셰익스피어', '서사', '클래식이', '음악만', '비올', '스킬들', '어법', '고독', '도이치', '태민', '쓰여졌', '중기', '금호카마트', '비탄', '신약', '바실리', '무용수', '필라델피아', '천재라', '실용음악', '문화예술', '애절', '시인이', '아이도랑', '앨범에', '폭풍우', '200주년', '낭만', '내성적', '엔들리스', '산문', 'YF소나타에', '기립박수', '리싸이', '명상', '노래하', '부에노스', '미켈란젤로', 'YF소나타튜', '전북대', '지휘하', '가야금', '베네치아', '예술의전당', '다윈D80', '사조', '왕궁', '오데', 'YF소나타전', '궁전에', '백주', '인어', '핑크카', '알렉산드', '연식2001', '독학', '콜린', '마리아', '공연이었', '금호아시아나', '아티스트로', '멜리', '루마니아', '베를린', '교재', '종교적', '왕립', '관객과', '입상하', '베니스', '요절', '대강당', '인문학', '현대NF소나타', '해설', 'YF소나타순정', '에우', '활동하였', '아를', '대극장', '양철', '쿨타임', '공연장에', '함부르크', '0중고차', '시칠리아', '19세기', '야나', '이펙트', 'yf네비게이션', '히로시', '글렌', '북스', '웅대', '프레이즈', '무라카미', '레닌', '원동기형식G', '루치아', '색채', '프란체스', '소나타와', '콘스탄', '템포', '환희', '로엔', 'YF소나타H', '소나타에서', '박지원', '킬링', '용사', '기사단', '제자들', 'yf소나타차', '구약', '미켈란젤', '오케', 'YF소나타2', '숙명여', '헝가리', 'YF소나타오토', '이스케이프키', '스트링', '후대', '계몽', '내한공연', '평론가', '파울', '음악이', '인물이었', '백조', '연습하면', '즉흥', '작품으로', '스승이', '내림', '대우매그너스', '도나우', '마태', '테크닉', '독주', '클라이막스', '희극', '아반떼자동차키', '갈채', '석사과정', '장학생', '주립대학', '평단', '가르쳤', '마르티', '후원자', '17세', '레이스휠', '감정들', '장엄하', '귀족적', '예술의', '양철카', '목회', '역임하', '상트', '베이시스', 'YF소나타아', '호세', '예술가', '그래미', '파르', '대표곡', '미켈', '한곡', '발레리', '명곡', '청각장애인', '문학과', '프란시스', '녹음', '연식2003', '심사위원들', '오닐', '카스트', '목동렌', '소림', '앨범이', '코르', '카네기', '부산전연령', '전연령렌트카', '4성', '렌트카할인', '스페셜리스트', '리듬감', '출판하', '살로', '대가들', '소나타라', '내면적', '붉어지', '말년', '묘사하', '로코', '우도에', '연가', '살의', '여의도렌', '예술에', '숭고', '종현', '재직하', '애잔', '애호가들', '브뤼', '비제', '오선', '크리스티', '여성가족부', '율리', '뉴EF자동차', '세종문화회관', '메조', '몽타주튜닝', '카톨', '오디션', '나폴', '한가람', '브리튼', '드레스덴', '리베르', '보다좋', '루스', '거장', '프로이', '미완성', '수도원', '투쟁', '잉글리', '레가토', '알렉산']\n"
     ]
    }
   ],
   "source": [
    "print('category = {}'.format(index2category[c]))\n",
    "print('True specific')\n",
    "print(remove_alphabet_number_comb([word for word, _ in true_specific]))\n",
    "print('\\nFalse specific (common words)')\n",
    "print(remove_alphabet_number_comb([word for word, _ in false_specific]))\n",
    "print('\\nHas no related words')\n",
    "print(remove_alphabet_number_comb([word for word, _ in has_no_relateds]))"
   ]
  },
  {
   "cell_type": "code",
   "execution_count": 163,
   "metadata": {
    "collapsed": true
   },
   "outputs": [],
   "source": [
    "positive_features = {word for word in common_words}\n",
    "positive_features.update([word for word, _ in false_specific])\n",
    "negative_features = {word for word, _ in true_specific}\n",
    "negative_features.update([word for word, _ in has_no_relateds])\n",
    "\n",
    "positive_features = {subword2index[word] for word in positive_features}\n",
    "negative_features = {subword2index[word] for word in negative_features}\n",
    "\n",
    "x_fname = '{}/subword_tf_c{}.mtx'.format(model_directory, c)\n",
    "x = mmread(x_fname).tocsr()"
   ]
  },
  {
   "cell_type": "code",
   "execution_count": 164,
   "metadata": {
    "collapsed": true
   },
   "outputs": [],
   "source": [
    "def classify_documents(x, positive_features, negative_features, negative_score_factor=1.0):\n",
    "    n, m = x.shape\n",
    "    factor = negative_score_factor * len(positive_features) / len(negative_features)\n",
    "    \n",
    "    rows, cols = x.nonzero()\n",
    "    data = x.data\n",
    "    scores = [0]*n\n",
    "    unknown_features = [0]*n\n",
    "    num_features = [0]*n\n",
    "    normalizer = [0]*n\n",
    "    \n",
    "    n_entry = len(rows)\n",
    "    for i_entry, (i,j,d) in enumerate(zip(rows, cols, data)):\n",
    "        if i_entry % 5000 == 4999:\n",
    "            print('\\r  - computing ... {} % entries'.format('%.2f'%(100*(i_entry+1)/n_entry)), flush=True, end='')\n",
    "        num_features[i] = num_features[i] + d\n",
    "        if j in positive_features:\n",
    "            scores[i] = scores[i] + d\n",
    "            normalizer[i] = normalizer[i] + d\n",
    "        if j in negative_features:\n",
    "            scores[i] = scores[i] - (factor * d)\n",
    "            normalizer[i] = normalizer[i] + (factor * d)\n",
    "        if not (j in positive_features or j in negative_features):\n",
    "            unknown_features[i] = unknown_features[i] + d\n",
    "            #scores[i] = scores[i] - d * factor\n",
    "    scores = [score/normalizer[i] if normalizer[i] > 0 else 0 for i,score in enumerate(scores)]\n",
    "    unknown_features = [num/num_features[i] for i,num in enumerate(unknown_features) if num_features[i] > 0]\n",
    "    print('\\rclassification was done.{}'.format(' '*50))\n",
    "    return scores, num_features, unknown_features"
   ]
  },
  {
   "cell_type": "code",
   "execution_count": 165,
   "metadata": {},
   "outputs": [
    {
     "name": "stdout",
     "output_type": "stream",
     "text": [
      "classification was done.                                                  \n"
     ]
    }
   ],
   "source": [
    "scores, num_features, unknown_features = classify_documents(x, positive_features, negative_features, negative_score_factor=1)"
   ]
  },
  {
   "cell_type": "code",
   "execution_count": 166,
   "metadata": {},
   "outputs": [
    {
     "name": "stdout",
     "output_type": "stream",
     "text": [
      "len scores = 223363\n",
      "len counter(scores) = 31592\n"
     ]
    }
   ],
   "source": [
    "print('len scores =',len(scores))\n",
    "print('len counter(scores) =',len(Counter(scores)))"
   ]
  },
  {
   "cell_type": "code",
   "execution_count": 167,
   "metadata": {},
   "outputs": [
    {
     "data": {
      "image/png": "[encoded data removed]",
      "text/plain": [
       "<matplotlib.figure.Figure at 0x7f453ea0abe0>"
      ]
     },
     "metadata": {},
     "output_type": "display_data"
    }
   ],
   "source": [
    "plt.hist(scores, bins=10)\n",
    "plt.title(\"Histogram with 'auto' bins\")\n",
    "plt.show()"
   ]
  },
  {
   "cell_type": "code",
   "execution_count": 146,
   "metadata": {
    "collapsed": true
   },
   "outputs": [],
   "source": [
    "def make_bow(doc, topk=30):\n",
    "    import re\n",
    "    regex = '^[a-zA-Z0-9]+$'\n",
    "    \n",
    "    bow = x[doc,:]\n",
    "    term = bow.nonzero()[1]\n",
    "    data = bow.data\n",
    "    bow = sorted([(t,tf) for t,tf in zip(term, data)], key=lambda x:-x[1])\n",
    "    bow = [(index2subword[t],tf) for t,tf in bow]\n",
    "    bow = [(t,tf) for t,tf in bow if not re.match(regex, t)][:topk]\n",
    "    return bow\n"
   ]
  },
  {
   "cell_type": "code",
   "execution_count": 171,
   "metadata": {},
   "outputs": [
    {
     "name": "stdout",
     "output_type": "stream",
     "text": [
      "50430 172933\n"
     ]
    }
   ],
   "source": [
    "threshold = 0.8\n",
    "negative = [i for i, score in enumerate(scores) if score < threshold]\n",
    "positive = [i for i, score in enumerate(scores) if score > threshold]\n",
    "print(len(negative), len(positive))"
   ]
  },
  {
   "cell_type": "code",
   "execution_count": 169,
   "metadata": {},
   "outputs": [
    {
     "data": {
      "text/plain": [
       "1.0"
      ]
     },
     "execution_count": 169,
     "metadata": {},
     "output_type": "execute_result"
    }
   ],
   "source": [
    "scores[15]"
   ]
  },
  {
   "cell_type": "code",
   "execution_count": 172,
   "metadata": {
    "scrolled": false
   },
   "outputs": [
    {
     "name": "stdout",
     "output_type": "stream",
     "text": [
      "#doc=2, score=1.0, unknown_features=0.2414, num_features=29\n",
      "[('휠타이어', 4), ('타이어', 2), ('18인치', 1), ('S1노블', 1), ('YF소나타', 1), ('방문', 1), ('브릴', 1), ('브릴리언트', 1), ('수도', 1), ('수도권', 1), ('싼곳', 1), ('입니다', 1), ('전문', 1), ('조합', 1), ('차량', 1), ('차량입니다', 1), ('타이어8949', 1), ('타이어싼', 1), ('하이', 1), ('하이브리드', 1), ('환영', 1), ('휠타이어전문', 1)] \n",
      "\n",
      "#doc=3, score=1.0, unknown_features=0.1701, num_features=147\n",
      "[('워터', 5), ('워터스', 5), ('유리', 4), ('유리막코팅', 4), ('관리', 3), ('많이', 3), ('완전', 3), ('케미', 3), ('보면', 2), ('블랙', 2), ('블랙컬러', 2), ('상태', 2), ('스크', 2), ('스크레치', 2), ('신차', 2), ('잘하', 2), ('좋은', 2), ('차량', 2), ('차량관리', 2), ('차주', 2), ('차주님', 2), ('차주님께서', 2), ('케미컬', 2), ('힘들', 2), ('힘들어', 2), ('2주', 1), ('ㅜㅜ', 1), ('ㅡㅡ', 1), ('간단', 1), ('같습니다', 1)] \n",
      "\n",
      "#doc=4, score=0.9696, unknown_features=0.2283, num_features=714\n",
      "[('ㅋㅋ', 63), ('ㅋㅋㅋ', 55), ('ㅋㅋㅋㅋ', 32), ('사진', 13), ('엄청', 9), ('우리', 7), ('정말', 7), ('ㅜㅜ', 6), ('ㅜㅜㅜ', 6), ('대륙', 5), ('뮤지', 5), ('아이', 5), ('여기', 5), ('찍어', 5), ('트릭', 5), ('그런', 4), ('부탁', 4), ('어느', 4), ('커플', 4), ('ㅜㅜㅜㅜ', 3), ('귀여', 3), ('그런데', 3), ('그렇', 3), ('그렇게', 3), ('눈치', 3), ('둘이', 3), ('바람', 3), ('부탁드', 3), ('사람', 3), ('아니', 3)] \n",
      "\n",
      "#doc=5, score=1.0, unknown_features=0.4103, num_features=39\n",
      "[('자전거', 2), ('2분', 1), ('YF소나타', 1), ('거치', 1), ('게이', 1), ('게이트', 1), ('경기', 1), ('경기도', 1), ('바로', 1), ('바로가기', 1), ('백현', 1), ('백현동', 1), ('분당', 1), ('성남', 1), ('성남시', 1), ('오토', 1), ('자전거캐리어', 1), ('장착', 1), ('장착사진', 1), ('제품', 1), ('클릭', 1), ('툴레', 1), ('트렁크', 1), ('판교', 1), ('페이', 1), ('페이지', 1)] \n",
      "\n",
      "#doc=6, score=1.0, unknown_features=0.1613, num_features=93\n",
      "[('뉴E', 4), ('뉴EF', 4), ('뉴EF소나타', 4), ('중고', 3), ('네비', 2), ('비교', 2), ('비교해', 2), ('시세', 2), ('신제품', 2), ('썬루프', 2), ('적당', 2), ('적당한', 2), ('중고차', 2), ('판매', 2), ('현대', 2), ('가격', 1), ('가격인', 1), ('가좌', 1), ('가좌동', 1), ('경정비', 1), ('교환', 1), ('금액', 1), ('기재', 1), ('등본', 1), ('만원', 1), ('매매', 1), ('매매단지', 1), ('먼저', 1), ('미션', 1), ('미션20', 1)] \n",
      "\n",
      "#doc=7, score=1.0, unknown_features=0.0, num_features=3\n",
      "[('소나타', 1), ('유명', 1), ('유명한', 1)] \n",
      "\n",
      "#doc=8, score=1.0, unknown_features=0.311, num_features=984\n",
      "[('뉴코란도', 41), ('라이', 9), ('라이트', 9), ('면발광', 9), ('데이', 8), ('데이라이트', 8), ('그랜', 7), ('아반테', 7), ('안개등', 7), ('튜닝', 7), ('경보', 6), ('경보기', 6), ('순정', 6), ('올뉴', 6), ('그랜져', 5), ('도어', 5), ('락폴딩', 5), ('블랙', 5), ('수원', 5), ('아슬', 5), ('아슬란', 5), ('전조등', 5), ('카니발', 5), ('턴시그널', 5), ('led사이드', 4), ('당진', 4), ('마이', 4), ('마이키', 4), ('발광', 4), ('블랙박스', 4)] \n",
      "\n",
      "#doc=9, score=0.9799, unknown_features=0.2487, num_features=1114\n",
      "[('시승', 14), ('ㅎㅎ', 13), ('느낌', 11), ('렉서스', 10), ('너무', 9), ('조금', 8), ('엔진', 7), ('있습니다', 7), ('하는', 7), ('그런', 6), ('독일', 6), ('역시', 6), ('나름', 5), ('달리', 5), ('독일차', 5), ('물렁', 5), ('미션', 5), ('부드', 5), ('그렇', 4), ('그렇다', 4), ('기대', 4), ('달리기', 4), ('들어', 4), ('맘에', 4), ('모드', 4), ('버튼', 4), ('부드럽', 4), ('빠르', 4), ('실물', 4), ('아니', 4)] \n",
      "\n",
      "#doc=10, score=0.9706, unknown_features=0.148, num_features=669\n",
      "[('정비', 28), ('정비요', 28), ('소음', 11), ('미세', 9), ('미세누', 9), ('상태', 9), ('성능', 9), ('누유', 8), ('양호', 8), ('패널', 8), ('교환', 7), ('오염', 7), ('오일', 7), ('사고', 6), ('미세누유', 5), ('부족', 5), ('자동차', 5), ('차량', 5), ('YF소나타', 4), ('YF소나타PR', 4), ('공회전', 4), ('누수', 4), ('모터', 4), ('실린더', 4), ('용접', 4), ('작동', 4), ('중고', 4), ('교환요', 3), ('단순', 3), ('라디에이터', 3)] \n",
      "\n",
      "#doc=11, score=1.0, unknown_features=0.3072, num_features=1006\n",
      "[('뉴코란도', 41), ('그랜', 12), ('라이', 12), ('라이트', 12), ('면발광', 12), ('경보', 8), ('경보기', 8), ('튜닝', 8), ('그랜드', 7), ('순정', 7), ('아반테', 7), ('그랜드카니발', 6), ('데이', 6), ('데이라이트', 6), ('써클아이', 6), ('올뉴', 6), ('그랜져', 5), ('도어', 5), ('락폴딩', 5), ('블랙', 5), ('수원', 5), ('아슬', 5), ('아슬란', 5), ('원격시동', 5), ('전조등', 5), ('카니발', 5), ('턴시그널', 5), ('led사이드', 4), ('눈물', 4), ('당진', 4)] \n",
      "\n",
      "#doc=12, score=0.9511, unknown_features=0.1479, num_features=399\n",
      "[('있는', 13), ('5시', 7), ('5시리즈', 7), ('가격', 7), ('모습', 7), ('보여', 7), ('중고', 7), ('중고차', 7), ('모습을', 6), ('보여드', 6), ('가지고', 5), ('보여드리', 5), ('있습니다', 5), ('전체', 5), ('보여드리고', 4), ('전체적', 4), ('디자인', 3), ('위치', 3), ('있으', 3), ('있으며', 3), ('전체적으로', 3), ('쿠션', 3), ('함께', 3), ('계기판', 2), ('구성', 2), ('그대로', 2), ('느껴', 2), ('느껴보', 2), ('느껴보실', 2), ('느껴보실수', 2)] \n",
      "\n",
      "#doc=13, score=1.0, unknown_features=0.3652, num_features=282\n",
      "[('오일', 12), ('대전', 9), ('오후', 9), ('오전', 6), ('예약', 5), ('구리', 4), ('일산', 4), ('잔유제거', 4), ('주소', 4), ('석션', 3), ('엔진', 3), ('평일', 3), ('11시', 2), ('1차', 2), ('2차', 2), ('9시', 2), ('경기', 2), ('경기도', 2), ('공기', 2), ('공기압', 2), ('방문', 2), ('방문하', 2), ('신유', 2), ('신평', 2), ('않으', 2), ('엔진룸', 2), ('오일필터', 2), ('오후1', 2), ('워셔액', 2), ('원신', 2)] \n",
      "\n",
      "#doc=14, score=0.9409, unknown_features=0.4068, num_features=472\n",
      "[('세계', 18), ('일본', 9), ('우리', 7), ('금속', 5), ('있다', 5), ('한국', 5), ('것이', 4), ('나라', 4), ('발명', 4), ('세계인', 4), ('위대', 4), ('이미', 4), ('지금', 4), ('그러', 3), ('문화', 3), ('소녀', 3), ('소녀시대', 3), ('있었', 3), ('있었다', 3), ('전에', 3), ('최초', 3), ('충격', 3), ('한류', 3), ('19일', 2), ('2차', 2), ('5월', 2), ('감탄', 2), ('감탄했', 2), ('강가', 2), ('개최', 2)] \n",
      "\n",
      "#doc=15, score=1.0, unknown_features=0.5455, num_features=22\n",
      "[('네비', 3), ('YF쏘나타', 2), ('YF쏘나타네비', 2), ('네비매립', 2), ('YF소나타', 1), ('YF소나타네비', 1), ('yf소나타', 1), ('김경', 1), ('네비게이션', 1), ('아이', 1), ('아이나비', 1)] \n",
      "\n",
      "#doc=16, score=1.0, unknown_features=0.8932, num_features=674\n",
      "[('자바', 11), ('따라', 4), ('사용', 3), ('사용법', 3), ('실행', 3), ('영역', 3), ('기타', 2), ('된다', 2), ('띄우', 2), ('설명', 2), ('프로', 2), ('한줄', 2), ('10개', 1), ('3종', 1), ('간격', 1), ('그냥', 1), ('그대로', 1), ('글자', 1), ('기초', 1), ('내가', 1), ('넘긴', 1), ('넣어', 1), ('다음', 1), ('다음에', 1), ('단축', 1), ('대로', 1), ('대충', 1), ('두고', 1), ('등등', 1), ('따라하', 1)] \n",
      "\n",
      "#doc=17, score=0.9143, unknown_features=0.347, num_features=585\n",
      "[('아반떼', 9), ('인천', 9), ('하시', 8), ('자동차', 7), ('그렌', 6), ('올뉴', 6), ('올뉴모닝', 6), ('제작', 6), ('리모', 5), ('리모컨', 5), ('리모컨키', 5), ('스타', 5), ('스타렉스', 5), ('자동차키', 5), ('렉스턴', 4), ('모닝', 4), ('모닝자동', 4), ('부평', 4), ('삼산', 4), ('삼산동', 4), ('수입자동차', 4), ('스마트', 4), ('스마트키', 4), ('엑티언', 4), ('이모', 4), ('이모빌라이', 4), ('이모빌라이져', 4), ('이모빌라이져키', 4), ('작전', 4), ('작전동', 4)] \n",
      "\n",
      "#doc=18, score=1.0, unknown_features=0.3269, num_features=309\n",
      "[('ㅋㅋ', 5), ('ㅋㅋㅋ', 3), ('그리고', 3), ('많은', 3), ('사진', 3), ('있는', 3), ('가격', 2), ('계획', 2), ('기대', 2), ('내용', 2), ('노란', 2), ('노란색', 2), ('디자인', 2), ('말이', 2), ('분들', 2), ('설득', 2), ('설득력', 2), ('실내', 2), ('예상', 2), ('올려', 2), ('의자', 2), ('입니다', 2), ('커피', 2), ('클릭', 2), ('훨씬', 2), ('4월', 1), ('LF소나타', 1), ('ㅋㅋㅋㅋ', 1), ('ㅋㅋㅋ그', 1), ('가격은', 1)] \n",
      "\n",
      "#doc=19, score=1.0, unknown_features=0.3303, num_features=218\n",
      "[('구입', 7), ('구입했', 4), ('매각', 4), ('이차', 4), ('구입한', 3), ('사진', 3), ('애마', 3), ('같습니다', 2), ('기억', 2), ('르노', 2), ('르노삼성', 2), ('무쏘', 2), ('소개', 2), ('아이', 2), ('아이들', 2), ('있는', 2), ('자동차', 2), ('차량', 2), ('첫차', 2), ('하고', 2), ('함께', 2), ('합니다', 2), ('2001년', 1), ('2008년', 1), ('2008년도', 1), ('2011년', 1), ('2014년', 1), ('3년', 1), ('5년', 1), ('NF소나타', 1)] \n",
      "\n",
      "#doc=20, score=1.0, unknown_features=0.2587, num_features=143\n",
      "[('이미', 6), ('이미지', 6), ('공개', 3), ('엔진', 3), ('다음', 2), ('동일', 2), ('동일하', 2), ('동일하다', 2), ('디젤', 2), ('소나타', 2), ('실차', 2), ('제네시스', 2), ('2년', 1), ('6개', 1), ('6개월', 1), ('LF소나타', 1), ('YF소나타', 1), ('가능', 1), ('가능성', 1), ('강한', 1), ('같습니다', 1), ('거의', 1), ('공개한', 1), ('공개한다', 1), ('기반', 1), ('기아', 1), ('기존', 1), ('남양', 1), ('남양연구소', 1), ('누우', 1)] \n",
      "\n",
      "#doc=23, score=1.0, unknown_features=0.4019, num_features=316\n",
      "[('현대', 6), ('기아', 4), ('대우', 4), ('삼성', 4), ('쌍용', 4), ('아반때', 4), ('그랜', 3), ('산타', 3), ('체어맨', 3), ('코란도', 3), ('겔로퍼', 2), ('그랜드', 2), ('그렌', 2), ('그렌져', 2), ('기아자동차', 2), ('기아자동차키', 2), ('기아차', 2), ('기아차키', 2), ('대우자동차', 2), ('대우자동차키', 2), ('대우차', 2), ('대우차키', 2), ('라세티', 2), ('렉스턴', 2), ('마티즈', 2), ('봉고', 2), ('산타페', 2), ('삼성자동차', 2), ('삼성자동차키', 2), ('삼성차', 2)] \n",
      "\n",
      "#doc=24, score=1.0, unknown_features=0.2462, num_features=65\n",
      "[('차량', 6), ('중고', 4), ('중고차', 4), ('YF소나타', 3), ('차량입니다', 3), ('2010년', 2), ('차량은', 2), ('경정비', 1), ('기록', 1), ('기록부', 1), ('끝낸', 1), ('달린', 1), ('등급', 1), ('모든', 1), ('무사고', 1), ('박팀장', 1), ('성능', 1), ('성능점검', 1), ('소개', 1), ('소개드', 1), ('안녕하세요', 1), ('이번', 1), ('이번에', 1), ('입고', 1), ('입고후', 1), ('입니다', 1), ('주행', 1), ('주행거리', 1), ('중고차나라', 1), ('짧은', 1)] \n",
      "\n",
      "#doc=25, score=1.0, unknown_features=0.3164, num_features=177\n",
      "[('중고', 7), ('중고차', 7), ('차량', 6), ('YF소나타', 4), ('강대', 3), ('사랑', 3), ('24시', 2), ('24시간', 2), ('금액', 2), ('만원', 2), ('미션', 2), ('사고', 2), ('사고유무', 2), ('사진', 2), ('사진참고', 2), ('색상', 2), ('성능', 2), ('실내', 2), ('언제', 2), ('언제든지', 2), ('연료', 2), ('연식', 2), ('오토', 2), ('입니다', 2), ('제시', 2), ('제시번호', 2), ('주행', 2), ('주행거리', 2), ('차량번호', 2), ('해드', 2)] \n",
      "\n",
      "#doc=26, score=1.0, unknown_features=0.5, num_features=52\n",
      "[('중곡', 2), ('타이어', 2), ('광진', 1), ('광진구', 1), ('모시', 1), ('모시겠습니다', 1), ('문의', 1), ('소나타', 1), ('스마트', 1), ('안녕하세요', 1), ('연락', 1), ('연락주', 1), ('연락주시', 1), ('오세', 1), ('입니다', 1), ('장착', 1), ('저렴', 1), ('저렴한', 1), ('저렴한곳', 1), ('지금', 1), ('찾는', 1), ('찾는다', 1), ('친절', 1), ('친절하', 1), ('친절하게', 1), ('한국', 1), ('한국타이어', 1)] \n",
      "\n",
      "#doc=27, score=1.0, unknown_features=0.3216, num_features=821\n",
      "[('모델', 13), ('일반', 10), ('스포', 8), ('스포츠', 6), ('기존', 5), ('블랙', 5), ('사진', 5), ('아니', 5), ('출시', 5), ('후면', 5), ('1천', 4), ('1천만', 4), ('그냥', 4), ('사이', 4), ('사이드', 4), ('스컷', 4), ('스타', 4), ('스타일', 4), ('아닌', 4), ('옵션', 4), ('차이', 4), ('M팩', 3), ('가격', 3), ('거의', 3), ('경우', 3), ('당시', 3), ('도어', 3), ('많이', 3), ('바로', 3), ('반해', 3)] \n",
      "\n",
      "#doc=28, score=0.92, unknown_features=0.1633, num_features=245\n",
      "[('머플러', 9), ('앤드', 6), ('용접', 6), ('작업', 6), ('이제', 5), ('피코', 5), ('장착', 4), ('ㅋㅋ', 3), ('입니다', 3), ('저렴', 3), ('저렴하', 3), ('준비', 3), ('최대', 3), ('최대한', 3), ('ㅋㅋㅋ', 2), ('따라', 2), ('머플러팁', 2), ('사이', 2), ('사이즈', 2), ('소나타', 2), ('스타', 2), ('스타일', 2), ('일반', 2), ('있는', 2), ('작업해', 2), ('전기', 2), ('준비엘', 2), ('측정', 2), ('트윈', 2), ('18인치', 1)] \n",
      "\n",
      "#doc=29, score=1.0, unknown_features=0.2796, num_features=490\n",
      "[('중고', 19), ('중고차', 19), ('거래', 13), ('거래후기', 11), ('올뉴', 8), ('수원', 5), ('백신', 4), ('백신중고차', 4), ('시세', 4), ('시세표', 4), ('준비', 4), ('다양한', 3), ('많은', 3), ('매매', 3), ('매매단지', 3), ('매물', 3), ('삼성', 3), ('수원중고', 3), ('수원중고차', 3), ('있는', 3), ('좋은', 3), ('준비되어', 3), ('출시', 3), ('판매', 3), ('관심', 2), ('그랜', 2), ('대한', 2), ('대한민국', 2), ('대한민국에', 2), ('매매단지에', 2)] \n",
      "\n",
      "#doc=30, score=1.0, unknown_features=0.1816, num_features=523\n",
      "[('차키', 22), ('소나타', 11), ('대전', 7), ('이모', 7), ('이모빌라이', 7), ('이모빌라이저', 7), ('제작', 7), ('차키분실', 7), ('차키제작', 7), ('폴딩', 7), ('폴딩키', 7), ('키제작', 6), ('됩니다', 5), ('리모', 5), ('리모컨', 5), ('입니다', 5), ('출동', 5), ('하게', 5), ('되었', 4), ('완료', 4), ('작동', 4), ('적용', 4), ('클릭', 4), ('합니다', 4), ('현장', 4), ('yf소나타', 3), ('부드', 3), ('부드러운', 3), ('부터', 3), ('새벽', 3)] \n",
      "\n",
      "#doc=31, score=1.0, unknown_features=0.2452, num_features=155\n",
      "[('내비', 6), ('내비게이션', 6), ('아이', 5), ('아이나비', 4), ('있습니다', 4), ('아주', 3), ('화면', 3), ('계절', 2), ('매립', 2), ('매립하', 2), ('신촌', 2), ('실행', 2), ('아래', 2), ('오늘', 2), ('오디오', 2), ('택시', 2), ('화면이', 2), ('5월', 1), ('LF소나타', 1), ('가정', 1), ('거기', 1), ('거기에', 1), ('계속', 1), ('기능', 1), ('기사', 1), ('기사님', 1), ('기타', 1), ('나가', 1), ('내비게이션에', 1), ('넣으', 1)] \n",
      "\n",
      "#doc=32, score=1.0, unknown_features=0.2957, num_features=761\n",
      "[('타이어', 58), ('인천', 16), ('인천타이어', 11), ('타이어가', 11), ('타이어가격', 11), ('작업', 9), ('청라', 8), ('금호', 6), ('금호타이어', 6), ('부평', 6), ('서구', 6), ('자동차', 6), ('인천타이어싼', 5), ('효성', 5), ('효성동', 5), ('nf소나타', 4), ('계양', 4), ('교체', 4), ('사이', 4), ('사이즈', 4), ('언제', 4), ('친절', 4), ('친절상담', 4), ('타이어교', 4), ('타이어교체', 4), ('타이어전', 4), ('가격', 3), ('고객', 3), ('고객님', 3), ('미쉐린', 3)] \n",
      "\n",
      "#doc=34, score=1.0, unknown_features=0.2748, num_features=1616\n",
      "[('브랜드', 30), ('있음', 19), ('자동차', 17), ('유명', 16), ('가장', 13), ('미국', 11), ('산하', 11), ('사람', 9), ('유명한', 9), ('있는', 9), ('프리', 9), ('프리미', 9), ('프리미엄', 9), ('우리', 8), ('우리나라', 8), ('우리나라에', 8), ('포드', 8), ('하나', 8), ('아우디', 7), ('요즘', 7), ('차로', 7), ('경차', 6), ('고성', 6), ('고성능', 6), ('기업', 6), ('모델', 6), ('미니', 6), ('사람들', 6), ('우리나라에서', 6), ('전기', 6)] \n",
      "\n",
      "#doc=35, score=0.9537, unknown_features=0.1885, num_features=886\n",
      "[('네비', 23), ('매립', 19), ('네비게이션', 14), ('있습니다', 14), ('이용', 8), ('순정', 7), ('아이', 7), ('아이나비', 7), ('트랜스', 7), ('트랜스폼', 7), ('파인', 7), ('파인드라이브', 7), ('네비매립', 6), ('NF소나타', 5), ('견적', 5), ('내비', 5), ('맵피', 5), ('운전', 5), ('가장', 4), ('것이', 4), ('기본', 4), ('사용', 4), ('성능', 4), ('원하', 4), ('제품', 4), ('차량', 4), ('후방', 4), ('후방카메라', 4), ('가격', 3), ('고객', 3)] \n",
      "\n",
      "#doc=36, score=1.0, unknown_features=0.2004, num_features=504\n",
      "[('구형', 11), ('매립', 9), ('네비', 8), ('차량', 8), ('가능', 6), ('분들', 6), ('NF소나타', 5), ('nf소나타', 5), ('사제', 5), ('설치', 5), ('있습니다', 5), ('네비매립', 4), ('바랍니다', 4), ('보시', 4), ('부평', 4), ('순정', 4), ('오래', 4), ('작업', 4), ('장착', 4), ('주차', 4), ('관리', 3), ('깔끔', 3), ('되십', 3), ('됩니다', 3), ('매립작업', 3), ('순정오', 3), ('순정오디오', 3), ('오시', 3), ('요즘', 3), ('위치', 3)] \n",
      "\n",
      "#doc=37, score=1.0, unknown_features=0.1354, num_features=687\n",
      "[('차량', 21), ('중고', 16), ('중고차', 15), ('NF소나타', 6), ('가지고', 6), ('옵션', 6), ('있습니다', 6), ('차량으로', 6), ('가지고있', 5), ('입니다', 5), ('차량의', 5), ('가격', 4), ('모습', 4), ('보여', 4), ('있어', 4), ('적용', 4), ('현대', 4), ('느낌', 3), ('디자인', 3), ('모습이', 3), ('보여주', 3), ('상태', 3), ('언제', 3), ('이런', 3), ('이용', 3), ('있으', 3), ('저희', 3), ('좋은', 3), ('주행', 3), ('차량을', 3)] \n",
      "\n",
      "#doc=38, score=1.0, unknown_features=0.3086, num_features=243\n",
      "[('덴마크', 4), ('소나타', 4), ('우유', 4), ('있어', 4), ('즐길', 4), ('즐길수', 4), ('골드', 3), ('그냥', 3), ('기분', 3), ('만나', 3), ('요구', 3), ('크림', 3), ('건강', 2), ('난리', 2), ('달콤', 2), ('더욱', 2), ('동원', 2), ('먹는', 2), ('먹어', 2), ('볼수', 2), ('부드', 2), ('부드럽', 2), ('사용', 2), ('선보', 2), ('선보인', 2), ('신선', 2), ('용기', 2), ('이상', 2), ('있답니다', 2), ('전문', 2)] \n",
      "\n",
      "#doc=39, score=1.0, unknown_features=0.1027, num_features=565\n",
      "[('차량', 20), ('중고', 11), ('중고차', 10), ('무쏘', 7), ('무쏘스포츠', 7), ('차량은', 6), ('가격', 5), ('있습니다', 5), ('모델', 4), ('소개', 4), ('언제', 4), ('언제든지', 4), ('완벽', 4), ('가지고', 3), ('깔끔', 3), ('단순', 3), ('단순교환', 3), ('만나', 3), ('물론', 3), ('쌍용', 3), ('옵션', 3), ('우수', 3), ('우수한', 3), ('있어', 3), ('있으', 3), ('저희', 3), ('적용', 3), ('즐기', 3), ('감사', 2), ('감사드립니다', 2)] \n",
      "\n",
      "#doc=40, score=1.0, unknown_features=0.4737, num_features=76\n",
      "[('후방', 3), ('네비', 2), ('샤크', 2), ('샤크안테나', 2), ('아이', 2), ('아이나비', 2), ('아이나비K', 2), ('아이나비KL', 2), ('항상', 2), ('후방카메라', 2), ('YF소나타', 1), ('YF소나타차', 1), ('YF소나타차량', 1), ('감사', 1), ('감사드리', 1), ('고객', 1), ('고객님', 1), ('고객님께', 1), ('기타', 1), ('기타문의', 1), ('네비매립', 1), ('답해', 1), ('드리', 1), ('드리기', 1), ('루마', 1), ('루마썬팅', 1), ('만족', 1), ('매립', 1), ('모터', 1), ('모터스', 1)] \n",
      "\n",
      "#doc=41, score=1.0, unknown_features=0.25, num_features=4\n",
      "[('동영상', 1), ('외부', 1), ('재생', 1), ('재생하', 1)] \n",
      "\n",
      "#doc=42, score=0.9637, unknown_features=0.1399, num_features=536\n",
      "[('가지고', 12), ('있는', 12), ('가격', 10), ('중고', 10), ('중고차', 10), ('쏘나타', 9), ('있고', 8), ('되어', 7), ('뛰어', 7), ('모습', 7), ('모습을', 6), ('있답니다', 6), ('많은', 5), ('있는데', 5), ('가격이', 4), ('고급', 4), ('느낌', 4), ('느낌을', 4), ('디자인', 4), ('뛰어난', 4), ('옵션', 4), ('있어', 4), ('있어서', 4), ('지니', 4), ('지니고', 4), ('각종', 3), ('뛰어나', 3), ('블랙', 3), ('사용', 3), ('사용하', 3)] \n",
      "\n",
      "#doc=43, score=1.0, unknown_features=0.6872, num_features=358\n",
      "[('동작', 3), ('아반떼', 3), ('충정', 3), ('충정로', 3), ('개포', 2), ('개포동', 2), ('구로', 2), ('그랜', 2), ('그랜져', 2), ('그랜져TG', 2), ('노량진', 2), ('노량진동', 2), ('논현동', 2), ('대방', 2), ('대방동', 2), ('대치', 2), ('대치동', 2), ('도곡', 2), ('도곡동', 2), ('도봉', 2), ('동작동', 2), ('면목', 2), ('면목동', 2), ('면목동열쇠', 2), ('묵동', 2), ('묵동열쇠', 2), ('본동', 2), ('사당', 2), ('사당동', 2), ('삼성', 2)] \n",
      "\n",
      "#doc=44, score=1.0, unknown_features=0.296, num_features=277\n",
      "[('입니다', 9), ('가격', 5), ('장안', 5), ('장안동', 5), ('yf소나타', 4), ('많이', 4), ('보센', 4), ('블랙', 4), ('스타', 4), ('스타일', 4), ('휠타이어', 4), ('18인치', 3), ('거의', 3), ('그랜', 3), ('그랜져', 3), ('넥센', 3), ('넥센n', 3), ('동대문', 3), ('동대문구', 3), ('물건', 3), ('보센cv', 3), ('보센cv3', 3), ('블랙폴리쉬', 3), ('있습니다', 3), ('조립', 3), ('타이어', 3), ('가격이', 2), ('감사', 2), ('감사합니다', 2), ('그랜져hg', 2)] \n",
      "\n",
      "#doc=45, score=1.0, unknown_features=0.1835, num_features=316\n",
      "[('네비', 19), ('순정', 18), ('네비매립', 17), ('천안', 15), ('순정형', 14), ('현대', 13), ('모습', 6), ('시공', 5), ('LF소나타', 4), ('ㅋㅋ', 4), ('모습입니다', 4), ('런즈', 3), ('샤크', 3), ('샤크안테나', 3), ('시공하', 3), ('주인', 3), ('주인장', 3), ('차량', 3), ('구동', 2), ('깔끔', 2), ('네비게이션', 2), ('마감', 2), ('마감제', 2), ('비가', 2), ('센타', 2), ('센타페시아', 2), ('솔라', 2), ('솔라가드', 2), ('썬팅', 2), ('썬팅시공', 2)] \n",
      "\n",
      "#doc=46, score=1.0, unknown_features=0.3162, num_features=351\n",
      "[('중고', 19), ('옵티마', 15), ('오토', 11), ('무사고', 9), ('진주', 8), ('가죽', 7), ('중고차', 7), ('저렴', 5), ('차량', 5), ('2000년', 4), ('저렴한', 4), ('05월', 3), ('08월', 3), ('10월', 3), ('13만', 3), ('2002년', 3), ('서울', 3), ('열선', 3), ('주말', 3), ('타이밍', 3), ('100만원', 2), ('18만', 2), ('2001년', 2), ('2005년', 2), ('200만', 2), ('200만원', 2), ('바로', 2), ('보험', 2), ('소개', 2), ('영업', 2)] \n",
      "\n",
      "#doc=47, score=1.0, unknown_features=0.4167, num_features=588\n",
      "[('루프', 16), ('루프스킨', 16), ('탑폴리에', 14), ('전주', 11), ('시공', 10), ('아우디', 9), ('벤츠', 7), ('수입차', 7), ('아우디A', 6), ('무광', 5), ('포르', 5), ('yf소나타', 4), ('라이', 4), ('라이트', 4), ('벨로스터', 4), ('스포', 4), ('시공중', 4), ('아반데', 4), ('아반데md', 4), ('아반떼', 4), ('전주코션', 4), ('포르테', 4), ('폭스바겐', 4), ('군산', 3), ('뉴i30', 3), ('라세티', 3), ('쉐보레', 3), ('스포티', 3), ('스포티지', 3), ('자동차', 3)] \n",
      "\n",
      "#doc=48, score=1.0, unknown_features=0.6854, num_features=553\n",
      "[('그랜', 4), ('차차', 4), ('타이어', 4), ('라세티', 3), ('마티즈', 3), ('아반테', 3), ('판교', 3), ('관리', 2), ('그랜드', 2), ('그랜져', 2), ('레간자', 2), ('렉스턴', 2), ('마르', 2), ('마르샤', 2), ('스포', 2), ('엘란', 2), ('위해', 2), ('유지', 2), ('제너', 2), ('제너시스', 2), ('품질', 2), ('한국', 2), ('한국타이어', 2), ('12개', 1), ('EF소나타', 1), ('YF소나타', 1), ('가솔린', 1), ('갤로퍼', 1), ('관리하', 1), ('그랜드스타렉스', 1)] \n",
      "\n",
      "#doc=49, score=1.0, unknown_features=0.3408, num_features=490\n",
      "[('ㅋㅋ', 16), ('ㅋㅋㅋ', 15), ('ㅋㅋㅋㅋ', 15), ('정자', 7), ('정자동', 6), ('카페', 6), ('녹아', 5), ('메뉴', 4), ('블로그', 4), ('다양한', 3), ('달콤', 3), ('맛이', 3), ('서울', 3), ('요즘', 3), ('용산', 3), ('용산구', 3), ('이촌', 3), ('일본', 3), ('카스', 3), ('카스테', 3), ('투데이', 3), ('파워', 3), ('하루', 3), ('공감', 2), ('그랜', 2), ('그랜저', 2), ('넘어', 2), ('다양해', 2), ('마치', 2), ('명품', 2)] \n",
      "\n",
      "#doc=50, score=1.0, unknown_features=0.2629, num_features=194\n",
      "[('만리', 5), ('바다', 3), ('위드', 3), ('펜션', 3), ('하고', 3), ('해수욕장', 3), ('곳이', 2), ('너무', 2), ('넓은', 2), ('돌아', 2), ('들어', 2), ('보고', 2), ('보이', 2), ('수영', 2), ('수영장', 2), ('시간', 2), ('시간이', 2), ('정말', 2), ('찾아', 2), ('추억', 2), ('태안', 2), ('한번', 2), ('30분', 1), ('LF소나타', 1), ('YF소나타', 1), ('YF소나타이', 1), ('가까', 1), ('가까워', 1), ('가려', 1), ('가물', 1)] \n",
      "\n",
      "#doc=51, score=1.0, unknown_features=0.3868, num_features=212\n",
      "[('손해', 7), ('수리', 7), ('60만', 5), ('60만원', 5), ('보험', 4), ('요구', 4), ('지급', 4), ('차량', 4), ('300만', 3), ('300만원', 3), ('가해', 3), ('가해자', 3), ('것이', 3), ('물건', 3), ('배상', 3), ('보험사', 3), ('수리비', 3), ('요구하', 3), ('의사', 3), ('주관', 3), ('주관적', 3), ('값어치', 2), ('공평', 2), ('보험사에', 2), ('사고', 2), ('손상', 2), ('손해배상', 2), ('아니', 2), ('없다', 2), ('원상', 2)] \n",
      "\n",
      "#doc=53, score=1.0, unknown_features=0.4278, num_features=187\n",
      "[('렌트', 6), ('렌트비', 6), ('계약', 5), ('소비자', 5), ('소비자가', 5), ('인수', 5), ('프로', 5), ('프로모션', 5), ('50만원', 3), ('인기', 3), ('인기차종', 3), ('2015년', 2), ('35만', 2), ('7월', 2), ('개인', 2), ('계약기간', 2), ('고객', 2), ('기준', 2), ('디럭스', 2), ('보험', 2), ('종료', 2), ('특별', 2), ('할인', 2), ('000만원', 1), ('1일', 1), ('26세', 1), ('30만', 1), ('30만원', 1), ('31일', 1), ('48개월', 1)] \n",
      "\n",
      "#doc=54, score=1.0, unknown_features=0.3157, num_features=906\n",
      "[('스피', 33), ('스피커', 33), ('우퍼', 28), ('앰프', 25), ('차량', 25), ('장착', 23), ('쏘렌토', 22), ('신길', 21), ('신길카오디오', 21), ('쏘렌토R', 21), ('일체', 20), ('일체형', 20), ('포칼', 20), ('차량용', 18), ('자동차', 16), ('인천', 14), ('카오디오', 14), ('카스', 10), ('추천', 8), ('오디오', 6), ('중고', 6), ('차량용스', 6), ('그랜', 5), ('기아', 4), ('차량스', 4), ('차량스피커', 4), ('휴대', 4), ('그랜져', 3), ('기타', 3), ('네비', 3)] \n",
      "\n",
      "#doc=56, score=1.0, unknown_features=0.4851, num_features=134\n",
      "[('부산', 7), ('열차단', 5), ('해운', 5), ('해운대', 5), ('반여', 4), ('썬팅', 4), ('해운대구', 4), ('반여동', 2), ('부산광', 2), ('세라', 2), ('세라믹', 2), ('썬렉스', 2), ('자외선', 2), ('자외선차단', 2), ('전면', 2), ('2주', 1), ('7번', 1), ('7번지', 1), ('가격', 1), ('공휴일', 1), ('광택', 1), ('교육', 1), ('궁금', 1), ('궁금하', 1), ('느껴', 1), ('맞은', 1), ('맞은편', 1), ('문의', 1), ('방문', 1), ('보시', 1)] \n",
      "\n",
      "#doc=57, score=1.0, unknown_features=0.1867, num_features=782\n",
      "[('차량', 34), ('고객', 8), ('고객님', 8), ('자동차', 8), ('가능', 7), ('드립니다', 6), ('인감', 6), ('허위', 6), ('24시', 5), ('엔진', 5), ('할부', 5), ('해드', 5), ('24시간', 4), ('가격', 4), ('가능하', 4), ('고객님께', 4), ('드리', 4), ('매입', 4), ('미션', 4), ('보증', 4), ('사고', 4), ('성능', 4), ('중고', 4), ('중고차', 4), ('차량이', 4), ('최고', 4), ('허위매물', 4), ('가능하며', 3), ('계약', 3), ('그날', 3)] \n",
      "\n",
      "#doc=58, score=0.8418, unknown_features=0.4118, num_features=170\n",
      "[('대구', 18), ('대구썬', 6), ('대구썬팅', 6), ('루마', 5), ('썬팅', 5), ('달서구', 4), ('유천동', 4), ('전면', 4), ('전면썬팅', 4), ('있습니다', 3), ('카라', 3), ('카라이프', 3), ('YF소나타', 2), ('가시', 2), ('가시광선', 2), ('대구광', 2), ('서비스', 2), ('시공', 2), ('자동차', 2), ('작업', 2), ('작업하', 2), ('측후면', 2), ('통한', 2), ('합니다', 2), ('YF소나타에', 1), ('깨끗', 1), ('눈이', 1), ('다니', 1), ('대구LED', 1), ('대구네비', 1)] \n",
      "\n",
      "#doc=61, score=1.0, unknown_features=0.4667, num_features=15\n",
      "[('기능', 1), ('기능성', 1), ('대구', 1), ('대리', 1), ('대리점', 1), ('대리점에', 1), ('시공', 1), ('시공가', 1), ('시공가능', 1), ('열차단', 1), ('열차단율', 1)] \n",
      "\n",
      "#doc=63, score=0.9749, unknown_features=0.1432, num_features=782\n",
      "[('정비', 29), ('정비요', 28), ('차량', 16), ('소음', 11), ('미세', 9), ('미세누', 9), ('상태', 9), ('중고', 9), ('누유', 8), ('양호', 8), ('중고차', 8), ('차량상태', 8), ('최상', 8), ('최상급', 8), ('NF소나타', 7), ('무사고', 7), ('신조', 7), ('오염', 7), ('오일', 7), ('교환', 6), ('부족', 6), ('미세누유', 5), ('성능', 5), ('작동', 5), ('공회전', 4), ('누수', 4), ('드립니다', 4), ('모터', 4), ('실린더', 4), ('오토', 4)] \n",
      "\n",
      "#doc=64, score=1.0, unknown_features=0.4352, num_features=432\n",
      "[('싼타페', 8), ('싼타페DM', 8), ('더뉴', 7), ('청주', 7), ('뉴코란도', 6), ('뉴코란도C', 6), ('대전', 6), ('투싼', 6), ('투싼IX', 6), ('아이', 5), ('아이머큐리', 5), ('작업', 5), ('파인', 5), ('파인드라이브', 5), ('뉴쏘렌토', 4), ('뉴쏘렌토R', 4), ('더뉴스포티지', 4), ('더뉴스포티지R', 4), ('모하비', 4), ('스포', 4), ('스포티', 4), ('스포티지', 4), ('스포티지R', 4), ('싼타페DM네비', 4), ('아반테', 4), ('아반테MD', 4), ('YF소나타', 3), ('뉴쏘렌토R네비', 3), ('뉴투', 3), ('뉴투싼', 3)] \n",
      "\n",
      "#doc=65, score=1.0, unknown_features=0.369, num_features=588\n",
      "[('에어', 40), ('에어컨', 38), ('자동차', 34), ('자동차에', 23), ('자동차에어컨', 21), ('에어컨가스', 12), ('카에어컨', 11), ('밧데리', 10), ('장안', 9), ('장안동', 9), ('에어컨필', 8), ('제일', 8), ('제일카', 8), ('제일카에어컨', 8), ('가스', 6), ('에바', 6), ('에어컨냉매', 6), ('장한평', 6), ('고장', 5), ('컨덴', 5), ('컴프레', 5), ('콘덴', 5), ('한라', 5), ('히터', 5), ('밧데리교', 4), ('애바포레이', 4), ('에어컨가스보충', 4), ('에어컨냄', 4), ('에어컨냄새', 4), ('에어컨필타', 4)] \n",
      "\n",
      "#doc=66, score=1.0, unknown_features=0.1806, num_features=227\n",
      "[('울산', 8), ('신차', 6), ('진행', 6), ('울산신', 5), ('시공', 4), ('오토', 4), ('진행하', 3), ('차량', 3), ('코팅', 3), ('LF소나타', 2), ('같이', 2), ('깔끔', 2), ('나오', 2), ('더욱', 2), ('디테일', 2), ('바로', 2), ('싱글', 2), ('열처리', 2), ('이런', 2), ('있기', 2), ('있기에', 2), ('있는', 2), ('진행하였', 2), ('차량입니다', 2), ('철분', 2), ('프리', 2), ('해주', 2), ('ㅋㅋ', 1), ('ㅋㅋㅋ', 1), ('ㅎㅎ', 1)] \n",
      "\n",
      "#doc=67, score=1.0, unknown_features=0.2585, num_features=1269\n",
      "[('전기', 12), ('디자인', 10), ('사용', 9), ('전기차', 9), ('렉서스', 8), ('모델', 8), ('있어', 8), ('출시', 8), ('주행', 7), ('것으로', 6), ('공개', 6), ('스포', 6), ('아우디', 6), ('예정', 6), ('있는', 6), ('판매', 6), ('가격', 5), ('느낌', 5), ('더욱', 5), ('선택', 5), ('충전', 5), ('컨셉', 5), ('하네요', 5), ('합니다', 5), ('강렬', 4), ('라인', 4), ('모습', 4), ('변속', 4), ('알려', 4), ('알려졌', 4)] \n",
      "\n",
      "#doc=68, score=1.0, unknown_features=0.2759, num_features=203\n",
      "[('가격', 5), ('장안', 4), ('장안동', 4), ('중고', 4), ('럭셔리', 3), ('많이', 3), ('물건', 3), ('어드', 3), ('어드반', 3), ('타이어', 3), ('휠타이어', 3), ('가격이', 2), ('감사', 2), ('감사합니다', 2), ('노력', 2), ('노력하', 2), ('마추어', 2), ('바랍니다', 2), ('셋트', 2), ('스타', 2), ('스타일', 2), ('입니다', 2), ('있습니다', 2), ('조립', 2), ('중고타이어', 2), ('중고휠', 2), ('합니다', 2), ('18인치', 1), ('1만', 1), ('4번', 1)] \n",
      "\n",
      "#doc=69, score=1.0, unknown_features=0.3802, num_features=668\n",
      "[('창원', 35), ('자동차', 30), ('자동차키', 28), ('창원마산', 21), ('창원마산진해', 21), ('차문', 17), ('차키', 17), ('차문열기', 16), ('경남', 12), ('마산', 11), ('폭스바겐', 10), ('진주', 7), ('진해', 7), ('그랜', 5), ('그랜져', 5), ('리모', 5), ('벤츠', 5), ('제작', 5), ('창원시', 5), ('통영', 5), ('폴딩', 5), ('폴딩키', 5), ('혼다', 5), ('경남고성', 4), ('고성', 4), ('에쿠스', 4), ('진주사천', 4), ('라세티', 3), ('리모컨', 3), ('리모컨키', 3)] \n",
      "\n",
      "#doc=70, score=1.0, unknown_features=0.3704, num_features=27\n",
      "[('루마', 2), ('사진', 2), ('사진입니다', 2), ('시공', 2), ('문의', 1), ('소나타', 1), ('송현', 1), ('시공후', 1), ('신형', 1), ('썬팅', 1), ('안동', 1), ('전면', 1), ('정품', 1), ('측후면', 1)] \n",
      "\n",
      "#doc=73, score=1.0, unknown_features=0.3363, num_features=113\n",
      "[('원주', 6), ('YF쏘나타', 2), ('가격', 2), ('가격에', 2), ('리모', 2), ('리모컨', 2), ('사고', 2), ('정비', 2), ('정직', 2), ('정직한', 2), ('중고', 2), ('중고차', 2), ('차파', 2), ('함께', 2), ('25년', 1), ('YF소나타', 1), ('가능', 1), ('가능합니다', 1), ('가죽', 1), ('가죽시트', 1), ('년형', 1), ('듀얼', 1), ('등등', 1), ('리모컨키', 1), ('만원', 1), ('많이', 1), ('매입', 1), ('무사고', 1), ('믿음', 1), ('믿음직', 1)] \n",
      "\n",
      "#doc=74, score=1.0, unknown_features=0.2273, num_features=110\n",
      "[('세척', 8), ('스팀', 6), ('1차', 2), ('2차', 2), ('구석', 2), ('깨끗', 2), ('깨끗해', 2), ('세차', 2), ('세차하', 2), ('세척하', 2), ('왁스', 2), ('이용', 2), ('이용하', 2), ('이용하여', 2), ('찌그러', 2), ('차량', 2), ('흔적', 2), ('갈라', 1), ('결과', 1), ('결과적으로', 1), ('고압', 1), ('고열', 1), ('노화', 1), ('높은', 1), ('다음', 1), ('다음에', 1), ('도장', 1), ('도포', 1), ('돌리', 1), ('들어', 1)] \n",
      "\n",
      "#doc=75, score=1.0, unknown_features=0.2273, num_features=66\n",
      "[('기어', 2), ('뉴E', 2), ('뉴EF', 2), ('뉴EF소나타', 2), ('뉴그랜', 2), ('뉴그랜져', 2), ('뉴그랜져XG', 2), ('부품', 2), ('신형', 2), ('어셈블리', 2), ('입니다', 2), ('차량', 2), ('체인', 2), ('체인지', 2), ('000원', 1), ('1개', 1), ('가능', 1), ('가능합니다', 1), ('구매', 1), ('깨끗', 1), ('깨끗하', 1), ('깨지', 1), ('물품', 1), ('발송', 1), ('사용', 1), ('사용감', 1), ('사진', 1), ('사진상', 1), ('상기', 1), ('없습니다', 1)] \n",
      "\n",
      "#doc=76, score=1.0, unknown_features=0.3665, num_features=663\n",
      "[('전주', 26), ('시공', 11), ('아우디', 10), ('전주코션', 9), ('벤츠', 8), ('아우디A', 8), ('유리', 8), ('유리막코팅', 8), ('수입차', 7), ('검정', 5), ('듀얼', 5), ('무광', 5), ('제품', 5), ('포르', 5), ('yf소나타', 4), ('검정색', 4), ('라이', 4), ('라이트', 4), ('루프', 4), ('루프스킨', 4), ('벨로스터', 4), ('아반데', 4), ('아반데md', 4), ('차량', 4), ('코션', 4), ('퀄리티', 4), ('포르테', 4), ('폭스바겐', 4), ('ㅎㅎ', 3), ('광택', 3)] \n",
      "\n",
      "#doc=77, score=1.0, unknown_features=0.1556, num_features=514\n",
      "[('정비', 28), ('정비요', 28), ('소음', 11), ('미세', 9), ('미세누', 9), ('상태', 9), ('누유', 8), ('양호', 8), ('오염', 7), ('오일', 7), ('중고', 7), ('교환', 6), ('성능', 6), ('미세누유', 5), ('부족', 5), ('중고차', 5), ('가격', 4), ('공회전', 4), ('누수', 4), ('뉴E', 4), ('뉴EF', 4), ('뉴EF소나타', 4), ('모터', 4), ('실린더', 4), ('작동', 4), ('교환요', 3), ('사고', 3), ('없음', 3), ('연료', 3), ('연식', 3)] \n",
      "\n",
      "#doc=78, score=1.0, unknown_features=0.2426, num_features=338\n",
      "[('먼지', 8), ('차량', 6), ('스팀', 5), ('스팀세차', 5), ('실내', 5), ('이용', 5), ('이용하', 5), ('폼건', 5), ('고압', 4), ('모두', 4), ('세차', 4), ('이용하여', 4), ('제거', 4), ('하지만', 4), ('고압수', 3), ('기스', 3), ('미트', 3), ('미트질', 3), ('분사', 3), ('날라', 2), ('날리', 2), ('남아', 2), ('남아있', 2), ('다녀', 2), ('다녀오', 2), ('먼지들', 2), ('부분', 2), ('사모', 2), ('사모님', 2), ('소량', 2)] \n",
      "\n",
      "#doc=79, score=1.0, unknown_features=0.24, num_features=325\n",
      "[('파인', 11), ('파인드라이브', 10), ('장착', 8), ('네비', 7), ('알바', 6), ('알바트로스', 6), ('재영', 6), ('LF소나타', 5), ('보이', 5), ('보이스', 5), ('후방', 5), ('네비매립', 4), ('소니', 4), ('소니CCD', 4), ('소니CCD2', 4), ('이미', 4), ('이미지', 4), ('장착해', 4), ('장착해드', 4), ('후방카메라', 4), ('기능', 3), ('동영상', 3), ('블랙', 3), ('블랙박스', 3), ('실행', 3), ('전체', 3), ('지원', 3), ('트립', 3), ('기능이', 2), ('네비게이션', 2)] \n",
      "\n",
      "#doc=80, score=0.8504, unknown_features=0.3026, num_features=2588\n",
      "[('모나', 59), ('있었', 34), ('있었다', 27), ('사람', 23), ('자신', 21), ('존재', 21), ('세상', 19), ('어둠', 18), ('아르', 17), ('것이', 16), ('바람', 16), ('사람들', 16), ('없었', 14), ('있는', 14), ('내려', 12), ('소리', 12), ('않았', 12), ('시간', 11), ('않았다', 11), ('누군가', 10), ('작은', 10), ('가장', 9), ('곳에', 9), ('그것', 9), ('그러', 9), ('목소리', 9), ('없었다', 9), ('것이었', 8), ('그가', 8), ('그들', 8)] \n",
      "\n",
      "#doc=81, score=1.0, unknown_features=0.2452, num_features=155\n",
      "[('작업', 7), ('스포', 4), ('스포일러', 4), ('유니', 4), ('ㅎㅎ', 3), ('랩핑', 3), ('유니크', 3), ('인천', 3), ('YF소나타', 2), ('붙어', 2), ('붙어있', 2), ('여기', 2), ('의정부', 2), ('인천개', 2), ('찾아', 2), ('하이', 2), ('하이브리드', 2), ('10번', 1), ('12월', 1), ('28일', 1), ('ㅋㅋ', 1), ('ㅋㅋㅋ', 1), ('ㅋㅋㅋㅋ', 1), ('ㅠㅠ', 1), ('ㅠㅠㅠ', 1), ('ㅠㅠㅠㅠ', 1), ('감사', 1), ('감사합니다', 1), ('견적', 1), ('견적문의', 1)] \n",
      "\n",
      "#doc=82, score=1.0, unknown_features=0.09235, num_features=823\n",
      "[('중고', 42), ('중고차', 32), ('차량', 19), ('뉴모닝', 16), ('가격', 15), ('기아', 11), ('중고가격', 10), ('보여', 7), ('있습니다', 7), ('디자인', 6), ('모습', 6), ('있는', 6), ('보여주', 5), ('소개', 5), ('최고', 5), ('가지고', 4), ('매력', 4), ('상태', 4), ('성능', 4), ('성능기록부', 4), ('옵션', 4), ('있는데', 4), ('있어', 4), ('차량의', 4), ('차량이', 4), ('ㅎㅎ', 3), ('가지고있', 3), ('거래', 3), ('거래되고', 3), ('공간', 3)] \n",
      "\n",
      "#doc=84, score=1.0, unknown_features=0.4412, num_features=34\n",
      "[('04년', 1), ('05년', 1), ('05년식', 1), ('11월', 1), ('14만', 1), ('2004년', 1), ('가능', 1), ('기준', 1), ('등록', 1), ('매매', 1), ('무사고', 1), ('상담', 1), ('상담문의', 1), ('상태', 1), ('성능', 1), ('성능검사', 1), ('소나타', 1), ('시운전', 1), ('주행', 1), ('차량', 1), ('청주', 1), ('최상', 1), ('형식', 1), ('환영', 1)] \n",
      "\n",
      "#doc=85, score=1.0, unknown_features=0.1727, num_features=550\n",
      "[('나는', 12), ('메리', 9), ('메리케이', 9), ('마음', 8), ('시작', 8), ('못했', 7), ('일을', 7), ('그저', 5), ('시작하', 5), ('하지만', 5), ('20대', 4), ('것들', 4), ('그랜', 4), ('그랜저', 4), ('내가', 4), ('많은', 4), ('못했다', 4), ('분들', 4), ('비지', 4), ('비지니스', 4), ('생각', 4), ('아니', 4), ('엄마', 4), ('핑크', 4), ('한번', 4), ('감사', 3), ('도전', 3), ('마음이', 3), ('세일', 3), ('세일즈', 3)] \n",
      "\n",
      "#doc=87, score=1.0, unknown_features=0.09677, num_features=589\n",
      "[('중고', 18), ('중고차', 17), ('뉴E', 12), ('뉴EF', 12), ('뉴EF소나타', 12), ('차량', 12), ('가격', 10), ('보이', 5), ('시장', 4), ('시장에', 4), ('시장에서', 4), ('언제', 4), ('차량은', 4), ('기능', 3), ('느낌', 3), ('매물', 3), ('모습', 3), ('분들', 3), ('상태', 3), ('소개', 3), ('언제든지', 3), ('옵션', 3), ('있는', 3), ('있으', 3), ('주행', 3), ('주행거리', 3), ('품격', 3), ('거래', 2), ('고객', 2), ('고급', 2)] \n",
      "\n",
      "#doc=88, score=1.0, unknown_features=0.2344, num_features=546\n",
      "[('태국', 20), ('한국', 14), ('경우', 10), ('가격', 8), ('이야기', 7), ('태국에', 7), ('때문에', 6), ('차량', 6), ('많이', 5), ('차이', 5), ('차이가', 5), ('물가', 4), ('버스', 4), ('비교', 4), ('생각', 4), ('있는', 4), ('가격이', 3), ('교통', 3), ('그렇', 3), ('기름', 3), ('기본', 3), ('나는', 3), ('되는', 3), ('비싸', 3), ('비해', 3), ('정도', 3), ('조금', 3), ('100만원', 2), ('3500만', 2), ('가격대', 2)] \n",
      "\n",
      "#doc=89, score=1.0, unknown_features=0.1781, num_features=247\n",
      "[('제주', 20), ('NF소나타', 10), ('제주여행', 10), ('이끌', 6), ('여행', 4), ('계신', 3), ('계신데', 3), ('있습니다', 3), ('제주도', 3), ('함께', 3), ('고객', 2), ('고객님', 2), ('많이', 2), ('모든', 2), ('분들', 2), ('아무', 2), ('여행하', 2), ('연비', 2), ('저렴', 2), ('저희', 2), ('차량', 2), ('추천', 2), ('타사', 2), ('편안', 2), ('편안한', 2), ('해안', 2), ('해안도로', 2), ('2013년', 1), ('가든', 1), ('가족', 1)] \n",
      "\n",
      "#doc=90, score=1.0, unknown_features=0.1602, num_features=181\n",
      "[('장착', 7), ('순정', 6), ('마이', 5), ('마이키', 5), ('알바', 5), ('알바트로스', 5), ('알바트로스3', 5), ('유라', 5), ('유라이브', 5), ('로드', 4), ('블랙', 4), ('블랙박스', 4), ('순정형', 4), ('YF소나타', 3), ('ㅎㅎ', 3), ('원격시동', 3), ('이제', 3), ('차량', 3), ('그리고', 2), ('당진', 2), ('당진점', 2), ('방문', 2), ('방문하', 2), ('방문하여', 2), ('시동', 2), ('완료', 2), ('장착을', 2), ('추가', 2), ('추가적', 2), ('하기', 2)] \n",
      "\n",
      "#doc=91, score=1.0, unknown_features=0.2321, num_features=224\n",
      "[('제주', 10), ('패키지', 6), ('떠나', 4), ('가격', 3), ('그리고', 3), ('다이', 3), ('다이아몬드', 3), ('따로', 3), ('상품', 3), ('크리', 3), ('크리스', 3), ('크리스탈', 3), ('포함', 3), ('2인', 2), ('가능', 2), ('계획', 2), ('공식', 2), ('대한', 2), ('대한항공', 2), ('또한', 2), ('렌터카', 2), ('비행기', 2), ('소나타', 2), ('수영', 2), ('시간', 2), ('시간이', 2), ('에어', 2), ('이용', 2), ('있습니다', 2), ('제주여행', 2)] \n",
      "\n",
      "#doc=92, score=1.0, unknown_features=0.0, num_features=3\n",
      "[('유리', 1), ('유리막코팅', 1), ('창원', 1)] \n",
      "\n",
      "#doc=94, score=1.0, unknown_features=0.2011, num_features=537\n",
      "[('소나타', 17), ('중고', 16), ('중고차', 13), ('김민', 10), ('김민호', 10), ('할부', 10), ('카매', 8), ('카매니', 8), ('카매니저', 8), ('보배', 7), ('보배드림', 7), ('김포', 6), ('김포중고차', 6), ('부천', 6), ('부천중고차', 6), ('수원', 6), ('수원중고', 6), ('수원중고차', 6), ('안산', 6), ('안산중고', 6), ('안산중고차', 6), ('인천', 6), ('인천중고차', 6), ('일산', 6), ('일산중고차', 6), ('가능', 3), ('감사', 3), ('성능', 3), ('전동', 3), ('전액', 3)] \n",
      "\n",
      "#doc=95, score=1.0, unknown_features=0.4898, num_features=488\n",
      "[('제작', 69), ('부산', 5), ('벤츠', 4), ('셔터', 4), ('아우디', 4), ('자동차', 4), ('자동차키', 4), ('누비라', 3), ('아반떼', 3), ('아우디Q', 3), ('아우디Q7', 3), ('자동차키분실', 3), ('체어맨', 3), ('혼다', 3), ('그랜', 2), ('기장', 2), ('니산', 2), ('라세티', 2), ('렉스턴', 2), ('만들', 2), ('색상', 2), ('송정', 2), ('송정동', 2), ('수영', 2), ('쌍용', 2), ('쌍용자동차', 2), ('열쇠', 2), ('우동', 2), ('줌머', 2), ('테라칸', 2)] \n",
      "\n",
      "#doc=96, score=1.0, unknown_features=0.6, num_features=10\n",
      "[('머큐리', 1), ('부산', 1), ('안녕하세요', 1), ('자료', 1), ('자료입', 1)] \n",
      "\n",
      "#doc=97, score=1.0, unknown_features=0.1268, num_features=71\n",
      "[('범퍼', 5), ('자동차', 3), ('과정', 2), ('도장', 2), ('복원', 2), ('오른', 2), ('오른쪽', 2), ('차량', 2), ('흠집', 2), ('흠집이', 2), ('YF소나타', 1), ('가능', 1), ('가능하', 1), ('가능하니', 1), ('거쳐', 1), ('긁히', 1), ('기술', 1), ('덴트', 1), ('뒷범', 1), ('뒷범퍼', 1), ('뒷쪽', 1), ('등등', 1), ('마찬가지', 1), ('모습', 1), ('모습입니다', 1), ('믿고', 1), ('보이', 1), ('복원작업', 1), ('부분', 1), ('새차', 1)] \n",
      "\n",
      "#doc=99, score=1.0, unknown_features=0.2315, num_features=108\n",
      "[('많이', 4), ('바닥', 3), ('시공', 3), ('시트', 3), ('실내', 3), ('일산', 3), ('찌든', 3), ('찌든때', 3), ('백석', 2), ('실내크리닝', 2), ('있다', 2), ('정성', 2), ('지저분', 2), ('크리', 2), ('크리닝', 2), ('회원', 2), ('회원님', 2), ('가장', 1), ('각종', 1), ('건강', 1), ('김팀장', 1), ('나고', 1), ('냄새', 1), ('다한', 1), ('동구', 1), ('드렸', 1), ('마무리', 1), ('마지막', 1), ('바닥에', 1), ('바닥이', 1)] \n",
      "\n",
      "#doc=101, score=1.0, unknown_features=0.2273, num_features=805\n",
      "[('중고', 38), ('중고차', 38), ('수원', 29), ('고객', 17), ('고객님', 17), ('코란도', 14), ('거래', 13), ('거래후기', 10), ('중고차를', 9), ('중고차의', 9), ('고객님께', 8), ('확인', 7), ('확인하', 7), ('고객님께서', 6), ('위해', 6), ('하우', 6), ('하우머치카', 6), ('구입', 5), ('방문', 5), ('엔진', 5), ('차량', 5), ('출고', 5), ('매물', 4), ('방문해', 4), ('방문해주', 4), ('서비스', 4), ('저희', 4), ('좋은', 4), ('준비', 4), ('진행', 4)] \n",
      "\n",
      "#doc=102, score=1.0, unknown_features=0.1759, num_features=290\n",
      "[('보험', 18), ('자동차', 11), ('가입', 7), ('차주', 7), ('등록', 5), ('부모', 4), ('부모님', 4), ('자동차보험', 4), ('질문', 4), ('가입하', 3), ('가입해', 3), ('결정', 3), ('들수', 3), ('들어', 3), ('따라', 3), ('비싸', 3), ('상황', 3), ('상황에', 3), ('어떻게', 3), ('질문자님', 3), ('하고', 3), ('하는', 3), ('2년', 2), ('결정하', 2), ('그냥', 2), ('기원', 2), ('대학', 2), ('대학생', 2), ('되는', 2), ('등록하', 2)] \n",
      "\n",
      "#doc=103, score=1.0, unknown_features=0.2806, num_features=196\n",
      "[('LF쏘나타', 9), ('15년', 3), ('현대', 3), ('18인치', 2), ('계기판', 2), ('네비', 2), ('년식', 2), ('모습', 2), ('색상', 2), ('스마트', 2), ('실제', 2), ('완전', 2), ('완전무사고', 2), ('입니다', 2), ('중고', 2), ('중고차', 2), ('진주', 2), ('진주색', 2), ('차량', 2), ('차량은', 2), ('키로', 2), ('키로수', 2), ('파노라마', 2), ('파노라마썬루프', 2), ('확실', 2), ('후방', 2), ('14년', 1), ('14년0', 1), ('18인치휠', 1), ('2층', 1)] \n",
      "\n",
      "#doc=105, score=1.0, unknown_features=0.2954, num_features=281\n",
      "[('NF소나타', 13), ('모습', 6), ('차량', 5), ('차량을', 4), ('깔끔', 3), ('만족', 3), ('소개', 3), ('현대', 3), ('확인', 3), ('2008년', 2), ('깔끔한', 2), ('만족할', 2), ('만족할수있', 2), ('먼저', 2), ('멘토', 2), ('멘토중고차에', 2), ('모습을', 2), ('모습이', 2), ('사진', 2), ('사진으로', 2), ('신차', 2), ('실내', 2), ('연식', 2), ('연식20', 2), ('연식200', 2), ('연식2008', 2), ('오늘', 2), ('외관', 2), ('있게', 2), ('중고', 2)] \n",
      "\n",
      "#doc=106, score=0.8666, unknown_features=0.401, num_features=601\n",
      "[('작품', 15), ('광고', 13), ('전시', 10), ('작품들', 6), ('2012년', 5), ('분들', 5), ('관람', 4), ('부산', 4), ('부산국제', 4), ('작품들이', 4), ('조금', 4), ('취업', 4), ('하는', 4), ('ㅋㅋ', 3), ('들어', 3), ('등록', 3), ('메시', 3), ('메시지', 3), ('벡스코', 3), ('설명', 3), ('세미', 3), ('세미나', 3), ('요번', 3), ('있는', 3), ('있어', 3), ('있어서', 3), ('있었', 3), ('작품에', 3), ('전시된', 3), ('전시장', 3)] \n",
      "\n",
      "#doc=107, score=0.9666, unknown_features=0.127, num_features=575\n",
      "[('정비', 28), ('정비요', 28), ('소음', 11), ('미세', 9), ('미세누', 9), ('상태', 9), ('누유', 8), ('성능', 8), ('양호', 8), ('교환', 7), ('오염', 7), ('오일', 7), ('미세누유', 5), ('부족', 5), ('공회전', 4), ('누수', 4), ('모터', 4), ('실린더', 4), ('작동', 4), ('교환요', 3), ('없음', 3), ('용접', 3), ('입니다', 3), ('있음', 3), ('자동차', 3), ('점검', 3), ('주요', 3), ('중고', 3), ('지연', 3), ('참고', 3)] \n",
      "\n",
      "#doc=108, score=1.0, unknown_features=0.1173, num_features=614\n",
      "[('중고', 20), ('NF소나타', 14), ('중고차', 11), ('차량', 10), ('중고자동차', 9), ('모습', 7), ('있습니다', 7), ('만나', 6), ('실내', 6), ('주행', 6), ('시트', 4), ('갖추', 3), ('갖추고', 3), ('관리', 3), ('만나보', 3), ('만족', 3), ('많이', 3), ('매력', 3), ('모습을', 3), ('보실', 3), ('운전', 3), ('있어', 3), ('있어서', 3), ('전동', 3), ('주행거리', 3), ('차량을', 3), ('최대', 3), ('품격', 3), ('가장', 2), ('가죽', 2)] \n",
      "\n",
      "#doc=109, score=1.0, unknown_features=0.27, num_features=237\n",
      "[('아이', 5), ('아이나비', 5), ('ㅜㅜ', 4), ('네비', 4), ('네비게이션', 4), ('대전', 4), ('매립', 4), ('사용', 4), ('LF소나타', 3), ('ㅎㅎ', 3), ('가장', 3), ('서구', 3), ('수동', 3), ('하단', 3), ('3D맵', 2), ('가공', 2), ('깔끔', 2), ('날씨', 2), ('대전광', 2), ('되었', 2), ('되었습니다', 2), ('보여', 2), ('사용하', 2), ('센터', 2), ('센터페시아', 2), ('순정', 2), ('시작', 2), ('시작하', 2), ('오디오', 2), ('즐거', 2)] \n",
      "\n",
      "#doc=110, score=1.0, unknown_features=0.1146, num_features=759\n",
      "[('중고', 33), ('중고차', 32), ('차량', 19), ('YF소나타', 14), ('가격', 12), ('현대', 11), ('시세', 9), ('있는', 6), ('있으', 6), ('ㅎㅎ', 5), ('입니다', 5), ('있으며', 5), ('차량의', 5), ('소개', 4), ('있습니다', 4), ('적용', 4), ('적용하', 4), ('가지고', 3), ('깔끔', 3), ('있어', 3), ('저희', 3), ('차량을', 3), ('판매', 3), ('가죽', 2), ('계기판', 2), ('고객', 2), ('깔끔한', 2), ('내차', 2), ('년식', 2), ('대해', 2)] \n",
      "\n",
      "#doc=111, score=1.0, unknown_features=0.5839, num_features=149\n",
      "[('출발', 6), ('렌터카', 5), ('제주', 5), ('000원', 3), ('펜션', 3), ('1인', 2), ('2013년', 2), ('6월', 2), ('대한', 2), ('대한항공', 2), ('따라', 2), ('롯데', 2), ('문의', 2), ('부산', 2), ('부산출발', 2), ('불포함', 2), ('여행', 2), ('여행기', 2), ('왕복', 2), ('왕복항공', 2), ('요금', 2), ('우리', 2), ('유류', 2), ('자차', 2), ('자차보험', 2), ('직통', 2), ('펜션에', 2), ('포함', 2), ('항공', 2), ('10일', 1)] \n",
      "\n",
      "#doc=112, score=1.0, unknown_features=0.15, num_features=40\n",
      "[('더욱', 2), ('시공', 2), ('후면', 2), ('고급', 1), ('고급스', 1), ('고급스럽', 1), ('그레이', 1), ('더욱더', 1), ('라이', 1), ('라이트', 1), ('라이트필름', 1), ('바뀌', 1), ('바뀌었', 1), ('사이', 1), ('사이드', 1), ('사이드리피', 1), ('사진', 1), ('사진입니다', 1), ('색상', 1), ('생겼', 1), ('소나타', 1), ('스모', 1), ('스모크', 1), ('시공하', 1), ('시공해', 1), ('시공해드', 1), ('안개등', 1), ('차량', 1), ('차량전', 1), ('테일램프', 1)] \n",
      "\n",
      "#doc=113, score=1.0, unknown_features=0.4, num_features=10\n",
      "[('엔진', 2), ('소나타', 1), ('엔진오일', 1), ('엔진플러싱', 1), ('오메가', 1), ('차량', 1)] \n",
      "\n",
      "#doc=114, score=1.0, unknown_features=0.2684, num_features=816\n",
      "[('결혼', 12), ('것이', 10), ('한다', 8), ('되어', 6), ('만들', 6), ('상품', 6), ('연금', 6), ('인생', 6), ('있다', 6), ('있을', 6), ('무조건', 5), ('생각', 5), ('우리', 5), ('저축', 5), ('최대', 5), ('최대한', 5), ('카드', 5), ('그들', 4), ('대한', 4), ('데이', 4), ('만들어', 4), ('모아', 4), ('부모', 4), ('부모님', 4), ('살아', 4), ('생활', 4), ('쉽게', 4), ('않는', 4), ('얼마', 4), ('없다', 4)] \n",
      "\n",
      "#doc=115, score=1.0, unknown_features=0.2522, num_features=226\n",
      "[('중고', 6), ('중고차', 6), ('YF소나타', 5), ('그리고', 5), ('부천', 4), ('좋더', 4), ('부천중고차', 3), ('정원', 3), ('좋은', 3), ('중고차시세', 3), ('했는데', 3), ('같더', 2), ('고민', 2), ('그래', 2), ('그래서', 2), ('그런', 2), ('눈에', 2), ('딜러', 2), ('딜러분', 2), ('딜러분께', 2), ('띄는', 2), ('맞는', 2), ('믿고', 2), ('보니', 2), ('소나타', 2), ('어떤', 2), ('있는', 2), ('있다', 2), ('저한테', 2), ('중고차를', 2)] \n",
      "\n",
      "#doc=116, score=1.0, unknown_features=0.0625, num_features=16\n",
      "[('시공', 2), ('그레이', 1), ('깔끔', 1), ('깔끔하', 1), ('깔끔하게', 1), ('드렸', 1), ('라이', 1), ('라이트', 1), ('라이트필름', 1), ('소나타', 1), ('시공사', 1), ('시공사진', 1), ('시공해', 1), ('입니다', 1)] \n",
      "\n",
      "#doc=118, score=1.0, unknown_features=0.3119, num_features=109\n",
      "[('EF소나타', 8), ('중고', 4), ('사고', 3), ('중고차', 3), ('차량', 3), ('현대', 3), ('150만원', 2), ('Km차량번호', 2), ('가격', 2), ('등록', 2), ('사고유무', 2), ('사고유무무', 2), ('사고유무무사고', 2), ('사진', 2), ('실내', 2), ('연식', 2), ('연식20', 2), ('연식200', 2), ('연식2000', 2), ('입니다', 2), ('중고차량', 2), ('판매', 2), ('판매가', 2), ('가능', 1), ('공개', 1), ('광택', 1), ('까지', 1), ('드리', 1), ('등록되', 1), ('등록번호', 1)] \n",
      "\n",
      "#doc=119, score=1.0, unknown_features=0.1913, num_features=115\n",
      "[('모닝', 7), ('ㅎㅎ', 5), ('진짜', 5), ('ㅜㅜ', 3), ('그리고', 3), ('옵션', 3), ('ㅎㅎㅎ', 2), ('경차', 2), ('그나마', 2), ('모르', 2), ('아침', 2), ('안나', 2), ('ㅎㅎㅎㅎ', 1), ('걸림', 1), ('고려', 1), ('고속', 1), ('고속도로', 1), ('그냥', 1), ('그렇', 1), ('그렇다', 1), ('그르', 1), ('금요일', 1), ('기아', 1), ('깜빡', 1), ('깜빡이', 1), ('깡통', 1), ('다니', 1), ('다니는', 1), ('다닐', 1), ('더욱', 1)] \n",
      "\n"
     ]
    }
   ],
   "source": [
    "_counter = 0\n",
    "# for doc in negative:\n",
    "for doc in positive:\n",
    "    bow = make_bow(doc)\n",
    "    if not bow:\n",
    "        continue\n",
    "    print('#doc={}, score={:.4}, unknown_features={:.4}, num_features={}'.format(doc, float(scores[doc]), float(unknown_features[doc]), num_features[doc]))\n",
    "    print(bow, '\\n')\n",
    "    _counter += 1\n",
    "    if _counter > 100: break"
   ]
  },
  {
   "cell_type": "code",
   "execution_count": null,
   "metadata": {
    "collapsed": true
   },
   "outputs": [],
   "source": []
  }
 ],
 "metadata": {
  "kernelspec": {
   "display_name": "Python 3",
   "language": "python",
   "name": "python3"
  },
  "language_info": {
   "codemirror_mode": {
    "name": "ipython",
    "version": 3
   },
   "file_extension": ".py",
   "mimetype": "text/x-python",
   "name": "python",
   "nbconvert_exporter": "python",
   "pygments_lexer": "ipython3",
   "version": "3.6.1"
  }
 },
 "nbformat": 4,
 "nbformat_minor": 1
}
