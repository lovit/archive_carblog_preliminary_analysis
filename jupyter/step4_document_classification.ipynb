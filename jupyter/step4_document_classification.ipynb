{
 "cells": [
  {
   "cell_type": "code",
   "execution_count": 31,
   "metadata": {},
   "outputs": [
    {
     "name": "stdout",
     "output_type": "stream",
     "text": [
      "120\n",
      "128\n"
     ]
    }
   ],
   "source": [
    "import numpy as np\n",
    "\n",
    "a1 = np.asarray([1,2,3])\n",
    "print(sys.getsizeof(a1))\n",
    "a2 = np.asarray([1,2,3,4])\n",
    "print(sys.getsizeof(a2))\n"
   ]
  },
  {
   "cell_type": "code",
   "execution_count": 32,
   "metadata": {},
   "outputs": [
    {
     "data": {
      "text/plain": [
       "17.881393851712346"
      ]
     },
     "execution_count": 32,
     "metadata": {},
     "output_type": "execute_result"
    }
   ],
   "source": [
    "((800000000*8 + 150) * 3) / (1024**3)"
   ]
  },
  {
   "cell_type": "code",
   "execution_count": 4,
   "metadata": {},
   "outputs": [
    {
     "name": "stdout",
     "output_type": "stream",
     "text": [
      "(0.1886, 0.54053, 1.3066, 20)\n"
     ]
    }
   ],
   "source": [
    "import sys\n",
    "sys.path.append('../')\n",
    "import pickle\n",
    "from scipy.io import mmread\n",
    "from collections import Counter\n",
    "\n",
    "from utils import remove_alphabet_number_comb\n",
    "from utils import read_list\n",
    "from utils import make_bow\n",
    "from subword_df_handler import classify_documents\n",
    "from subword_df_handler import select_specific_words\n",
    "\n",
    "%matplotlib inline\n",
    "import matplotlib.pyplot as plt\n",
    "\n",
    "\n",
    "model_directory = 'YOUR-MODEL-DIRECTORY'\n",
    "\n",
    "index2category = read_list('./car_index.txt')\n",
    "with open('{}/common_words.pkl'.format(model_directory), 'rb') as f:\n",
    "    common_words = pickle.load(f)\n",
    "with open('{}/category_sensitive_words.pkl'.format(model_directory), 'rb') as f:\n",
    "    category_sensitive_words = pickle.load(f)\n",
    "with open('{}/subword_df_slot.pkl'.format(model_directory), 'rb') as f:\n",
    "    params = pickle.load(f)\n",
    "    index2subword = params['index2subword']\n",
    "    subword2index = {subword:index for index,subword in enumerate(index2subword)}\n",
    "    del params\n",
    "    \n",
    "print(common_words['차량']) # (nstd, mean, max/mean, argmax_c)"
   ]
  },
  {
   "cell_type": "code",
   "execution_count": 5,
   "metadata": {},
   "outputs": [
    {
     "name": "stdout",
     "output_type": "stream",
     "text": [
      "0 5499\n",
      "1 1773\n",
      "2 1039\n",
      "3 3934\n",
      "4 3916\n",
      "5 4271\n",
      "6 479\n",
      "7 273\n",
      "8 762\n",
      "9 2405\n",
      "10 1742\n",
      "11 323\n",
      "12 305\n",
      "13 262\n",
      "14 400\n",
      "15 186\n",
      "16 678\n",
      "17 631\n",
      "18 520\n",
      "19 407\n",
      "20 371\n",
      "21 1234\n",
      "22 534\n",
      "23 629\n",
      "24 2326\n",
      "25 2536\n",
      "26 3575\n"
     ]
    }
   ],
   "source": [
    "for c, words in enumerate(category_sensitive_words):\n",
    "    print(c, len(words))"
   ]
  },
  {
   "cell_type": "code",
   "execution_count": 28,
   "metadata": {
    "collapsed": true
   },
   "outputs": [],
   "source": [
    "c = 21\n",
    "with open('{}/related_words_c{}.pkl'.format(model_directory, c), 'rb') as f:\n",
    "    W_ij = pickle.load(f)"
   ]
  },
  {
   "cell_type": "code",
   "execution_count": 29,
   "metadata": {},
   "outputs": [],
   "source": [
    "sensitive_words = set(remove_alphabet_number_comb(category_sensitive_words[c]))\n",
    "common_words = set(remove_alphabet_number_comb(common_words))\n",
    "true_specific, false_specific, has_no_relateds = select_specific_words(W_ij, sensitive_words, common_words, cost_factor=1.0, cutoff=0.00)"
   ]
  },
  {
   "cell_type": "code",
   "execution_count": 30,
   "metadata": {
    "scrolled": false
   },
   "outputs": [
    {
     "name": "stdout",
     "output_type": "stream",
     "text": [
      "category = 티볼리\n",
      "True specific\n",
      "['로마', '궁전', '조식', '베네치아', '아말', '바티', '오페라', '마리아', '코르', '피렌체', '루이', '덴마크', '메디', '보르', '바티칸', '포르투', '나폴', '바로크', '17세', '헝가리', '별장', '알렉산', '안토', '예술가', '폼페이', '피오', '로마에', '나폴리', '19세기', '18세기', '17세기', '팰리스', '16세기', '미켈', '수도원', '왕궁', '리조트', '세인트', '미켈란', '트레비', '알렉산드', '미켈란젤로', '미켈란젤', '사르', '베로', '예배당', '시청사', '조각상', '로마에서', '팔레', '로마시', '노동자', '코펜하겐', '동상이', '코펜', '크리스티', '놀이공원', '죽음에', '티볼리에', '베드로', '궁전에', '라파엘', '로지', '바실리', '콘스탄', '체크인', '아말피', '콜로세움', '볼로', '브뤼', '프라하', '콘도', '군주', '비잔', '볼로냐', '투르', '마르티', '파르', '도르', '장엄', '대주교', '북유럽', '율리', '암스테르담', '젤라', '색채', '그리스도교', '추기경', '총독', '신으', '신을', '세계문화', '투르크', '프란체스', '선출되', '로마시대', '19세기에', '휴양지', '도나우', '중앙역', '에우', '묘사한', '세계문화유산', '원주민', '한화', '로마인', '파스타', '비극적', '노동자들', '종교적', '세속', '베니스', '막시', '호스텔', '예루살렘', '탄압하', '로사', '메소', '오르비에', '카롤', '브뤼셀', '아르카', '루브르', '헬싱', '알반', '로마제국', '젤라또', '중엽', '살레르노', '바르셀로나', '영웅적', '라파엘로', '무화', '아를', '파라다이스', '문학과', '제자들', '시칠리아', '푸에', '피나코', '비평가들', '후대', '두오', '두오모', '신약', '문학에', '바벨', '코펜하겐에', '발레리', '오트', '재임', '구약', '오르페', '사티', '인어', '왕립', '객실', '카스트', '호텔스', '희극', '힐튼', '아고다', '몬트', '체크아웃', '그리스에', '포지타노', '베수비오', '안데', '4성', '성가대', '스칸', '예술에', '화산재', '안데르센', '카프리섬', '안데르', '로코', '사조', '홀리데이', '호텔가격비교', '셀라', '토론토', '창원사이드', '레지던', '인어공주', '헬싱키', '200주년', '걸작들', '문화유산', '산마르코', '샐러드', '쾰른', '클레멘티', '마드리', '마드리드', '정무', '리젠', '마산창원자동차', '창원R', '마산현대', '마산천', '창원D', '창원올뉴', '함부르크', '베키', '루디', '창원스', '마산아이', '마산아', '코스타', '창원매', '마산스포티지', '창원스포티지R', '창원배기', '창원K5', '창원투싼', '마산K', '창원T', '창원H', '마산튜닝', '마산K3', '창원틴팅', '마산리', '마산코란도', '마산3M', '창원2', '마산T', '창원만렘보', '마산H', '창원스포티지', '마산배기', '창원아반떼', '마산만렘보', '마산스', '창원K', '창원sm', '마산K5', '마산모', '창원하체', '마산그', '창원튜닝', '마산sm', '창원K3', '창원코란도', '마산매', '창원흡', '창원그', '마산하', '마산프', '마산아반떼', '마산흡', '건축설', '문학적', '쿠알라', '밴쿠버', '치앙', '제자였', '색채감', '감상자', '1804년', '오도바이', '패트릭', '칼스', '체스', '취리히', '바르샤바', '에스파', '한화리조트', '크리스티안', '라자', '덴마크에', '세비야', '부다페스트', '부라노', '광안', '로카', '스투', '부에노스', '부티', '티볼리라', '페드로', '페드', '광안대교', '오클', '거장들', '잘츠부르크', '투숙객', '리아', '놀이기구', '로젠', '체스키', '다운타운', '루이지', '마힌드라', '샬롯', '루스', '부산여', '킹스', '부산여행', '마린시티', '1830년', '관광안내', '침구', '에스토', '대법원', '침실', '올림피아', '슬라브', '곤돌라', '코랄', '루치아', '방갈로', '부산역', '브르', '계몽', '선원들', '티볼리가', '취사', '추천일', '야간열차', '야간열', '리스본', '유레일', '세속적', '더베이', '국제시장', '볼리', '흑자', '달맞이', '백작', '해고', '융프라우', '회담', '해고자', '해운대에', '장엄하', '루체른', '복직', '한화콘도', '카리부', '객실에', '이효리', '이효', '코나', '방한', '부츠', '사회복지', '셰익스피어', '샌즈', '페레', '증권거래소', '회원권', '피츠', '몽마르', '콜롬비아', '비키', '평택공장', '아쿠아리움', '앤젤', '브룩', '스파게티', '금속노조', '첸나이', '자갈치', '콘서트홀', '월트', '샤넬', '바디워', '루이지애나', '유로화', '크라코', '태종', '게오르', '트리니', '부산역에', '신고전주의', '국립극장', '가구들', '복지국가', '해동', '의원들', '체크인하', '희곡', 'LF소나타PPF', '착용샷', '여성스럽', '불스원에어', '청주모', '남부투어', '런치', '암보', '화덕', '호스텔에', '쏘렐', '사회보장', '사회보', '용궁', '신어보', '홍콩공항', '쌍용차에', '데님', '신는', '모네', '아소', '정책기', '정리해고', '가이드님', '소렐', '스노우엔젤', '어그', '이사벨', '해고노동자', '베르크', '루이비통', '이효리씨', '팜스', '신어', '버프', '인어공주를', '소식에', '식전빵', '만년에', '아이나비X1', '이지카E7', '흑자전환', '하카', '고전시대', '자이로', '티볼리2', '사측', '내피', '휘닉스', '싼타페인', '희망퇴직', '대전칼라', '아우디네비게이션', '아우디네비', '대전소', '대전파인드라이브', '매직카다이아몬드', '올뉴카니발LED', 'LF소나타LED', '브로스젠', '대전exLED', '아우디A6네비', '올뉴카니발전', '대전스마트키', '벤츠네비게이션', '싼타페DM전', '편지에', '스피디', '기사단', '캔버스', '학연', '숄더백', '대전쌍용', '키친', '어록', '벤츠네비', '고공농성', '인상파', '고전주의', '시마스', '절벽위', '막스', '네버', '에밀', '수안보', '토드', '백산', '의제', '데일리백', '이주하', '최대주주', '토속', '아세아', '피앤', '중고명품', '미국여행', '에티하드', '작은방', '까르보나라', '폰테', '피클', '유안타', '넥스피아', '코맥스', '진천읍', '청주인', '청주가', '청주남', '청주이', '스파크자동차키', '쏘울자동차키', '청주인터폰', '청주비디오폰', '증평읍', '청주열쇠', '청주비', '청주탑', '청주자동차키', '청주영', '청주용', '청주차키', '청주서', '내수읍', '판매설치', '전용장비이용', '개문하', '청주전지역출장', '청주공항', '퓌센', '지퍼', '인상주의', '해학', '수입차견인', '탄산수', '보테', '주왕산', '쿤스', '작품집', '끌로', '제23', '고르곤졸라', '대구리', '대구알', '대구빅스', '대구후방', '대구제일', '대구하', '대구전체', '대구세', '대구진보하', '대구블랙박스장착', '에미레이트', '대구가', '불매운동', '기대감에', '힐랜', '유안타증권', '한투', '신부동', '무급', '소렌토에', '라즈', '라코', '1770년', '가로수길에', '세계경제', '몽상', '미항', '사측에', '심연', '복리후생', '비탈리', '문학사', '2성', '한샘', '노동자에', '지부장', '호조에', '멜리', '턴어라운드', '제2부', '나바', '초고층', '방2', '대주주', '리조또', '슈타트', '호실', '근로자들', '동대학원', '분양한', '사철', '물걸레', '작용하였', '몽테', '한화그룹', '아시아경제', '분양하', '방3', '72개', '정상회의', '호실적', '정상회', '유상증자', '특별분양', '민생', '푸치니', '머스크', '시벨리우스', '엘렌', '엠케이', '공급계약', '발언에', '유작', '손배', '화덕피자', '퇴직자', '통상임금', '47억', '1801년', '명품중고', '전통문화', '정상회담', '더샵', '무라카미', '한국화장품', '바이마르', '국민투표', '글리터', '공모주', '캔들', '가죽가방', '쓰여졌', '트리니티', '천안네비게이션', '시민사회', '파스타집', 'LF쏘나타불스원', '동남점', '카니발YP생활보', 'LF소나타불스원', '뉴제네시스네비', '뉴제네시스불스원', '카니발YP네비', '국제유', '국제유가', '흥국생명', '일동제약', '쌍용에서', '빈백', '기프트카', '전국체', '장외주식시', '빠네', '주문서', '두산위브', '스트링', '쌍용자동차에서', '고전에', '기업형', '연주회장', '국립음악원', '영업손실', '필모', 'TP표준점수', '매수유지', '예단', '크림소스', '로시니', '티볼리시', '홈경기', '삼성에스디', '노사정', '3500억', '역사관', '공연문', '분양중', '노이슈반슈타인', '올뉴투싼', '적자폭', '문건', '통진당', '상장예정', '상장예', '크림스파게티', '김의수', '이구아나', '7000억', '정기연주회', '드레스룸', '벤처캐피', '통통거림', '시향', '유가하락', '하림', '급락에', '하루키', '아너', 'k3가', '한국정보', '스탠리', '논의하기', '산문', '한국경영', '순면', '75억', '키움증권', '태교', '영산아트홀', '예원학교', '상해종합지수', '사학', '알비노니', '갤S', '기업지', '탐앤탐스', '체임버', '카프리섬에', '번스타인', '음악상', '명상적', '첫곡', '휴장', '선화예', '국제콩쿨', '골문', '생산자물가', '개인소비', '1만8000', '성투', '최경주', '통신업종', '금호산업', '한국해', '경제이', '구속영장', '산천어', '바르는차음재', '투싼이라', '순손실', '원마', '법치', '안티쇼크', '노면충격', '사물인터넷', '출력연비', '홀서빙', '채용시']\n",
      "\n",
      "False specific (common words)\n",
      "['지수하락', '장대음봉', '하락반전', '카멘토', '작품2', '지수상승', '주식매수', '임금피크제', '하방경직성', '확정치', '법사', '기탁', '기업정보', '우려보다', '음악애호가', '출고경험', '케이에', '생산현장', '제약사', '게임주', '락앤락', '25조', '정배열', '아딸', '아이도랑', '그린에너지', '정책위', '도플', '방랑자', '헤드라인뉴스', 'LX중고차', '53억', '반락', '울란', '초강세', '평론가들', '삼광', '124억', '슈퍼6000', '장기성장', '출강하', '스프레드', '신문입니다', '큐엠5', '큐엠', '전북지', '남산점', '제2롯데월드', '제조사현대차량명', '스승의날', '찬송가', '투자분석부', '건보', '소비자물가', '최대실적', '신형투싼', '전망2', '코란도에', '코란토', '기본혜택', '주총', '뚜레쥬르', '다음카카오', '쏘렌토시', '자동차멀', '줄기세포', 'QXD900뷰', '카페인W', '비타민D', '제이비', '모토자인', '국제환경', '투싼TL', '용재', '성희롱', '카멋진넘', '디컷', 'LX최고급형', '김해삼계', '투톤컬러', '코란도C에', '성남수입차', '소형SUV', '제네시스엔진오일', 'K3엔진오일', '코란도와', '업카넷', '티볼리만', '아우디전', '마쳣', '에이블', '시그니', '아티젠IB', '포유모터스', '쌍용이', '크롬스', '훨발란스수리', '순정훨그대로', '리스차훨수리', '수입차훨수리', '렌트카훨', '순정훨', '훨페인트', '훨스', '훨바', '훨수리', '정상할부', '자동차명가에서', '블스원', '대구무광', '수입차카스킨', '카데', '남양주튜닝', '72개월', '자동차명가', '자동차명가에', '오토누리', '카픽', '제로100', 'RV용', '아침8시', '재진패드', 'QM3에', 'QM3보다', 'k3데', '애니커스텀', '튤레', '쌍용X', '캠핑트레일러', 'LX고급형', '부산LED', '부산미니', '부산포', '부산워크인', 'K5전방', '모터피', 'BMW컨', '부산불스원', '다이즈', '카카오카', '불법스', '126마력', '캐시카이', '투싼에', '코란도C가', '개인중고차', '쏘렌토UM', '카오스타공', '자동변속기미션', '유진협력']\n",
      "\n",
      "Has no related words\n",
      "['삼성가', '소식지', '본죽', '이브닝', '우선협상자', '본입찰', '협연했', '잠정합의', '칠리새우', '청중과', '음악영']\n"
     ]
    }
   ],
   "source": [
    "print('category = {}'.format(index2category[c]))\n",
    "print('True specific')\n",
    "print(remove_alphabet_number_comb([word for word, _ in true_specific]))\n",
    "print('\\nFalse specific (common words)')\n",
    "print(remove_alphabet_number_comb([word for word, _ in false_specific]))\n",
    "print('\\nHas no related words')\n",
    "print(remove_alphabet_number_comb([word for word, _ in has_no_relateds]))"
   ]
  },
  {
   "cell_type": "code",
   "execution_count": 15,
   "metadata": {
    "collapsed": true
   },
   "outputs": [],
   "source": [
    "positive_features = {word for word in common_words}\n",
    "positive_features.update([word for word, _ in false_specific])\n",
    "negative_features = {word for word, _ in true_specific}\n",
    "negative_features.update([word for word, _ in has_no_relateds])\n",
    "\n",
    "positive_features = {subword2index[word] for word in positive_features}\n",
    "negative_features = {subword2index[word] for word in negative_features}\n",
    "\n",
    "x_fname = '{}/subword_tf_c{}.mtx'.format(model_directory, c)\n",
    "x = mmread(x_fname).tocsr()"
   ]
  },
  {
   "cell_type": "code",
   "execution_count": 16,
   "metadata": {},
   "outputs": [
    {
     "name": "stdout",
     "output_type": "stream",
     "text": [
      "classification was done.                                                  \n"
     ]
    }
   ],
   "source": [
    "scores, num_features, unknown_features = classify_documents(x, positive_features, negative_features, negative_score_factor=1)"
   ]
  },
  {
   "cell_type": "code",
   "execution_count": 17,
   "metadata": {},
   "outputs": [
    {
     "name": "stdout",
     "output_type": "stream",
     "text": [
      "len scores = 229253\n",
      "len counter(scores) = 32293\n"
     ]
    }
   ],
   "source": [
    "print('len scores =',len(scores))\n",
    "print('len counter(scores) =',len(Counter(scores)))"
   ]
  },
  {
   "cell_type": "code",
   "execution_count": 18,
   "metadata": {},
   "outputs": [
    {
     "data": {
      "image/png": "[encoded data removed]",
      "text/plain": [
       "<matplotlib.figure.Figure at 0x7fdb9dd742b0>"
      ]
     },
     "metadata": {},
     "output_type": "display_data"
    }
   ],
   "source": [
    "plt.figure(figsize=(10,7))\n",
    "plt.hist(scores, bins=10)\n",
    "plt.title('distribution of score(d) in category Sonata')\n",
    "plt.show()"
   ]
  },
  {
   "cell_type": "code",
   "execution_count": 19,
   "metadata": {},
   "outputs": [
    {
     "name": "stdout",
     "output_type": "stream",
     "text": [
      "49526 179727\n"
     ]
    }
   ],
   "source": [
    "threshold = 0.8\n",
    "negative = [i for i, score in enumerate(scores) if score < threshold]\n",
    "positive = [i for i, score in enumerate(scores) if score > threshold]\n",
    "print(len(negative), len(positive))"
   ]
  },
  {
   "cell_type": "code",
   "execution_count": 20,
   "metadata": {},
   "outputs": [
    {
     "data": {
      "text/plain": [
       "-0.52738139938975048"
      ]
     },
     "execution_count": 20,
     "metadata": {},
     "output_type": "execute_result"
    }
   ],
   "source": [
    "scores[15]"
   ]
  },
  {
   "cell_type": "code",
   "execution_count": 24,
   "metadata": {
    "scrolled": false
   },
   "outputs": [
    {
     "name": "stdout",
     "output_type": "stream",
     "text": [
      "#doc=1, score=-0.4275, unknown_features=0.302, num_features=510\n",
      "[('음악', 10), ('드보르자크', 9), ('연주', 8), ('미국', 7), ('4악장', 5), ('이런', 5), ('것은', 4), ('신세', 4), ('신세계', 4), ('연주하', 4), ('음악원', 4), ('있다', 4), ('주제', 4), ('학교', 4), ('1주', 3), ('1주제', 3), ('박진', 3), ('사실', 3), ('아니', 3), ('연주하는', 3), ('이라', 3), ('자리', 3), ('작곡', 3), ('저희', 3), ('조건', 3), ('초등', 3), ('초등학', 3), ('1악장', 2), ('3악장', 2), ('같아', 2)] \n",
      "\n",
      "#doc=8, score=0.6845, unknown_features=0.1877, num_features=405\n",
      "[('감사', 31), ('감사드립니다', 31), ('해주', 27), ('해주셔', 25), ('있게', 20), ('오늘', 13), ('성경', 7), ('주셔서', 6), ('산책', 5), ('마음', 4), ('가족', 3), ('공기', 3), ('날씨', 3), ('들어', 3), ('따뜻', 3), ('따뜻한', 3), ('맑은', 3), ('북한', 3), ('좋은', 3), ('즐거', 3), ('피아', 3), ('피아노', 3), ('하루', 3), ('햇살', 3), ('가니', 2), ('가족이', 2), ('기분', 2), ('누군가', 2), ('들어올', 2), ('소나타', 2)] \n",
      "\n",
      "#doc=9, score=-0.4221, unknown_features=0.2515, num_features=505\n",
      "[('토요', 13), ('연주', 8), ('예술', 8), ('예술의', 8), ('베토벤', 7), ('신세', 7), ('신세계', 7), ('함께', 7), ('함께하', 6), ('느낌', 5), ('모짜르트', 5), ('1부', 4), ('2부', 4), ('3월', 4), ('교향곡', 4), ('느낌이', 4), ('예술의전당', 4), ('오늘', 4), ('이번', 4), ('콘서트', 4), ('플루', 4), ('플루트', 4), ('협주곡', 4), ('공연', 3), ('그래', 3), ('그래서', 3), ('김대', 3), ('다른', 3), ('다시', 3), ('되었', 3)] \n",
      "\n",
      "#doc=11, score=0.7495, unknown_features=0.3537, num_features=147\n",
      "[('만들', 3), ('소리', 3), ('그것', 2), ('마음', 2), ('만나', 2), ('만나는', 2), ('만들어', 2), ('사냥', 2), ('사람', 2), ('욕심', 2), ('일어', 2), ('100년', 1), ('2006년', 1), ('가벼', 1), ('가벼움', 1), ('가장', 1), ('갖고', 1), ('같던', 1), ('그것이', 1), ('그대로', 1), ('그렇', 1), ('그렇듯', 1), ('그지', 1), ('끝내', 1), ('나니', 1), ('나오', 1), ('나오는', 1), ('낮아', 1), ('낮아지', 1), ('내리', 1)] \n",
      "\n",
      "#doc=12, score=-0.5869, unknown_features=0.4938, num_features=81\n",
      "[('첼로', 4), ('공연', 3), ('모습', 2), ('소나타', 2), ('피아', 2), ('피아노', 2), ('2011년', 1), ('29일', 1), ('3월', 1), ('금호', 1), ('금호아트홀', 1), ('느꼈', 1), ('느꼈다', 1), ('당당', 1), ('독주', 1), ('독주회', 1), ('라흐마니노프', 1), ('모습에', 1), ('모습을', 1), ('배려', 1), ('배려하', 1), ('베토벤', 1), ('보여', 1), ('보여주', 1), ('보여주는', 1), ('상대', 1), ('어울', 1), ('어울렸', 1), ('연주', 1), ('연주자', 1)] \n",
      "\n",
      "#doc=13, score=-0.7215, unknown_features=0.2987, num_features=77\n",
      "[('피아', 5), ('피아노', 5), ('베토벤', 4), ('피아노소나타', 4), ('연주', 2), ('월광', 2), ('14번', 1), ('1악장', 1), ('23번', 1), ('2악장', 1), ('3대', 1), ('3악장', 1), ('8번', 1), ('느껴', 1), ('느껴지', 1), ('느껴지고', 1), ('달빛', 1), ('동영상', 1), ('동영상은', 1), ('리시', 1), ('리시차', 1), ('링크', 1), ('많다', 1), ('발렌', 1), ('부르', 1), ('부르는', 1), ('비창', 1), ('사람', 1), ('사람이', 1), ('소나타', 1)] \n",
      "\n",
      "#doc=15, score=-0.5274, unknown_features=0.385, num_features=413\n",
      "[('베토벤', 15), ('피아', 7), ('가장', 5), ('연주', 5), ('피아노', 5), ('사랑', 4), ('음반', 4), ('음악', 4), ('후배', 4), ('구이', 3), ('소나타', 3), ('아버지', 3), ('음반이', 3), ('지울', 3), ('협주곡', 3), ('가까', 2), ('가까운', 2), ('같은', 2), ('것이', 2), ('격렬', 2), ('곡이', 2), ('교향곡', 2), ('그가', 2), ('독신', 2), ('독일', 2), ('된다', 2), ('만들', 2), ('많은', 2), ('멜로', 2), ('멜로디', 2)] \n",
      "\n",
      "#doc=16, score=-1.0, unknown_features=0.8571, num_features=21\n",
      "[('이화', 4), ('이화경향', 4), ('1악장', 2), ('예선', 2), ('청룡', 2), ('모짜르트', 1)] \n",
      "\n",
      "#doc=19, score=-0.8334, unknown_features=0.8642, num_features=2364\n",
      "[('단조', 29), ('장조', 29), ('교향곡', 24), ('현악', 24), ('피아', 14), ('피아노', 14), ('4중', 11), ('4중주', 11), ('소나타', 8), ('칸타', 8), ('칸타타', 8), ('코랄', 8), ('협주곡', 8), ('1번', 7), ('2번', 7), ('5번', 7), ('바이', 7), ('바이올', 7), ('바이올린', 7), ('3번', 5), ('4번', 5), ('위한', 5), ('3개', 4), ('가곡', 4), ('여름', 4), ('피아노를', 4), ('6번', 3), ('서곡', 3), ('종교', 3), ('첼로', 3)] \n",
      "\n",
      "#doc=22, score=-0.3217, unknown_features=0.5093, num_features=108\n",
      "[('나의', 4), ('낙엽', 4), ('베토벤', 4), ('거리', 3), ('베토벤과', 3), ('함께', 3), ('건반', 2), ('건반위', 2), ('바스', 2), ('소리', 2), ('손가락', 2), ('자유', 2), ('피아', 2), ('피아노', 2), ('가로', 1), ('가로수', 1), ('거리에', 1), ('걸었', 1), ('그리고', 1), ('나는', 1), ('놀이', 1), ('다닌', 1), ('다닌다', 1), ('되었', 1), ('되었다', 1), ('된다', 1), ('떨어', 1), ('떨어진', 1), ('만난', 1), ('만난다', 1)] \n",
      "\n",
      "#doc=23, score=-0.7758, unknown_features=0.5541, num_features=388\n",
      "[('피아', 7), ('심포', 6), ('심포니', 6), ('피아노', 6), ('필하모닉', 6), ('디렉', 5), ('순회', 5), ('순회연주', 5), ('협주곡', 5), ('오케', 4), ('오케스트라', 4), ('전곡', 4), ('주립', 4), ('가졌', 3), ('녹음', 3), ('모스', 3), ('모스크바', 3), ('미국', 3), ('베를', 3), ('베를린', 3), ('실내', 3), ('실내악', 3), ('협연', 3), ('18세', 2), ('1990년', 2), ('가졌다', 2), ('교향악단', 2), ('국제', 2), ('녹음하', 2), ('런던', 2)] \n",
      "\n",
      "#doc=25, score=-0.6045, unknown_features=0.7066, num_features=351\n",
      "[('실내', 5), ('실내악', 5), ('명곡', 4), ('음악', 4), ('좋아', 4), ('좋아하', 4), ('좋아하는', 4), ('한국', 4), ('한국인', 4), ('한국인이', 4), ('미뉴에트', 3), ('사랑', 2), ('사랑의', 2), ('세레', 2), ('세레나데', 2), ('연주', 2), ('작은', 2), ('18세', 1), ('18세기', 1), ('가보', 1), ('가장', 1), ('고전', 1), ('궁전', 1), ('그린', 1), ('기쁨', 1), ('대니', 1), ('덴마크', 1), ('들려', 1), ('라르', 1), ('리베르', 1)] \n",
      "\n",
      "#doc=27, score=0.4881, unknown_features=0.3463, num_features=436\n",
      "[('그것', 4), ('들어', 4), ('아버지', 4), ('있는', 4), ('피아', 4), ('피아노', 4), ('같은', 3), ('기기', 3), ('다른', 3), ('마음', 3), ('마음속', 3), ('사람', 3), ('소리', 3), ('아니', 3), ('이런', 3), ('있었', 3), ('정도', 3), ('평론가', 3), ('하지만', 3), ('것은', 2), ('것이', 2), ('골짜기', 2), ('그것이', 2), ('그런', 2), ('때문에', 2), ('바닷', 2), ('바닷가', 2), ('백화', 2), ('백화점', 2), ('부르', 2)] \n",
      "\n",
      "#doc=28, score=-0.3788, unknown_features=0.5294, num_features=17\n",
      "[('10시', 1), ('2011년', 1), ('29일', 1), ('6월', 1), ('소나타', 1), ('쇼스타코비치', 1), ('오전', 1), ('저장', 1), ('첼로', 1)] \n",
      "\n",
      "#doc=30, score=-0.5287, unknown_features=0.4867, num_features=339\n",
      "[('첼로', 7), ('금호', 4), ('금호아트홀', 4), ('독주', 4), ('독주회', 4), ('2악장', 3), ('공연', 3), ('조선', 3), ('형식', 3), ('1악장', 2), ('3부', 2), ('3악장', 2), ('가고', 2), ('가득', 2), ('감정', 2), ('그리고', 2), ('낭만', 2), ('되어', 2), ('선율', 2), ('소나타', 2), ('스케', 2), ('스케르초', 2), ('쓰여', 2), ('악장', 2), ('여유', 2), ('있다', 2), ('작곡', 2), ('작품', 2), ('찾아', 2), ('하는', 2)] \n",
      "\n",
      "#doc=31, score=-0.09808, unknown_features=0.3912, num_features=340\n",
      "[('충주', 17), ('문화', 9), ('공연', 8), ('문화예술', 6), ('연말', 5), ('정기', 5), ('음악', 4), ('국악', 3), ('다양한', 3), ('블로그', 3), ('선사', 3), ('송년', 3), ('시민', 3), ('시민들', 3), ('음악회', 3), ('정기연주회', 3), ('준비', 3), ('함께', 3), ('가족', 2), ('각각', 2), ('개최', 2), ('개최되', 2), ('것이', 2), ('것이다', 2), ('관현악', 2), ('높은', 2), ('되어', 2), ('러시아', 2), ('맞아', 2), ('문화회관', 2)] \n",
      "\n",
      "#doc=36, score=-0.3244, unknown_features=0.4156, num_features=474\n",
      "[('신이', 20), ('신이치', 20), ('노다', 14), ('노다메', 13), ('메구', 11), ('만나', 6), ('지휘', 6), ('프랑스', 6), ('비에', 5), ('그리고', 4), ('만나게', 4), ('제자', 4), ('쿠로', 4), ('프랑스어', 4), ('공부', 3), ('미르', 3), ('선생님', 3), ('시작', 3), ('유럽', 3), ('이분', 3), ('일본', 3), ('친구', 3), ('캐릭터', 3), ('콩쿨', 3), ('파리', 3), ('피아', 3), ('피아노', 3), ('함께', 3), ('끝난', 2), ('너무', 2)] \n",
      "\n",
      "#doc=53, score=-0.4079, unknown_features=0.3333, num_features=57\n",
      "[('너무', 2), ('베토벤', 2), ('연주', 2), ('15번', 1), ('1악장', 1), ('2010년', 1), ('20번', 1), ('2월', 1), ('3학년', 1), ('G장조', 1), ('그래', 1), ('그래도', 1), ('그리고', 1), ('근데', 1), ('끝부분', 1), ('노력', 1), ('노력했', 1), ('다시', 1), ('당황', 1), ('당황했', 1), ('대견', 1), ('마무리', 1), ('많이', 1), ('모습', 1), ('모습이', 1), ('소나타', 1), ('소나티네', 1), ('실수', 1), ('아쉽', 1), ('악상', 1)] \n",
      "\n",
      "#doc=66, score=0.2733, unknown_features=0.3244, num_features=225\n",
      "[('음악', 11), ('수면', 6), ('잠이', 5), ('분들', 4), ('불면', 4), ('불면증', 4), ('도움', 3), ('있는', 3), ('있으', 3), ('자기', 3), ('조용', 3), ('중에', 3), ('클래', 3), ('클래식', 3), ('같은', 2), ('건강', 2), ('도움이', 2), ('들어', 2), ('들을', 2), ('많은', 2), ('분들은', 2), ('분들이', 2), ('않는', 2), ('어플', 2), ('오지', 2), ('음악이', 2), ('자장', 2), ('자장가', 2), ('잠잘', 2), ('전에', 2)] \n",
      "\n",
      "#doc=68, score=-0.7832, unknown_features=0.1739, num_features=46\n",
      "[('노다', 3), ('노다메', 3), ('모짜르트', 2), ('유럽', 2), ('칸타', 2), ('칸타빌레', 2), ('18번', 1), ('1번', 1), ('거울', 1), ('교향곡', 1), ('나에게', 1), ('데뷔', 1), ('따라', 1), ('따라하', 1), ('라벨', 1), ('루이', 1), ('리사', 1), ('리사이', 1), ('리사이틀', 1), ('리스', 1), ('리스트', 1), ('무대', 1), ('반짝', 1), ('반짝반짝', 1), ('변주곡', 1), ('브람스', 1), ('소나타', 1), ('아침', 1), ('어릿광대', 1), ('연습', 1)] \n",
      "\n",
      "#doc=77, score=-0.5615, unknown_features=0.3004, num_features=283\n",
      "[('연주', 9), ('무대', 6), ('대관', 5), ('대관령', 5), ('음악', 5), ('클라', 5), ('국제', 4), ('클라리', 4), ('클라리넷', 4), ('관객', 3), ('국제음악', 3), ('바이', 3), ('바이올', 3), ('바이올린', 3), ('악기', 3), ('자리', 3), ('자리에', 3), ('피아', 3), ('피아노', 3), ('다음', 2), ('두번째', 2), ('마지막', 2), ('분들', 2), ('분들이', 2), ('손열음', 2), ('연주가', 2), ('음악가', 2), ('음악가들', 2), ('있는', 2), ('정경', 2)] \n",
      "\n",
      "#doc=78, score=-0.1828, unknown_features=0.4286, num_features=49\n",
      "[('승현', 6), ('빅뱅', 2), ('어머', 2), ('어머니', 2), ('지용', 2), ('가게', 1), ('거기', 1), ('거기서', 1), ('그러', 1), ('그러다', 1), ('눈빛', 1), ('다룬', 1), ('돌아', 1), ('돌아가', 1), ('된다', 1), ('만나', 1), ('만나게', 1), ('목격', 1), ('목격하', 1), ('바람', 1), ('본다', 1), ('쇼팽', 1), ('승리', 1), ('아버지', 1), ('아주', 1), ('안좋', 1), ('어떤', 1), ('월광', 1), ('월광소나타', 1), ('음악', 1)] \n",
      "\n",
      "#doc=81, score=-0.5429, unknown_features=0.2979, num_features=1232\n",
      "[('음악', 18), ('오페라', 16), ('기악', 11), ('시대', 11), ('교향곡', 9), ('악기', 9), ('되었', 8), ('서곡', 8), ('피아', 8), ('피아노', 8), ('같은', 7), ('기악곡', 7), ('모음', 7), ('성악', 7), ('실내', 7), ('연주', 7), ('이탈', 7), ('이탈리아', 7), ('형식', 7), ('18세', 6), ('18세기', 6), ('되었다', 6), ('모음곡', 6), ('바로', 6), ('신포', 6), ('실내악', 6), ('현악', 6), ('고전', 5), ('교회', 5), ('등장', 5)] \n",
      "\n",
      "#doc=82, score=0.2459, unknown_features=0.52, num_features=25\n",
      "[('얼마', 2), ('정말', 2), ('5억', 1), ('가까', 1), ('가까이', 1), ('가물', 1), ('가물가물', 1), ('건설', 1), ('대단', 1), ('대단한', 1), ('들었', 1), ('들었는데', 1), ('멋있', 1), ('멋있다', 1), ('산하', 1), ('소나타', 1), ('소나타가', 1), ('없앤', 1), ('이장', 1)] \n",
      "\n",
      "#doc=88, score=-0.3486, unknown_features=0.2571, num_features=630\n",
      "[('스테', 12), ('스테판', 12), ('연주', 12), ('바이', 9), ('바이올', 9), ('명상', 7), ('바이올린', 7), ('타이스', 7), ('느낌', 6), ('곡이', 5), ('정말', 5), ('좋아', 5), ('들었', 4), ('많이', 4), ('사진', 4), ('소리', 4), ('싸인', 4), ('있는', 4), ('제가', 4), ('좋아하', 4), ('피아', 4), ('가장', 3), ('그렇', 3), ('그렇게', 3), ('느낌이', 3), ('리사', 3), ('리사이', 3), ('리사이틀', 3), ('마지막', 3), ('모음', 3)] \n",
      "\n",
      "#doc=95, score=-0.4475, unknown_features=0.4333, num_features=150\n",
      "[('피아', 9), ('피아노', 9), ('리스', 8), ('리스트', 8), ('소나타', 5), ('연주', 3), ('가서', 2), ('독주', 2), ('라이', 2), ('박물관', 2), ('배우', 2), ('배우고', 2), ('이름', 2), ('파리', 2), ('헝가리', 2), ('1823년', 1), ('6세', 1), ('가져', 1), ('각지', 1), ('감상', 1), ('감상해', 1), ('감상해보', 1), ('거두', 1), ('거두었', 1), ('네이버', 1), ('다시', 1), ('다음', 1), ('데뷔', 1), ('데뷔하', 1), ('독일', 1)] \n",
      "\n",
      "#doc=98, score=-0.66, unknown_features=0.5517, num_features=174\n",
      "[('첼로', 6), ('소나타', 4), ('D장조', 3), ('베토벤', 3), ('악기', 3), ('제5', 3), ('가지고', 2), ('마지막', 2), ('악장', 2), ('3악장', 1), ('4번', 1), ('5곡', 1), ('강한', 1), ('갖고', 1), ('같이', 1), ('곡이', 1), ('관심', 1), ('구성', 1), ('그렇', 1), ('그렇게', 1), ('기교', 1), ('깊이', 1), ('남겼', 1), ('느끼', 1), ('느끼게', 1), ('달라', 1), ('대위법', 1), ('대위법적', 1), ('대해', 1), ('대해서', 1)] \n",
      "\n",
      "#doc=101, score=-0.8603, unknown_features=0.0, num_features=12\n",
      "[('소나타', 2), ('슈베르트', 2), ('아다', 2), ('아다지오', 2), ('아르', 2), ('아르페지오네', 2)] \n",
      "\n",
      "#doc=102, score=0.481, unknown_features=0.3333, num_features=150\n",
      "[('낭만', 6), ('그런', 5), ('기억', 4), ('다시', 4), ('대하여', 4), ('오래', 4), ('오래된', 3), ('이제', 3), ('남아', 2), ('남아있', 2), ('내게', 2), ('느낌', 2), ('느낌이', 2), ('들어', 2), ('들어보', 2), ('생각', 2), ('생각했', 2), ('슈베르트', 2), ('일기', 2), ('일기장', 2), ('추억', 2), ('2악장', 1), ('가사', 1), ('가슴', 1), ('감수', 1), ('감수성', 1), ('감정', 1), ('감정들', 1), ('같은', 1), ('것이', 1)] \n",
      "\n",
      "#doc=103, score=-0.4794, unknown_features=0.4319, num_features=1218\n",
      "[('데이', 17), ('바이', 14), ('바이올', 14), ('오케', 13), ('오케스트라', 13), ('연주', 12), ('바이올린', 11), ('지휘', 11), ('음악', 10), ('협연', 8), ('세계', 7), ('음반', 6), ('있다', 6), ('협주곡', 6), ('발매', 5), ('그라', 4), ('도이', 4), ('도이치', 4), ('독일', 4), ('무대', 4), ('미국', 4), ('오케스트라와', 4), ('일본', 4), ('자신', 4), ('지휘하', 4), ('펄만', 4), ('호평', 4), ('10억', 3), ('1997년', 3), ('2004년', 3)] \n",
      "\n",
      "#doc=104, score=-0.5415, unknown_features=0.6721, num_features=918\n",
      "[('서울', 13), ('졸업', 10), ('연주', 9), ('콩쿨', 9), ('정재', 7), ('국제', 6), ('독일', 6), ('독주', 6), ('허상', 6), ('김연', 5), ('서울대', 5), ('참가', 5), ('페스티발', 5), ('피아', 5), ('피아노', 5), ('11월', 4), ('공연', 4), ('독주회', 4), ('바이', 4), ('바이올', 4), ('바이올린', 4), ('부조', 4), ('부조니', 4), ('오스', 4), ('오스트', 4), ('오스트리아', 4), ('음악', 4), ('입상', 4), ('입장', 4), ('초청', 4)] \n",
      "\n",
      "#doc=108, score=-0.4281, unknown_features=0.4762, num_features=21\n",
      "[('만들', 3), ('만들고', 1), ('만들고싶', 1), ('만들기', 1), ('방학', 1), ('알아', 1), ('알아야', 1), ('오바', 1), ('월광', 1), ('월광소나타', 1), ('일단', 1), ('자작', 1), ('작곡', 1), ('하나', 1)] \n",
      "\n",
      "#doc=110, score=-0.8603, unknown_features=0.6471, num_features=17\n",
      "[('1악장', 2), ('11번', 1), ('3학년', 1), ('레슨', 1), ('베토벤', 1), ('소나타', 1), ('장안', 1)] \n",
      "\n",
      "#doc=116, score=-0.5367, unknown_features=0.4079, num_features=1417\n",
      "[('연주', 25), ('음악', 24), ('클라', 21), ('클라리', 21), ('클라리넷', 19), ('있다', 9), ('작곡', 9), ('작품', 9), ('피아', 8), ('협연', 8), ('세계', 7), ('이건', 7), ('브람스', 6), ('소나타', 6), ('오케', 6), ('오케스트라', 6), ('이벤트', 6), ('피아노', 6), ('곡이', 5), ('교향악단', 5), ('독일', 5), ('소개', 5), ('연주자', 5), ('위한', 5), ('작곡한', 5), ('장학', 5), ('장학생', 5), ('콩쿨', 5), ('페스티벌', 5), ('실내', 4)] \n",
      "\n",
      "#doc=117, score=-0.5215, unknown_features=0.3124, num_features=2686\n",
      "[('브람스', 96), ('음악', 32), ('관현악', 23), ('연주', 23), ('작곡', 20), ('작품', 20), ('피아', 19), ('교향곡', 18), ('음향', 18), ('악기', 17), ('피아노', 16), ('슈만', 13), ('클라', 12), ('완성', 11), ('그러', 10), ('되었', 10), ('바이', 10), ('바이올', 10), ('있었', 10), ('바이올린', 9), ('시작', 9), ('요아힘', 9), ('있다', 9), ('화성', 9), ('솔로', 8), ('실내', 8), ('실내악', 8), ('오케', 8), ('3악장', 7), ('것이', 7)] \n",
      "\n",
      "#doc=121, score=0.2905, unknown_features=0.3099, num_features=171\n",
      "[('그리고', 3), ('없었', 3), ('거의', 2), ('너무', 2), ('너무나', 2), ('느린', 2), ('다행', 2), ('된것', 2), ('된것이', 2), ('디플', 2), ('빠른', 2), ('열심히', 2), ('이곡', 2), ('있어', 2), ('자신', 2), ('정말', 2), ('처음', 2), ('칠수', 2), ('했었', 2), ('16분음표', 1), ('3악장', 1), ('가르', 1), ('가르쳐', 1), ('가지고', 1), ('간직', 1), ('간직하', 1), ('그래', 1), ('그래도', 1), ('그루', 1), ('기쁨', 1)] \n",
      "\n",
      "#doc=123, score=-0.818, unknown_features=0.1667, num_features=6\n",
      "[('베토벤', 1), ('소나타', 1), ('시리즈', 1), ('연주', 1), ('전곡', 1), ('초청', 1)] \n",
      "\n",
      "#doc=131, score=0.6555, unknown_features=0.3654, num_features=104\n",
      "[('벚꽃', 3), ('구두', 2), ('만끽', 2), ('만끽하', 2), ('산책', 2), ('아침', 2), ('오늘', 2), ('지나', 2), ('탄천', 2), ('황홀', 2), ('A장조', 1), ('각인', 1), ('각인시', 1), ('같고', 1), ('개나', 1), ('걸었', 1), ('귀여', 1), ('귀여운', 1), ('근처', 1), ('나들이', 1), ('나의', 1), ('날아', 1), ('내렸', 1), ('내렸다', 1), ('너무', 1), ('너무나', 1), ('도로', 1), ('됐다', 1), ('둘째', 1), ('들으', 1)] \n",
      "\n",
      "#doc=132, score=-0.2561, unknown_features=0.2242, num_features=223\n",
      "[('연주', 20), ('연주회', 6), ('민성', 4), ('가족', 3), ('아이', 3), ('아이들', 3), ('친구', 3), ('가족들', 2), ('그동안', 2), ('내려', 2), ('다른', 2), ('마지막', 2), ('많은', 2), ('박수', 2), ('받았', 2), ('받았다', 2), ('삼촌', 2), ('실수', 2), ('연습', 2), ('우리', 2), ('이번', 2), ('있다', 2), ('좋은', 2), ('함께', 2), ('했고', 2), ('힘이', 2), ('E장조', 1), ('가족에', 1), ('가족에게', 1), ('감성', 1)] \n",
      "\n",
      "#doc=134, score=-0.7775, unknown_features=0.3529, num_features=17\n",
      "[('피아', 3), ('피아노', 3), ('들였', 2), ('같아', 1), ('들려', 1), ('멋지', 1), ('새로', 1), ('오네', 1), ('월광', 1), ('월광소나타', 1), ('피아노를', 1), ('함께', 1)] \n",
      "\n",
      "#doc=137, score=-0.3488, unknown_features=0.3838, num_features=383\n",
      "[('데시', 5), ('마지막', 4), ('백조', 4), ('음악', 4), ('있는', 4), ('있다', 4), ('레오', 3), ('레오니', 3), ('연주', 3), ('작품', 3), ('장면', 3), ('피아', 3), ('피아노', 3), ('회귀', 3), ('거리', 2), ('단편', 2), ('듯한', 2), ('멜로', 2), ('멜로디', 2), ('모스', 2), ('모스크바', 2), ('바로', 2), ('바이', 2), ('바이올', 2), ('바이올린', 2), ('발전', 2), ('변주곡', 2), ('보다', 2), ('살기', 2), ('소나타', 2)] \n",
      "\n",
      "#doc=141, score=0.2153, unknown_features=0.3441, num_features=1328\n",
      "[('얼티', 23), ('음향', 22), ('필자', 17), ('스튜디오', 14), ('것이', 13), ('있었', 13), ('스피', 12), ('스피커', 12), ('시청', 12), ('있는', 12), ('것이다', 10), ('그리고', 10), ('넘치는', 9), ('있다', 9), ('레벨', 8), ('대한', 7), ('있었다', 7), ('관능', 6), ('교향곡', 6), ('모델', 6), ('색채', 6), ('연출', 6), ('표정', 6), ('표현', 6), ('것은', 5), ('녹음', 5), ('듯한', 5), ('모습', 5), ('베토벤', 5), ('살롱', 5)] \n",
      "\n",
      "#doc=142, score=-0.04992, unknown_features=0.2682, num_features=768\n",
      "[('베토벤', 17), ('생각', 9), ('엄마', 8), ('연주', 8), ('소리', 7), ('음악', 7), ('시간', 6), ('어린', 6), ('피아', 6), ('나이', 5), ('베를', 5), ('베를린', 5), ('보내', 5), ('우리', 5), ('이유', 5), ('자신', 5), ('피아노', 5), ('10월', 4), ('것이', 4), ('그리고', 4), ('박수', 4), ('방송', 4), ('방송교향악단', 4), ('사랑', 4), ('아침', 4), ('열정', 4), ('있었', 4), ('조성', 4), ('그녀', 3), ('그러', 3)] \n",
      "\n",
      "#doc=146, score=-0.5515, unknown_features=0.289, num_features=218\n",
      "[('피아', 14), ('피아노', 12), ('작곡', 4), ('스카', 3), ('연주', 3), ('작품', 3), ('쳄발로', 3), ('클라', 3), ('건반', 2), ('밑에', 2), ('바하', 2), ('베토벤', 2), ('부터', 2), ('시작', 2), ('연주하', 2), ('위해', 2), ('음악', 2), ('음역', 2), ('음질', 2), ('클라비어', 2), ('피아노를', 2), ('피아니스트', 2), ('현재', 2), ('19세', 1), ('19세기', 1), ('가까', 1), ('가까운', 1), ('갖추', 1), ('건반에', 1), ('것이', 1)] \n",
      "\n",
      "#doc=148, score=0.4337, unknown_features=0.6693, num_features=378\n",
      "[('패턴', 4), ('피아', 4), ('피아노', 4), ('기호', 3), ('같은', 2), ('것이', 2), ('계속', 2), ('고등', 2), ('고등학', 2), ('그렇', 2), ('그렇다', 2), ('그렇다고', 2), ('느낌', 2), ('부분', 2), ('에이', 2), ('에이스', 2), ('영상', 2), ('온리', 2), ('이해', 2), ('일단', 2), ('점수', 2), ('정말', 2), ('클래', 2), ('클래식', 2), ('평점', 2), ('한국', 2), ('3점', 1), ('가도', 1), ('같습니다', 1), ('같은경우', 1)] \n",
      "\n",
      "#doc=149, score=-0.5979, unknown_features=0.2616, num_features=279\n",
      "[('오페라', 9), ('형식', 7), ('내용', 6), ('소나타', 5), ('오라', 5), ('오라토리오', 5), ('노래', 4), ('바로', 4), ('바로크', 4), ('음악', 4), ('제시', 4), ('가진', 3), ('규모', 3), ('부분', 3), ('시대', 3), ('악장', 3), ('제시부', 3), ('주제', 3), ('칸타', 3), ('칸타타', 3), ('고전', 2), ('관현악', 2), ('대규모', 2), ('발전', 2), ('보다', 2), ('성악', 2), ('성악곡', 2), ('시대에', 2), ('연극', 2), ('오락', 2)] \n",
      "\n",
      "#doc=150, score=-0.7455, unknown_features=0.5759, num_features=158\n",
      "[('슈베르트', 4), ('로자', 3), ('선율', 3), ('현악', 3), ('4중', 2), ('4중주', 2), ('4중주곡', 2), ('우아', 2), ('작품', 2), ('테마', 2), ('13번', 1), ('15곡', 1), ('1824년', 1), ('1악장', 1), ('2개', 1), ('2악장', 1), ('3악장', 1), ('4악장', 1), ('가장', 1), ('간주', 1), ('경쾌', 1), ('고전', 1), ('구성', 1), ('구성된', 1), ('귀중', 1), ('남긴', 1), ('듣기', 1), ('때문에', 1), ('리듬', 1), ('많은', 1)] \n",
      "\n",
      "#doc=154, score=-0.5507, unknown_features=0.3046, num_features=417\n",
      "[('교향곡', 15), ('형식', 8), ('소나타', 6), ('관현악', 4), ('낭만', 4), ('낭만파', 4), ('이르', 4), ('있어', 4), ('있어서', 4), ('교향곡에', 3), ('교향곡이', 3), ('구성', 3), ('기악', 3), ('서곡', 3), ('의해', 3), ('이르렀', 3), ('있다', 3), ('작곡', 3), ('표제', 3), ('표제음악', 3), ('하이', 3), ('하이든', 3), ('확대', 3), ('가운데', 2), ('가장', 2), ('것이', 2), ('경향', 2), ('관념', 2), ('남겼', 2), ('내용', 2)] \n",
      "\n",
      "#doc=161, score=-0.5027, unknown_features=0.6381, num_features=478\n",
      "[('음악', 8), ('이주', 7), ('오주', 6), ('졸업', 6), ('강지', 5), ('김정', 5), ('음악원', 5), ('단원', 4), ('서울', 4), ('음대', 4), ('입장', 4), ('한양', 4), ('미국', 3), ('바로', 3), ('바로크', 3), ('연주', 3), ('카메라', 3), ('한양대', 3), ('10월', 2), ('15일', 2), ('2011년', 2), ('공연', 2), ('노트', 2), ('바랍니다', 2), ('석사', 2), ('연주자', 2), ('예약', 2), ('오후', 2), ('오후7시', 2), ('입장료', 2)] \n",
      "\n",
      "#doc=165, score=-0.7209, unknown_features=0.358, num_features=81\n",
      "[('연주', 5), ('프로', 4), ('프로코피', 4), ('프로코피예프', 3), ('1번', 2), ('같이', 2), ('초연', 2), ('1972년', 1), ('2번', 1), ('곡이', 1), ('공연', 1), ('더불어', 1), ('되었', 1), ('되었고', 1), ('듣고', 1), ('레브', 1), ('멜로', 1), ('멜로디', 1), ('명연', 1), ('명연이', 1), ('모스', 1), ('모스코', 1), ('바이', 1), ('바이올', 1), ('바이올린', 1), ('브람스', 1), ('사시', 1), ('사시는', 1), ('생각', 1), ('생각합니다', 1)] \n",
      "\n",
      "#doc=172, score=0.1177, unknown_features=0.3017, num_features=716\n",
      "[('베토벤', 22), ('음악', 13), ('이야기', 8), ('안나', 7), ('것을', 6), ('신의', 6), ('불행', 5), ('영화', 5), ('있습니다', 5), ('그런', 4), ('내게', 4), ('들리', 4), ('만들', 4), ('말을', 4), ('사람', 4), ('소리', 4), ('소리가', 4), ('영혼', 4), ('장면', 4), ('합니다', 4), ('것이', 3), ('그런데', 3), ('그렇', 3), ('내일', 3), ('노아', 3), ('되는', 3), ('들리지', 3), ('들으', 3), ('또다', 3), ('라는', 3)] \n",
      "\n",
      "#doc=174, score=-0.2221, unknown_features=0.3182, num_features=484\n",
      "[('연주', 8), ('쉬프', 5), ('하나', 5), ('같은', 4), ('베토벤', 4), ('집중', 4), ('피아', 4), ('끝나', 3), ('나오', 3), ('노래', 3), ('느껴', 3), ('능력', 3), ('대가', 3), ('소나타', 3), ('순간', 3), ('슈베르트', 3), ('피아노', 3), ('하는', 3), ('32번', 2), ('객석', 2), ('곡들', 2), ('귀에', 2), ('그런', 2), ('그렇', 2), ('끝나고', 2), ('나오는', 2), ('내한', 2), ('느껴지', 2), ('느낌', 2), ('능력이', 2)] \n",
      "\n",
      "#doc=175, score=0.2187, unknown_features=0.3169, num_features=1600\n",
      "[('음악', 37), ('아이', 28), ('준이', 15), ('피아', 14), ('피아노', 14), ('엄마', 13), ('감성', 11), ('사람', 11), ('아이들', 11), ('교육', 10), ('부분', 10), ('육아', 8), ('음악교육', 8), ('자연', 8), ('두뇌', 7), ('블로그', 7), ('좋은', 7), ('중요', 7), ('건강', 6), ('그리고', 6), ('너무', 6), ('마시', 6), ('아니', 6), ('우리', 6), ('자신', 6), ('감정', 5), ('건반', 5), ('교육적', 5), ('마음', 5), ('많이', 5)] \n",
      "\n",
      "#doc=176, score=-0.517, unknown_features=0.4902, num_features=153\n",
      "[('작품', 6), ('스크', 5), ('스크리아빈', 5), ('출판', 5), ('소나타', 3), ('시작', 3), ('피아', 3), ('피아노', 3), ('1악장', 2), ('러시아', 2), ('시작하', 2), ('알리', 2), ('음악', 2), ('작곡', 2), ('출판되었', 2), ('같은', 1), ('것에', 1), ('것이', 1), ('것입니다', 1), ('관계', 1), ('관계로', 1), ('규모', 1), ('까지', 1), ('널리', 1), ('다듬', 1), ('대략', 1), ('되는', 1), ('되는것', 1), ('따로', 1), ('마지막', 1)] \n",
      "\n",
      "#doc=177, score=-0.5157, unknown_features=0.7101, num_features=507\n",
      "[('모차르트', 18), ('교향곡', 5), ('공부', 4), ('소나타', 4), ('피아', 4), ('피아노', 4), ('1악장', 3), ('2대', 3), ('공부할', 3), ('들으', 3), ('위한', 3), ('클래', 3), ('클래식', 3), ('피아노를', 3), ('2악장', 2), ('3악장', 2), ('가사', 2), ('듣는', 2), ('들어', 2), ('분들', 2), ('사람', 2), ('제가', 2), ('집중', 2), ('추천', 2), ('클라', 2), ('협주곡', 2), ('13번', 1), ('15번', 1), ('1번', 1), ('25번', 1)] \n",
      "\n",
      "#doc=179, score=-0.236, unknown_features=0.7104, num_features=1378\n",
      "[('작품', 21), ('것이', 11), ('것이다', 9), ('철학', 9), ('작품들', 8), ('요소', 6), ('것으로', 5), ('그리고', 5), ('우크라이나', 5), ('음악', 5), ('작곡', 5), ('작곡가', 5), ('텍스', 5), ('텍스트', 5), ('다양한', 4), ('오페라', 4), ('요소들', 4), ('적용', 4), ('철학적', 4), ('통해', 4), ('고대', 3), ('시대', 3), ('아니', 3), ('아니라', 3), ('양식', 3), ('연주', 3), ('이러', 3), ('작품에', 3), ('장르', 3), ('저술', 3)] \n",
      "\n",
      "#doc=181, score=-0.3606, unknown_features=0.3535, num_features=198\n",
      "[('브람스', 5), ('고전', 4), ('박하', 3), ('박하우스', 3), ('베토벤', 3), ('세상', 3), ('연주', 3), ('2번', 2), ('가치', 2), ('없다', 2), ('피아', 2), ('피아노', 2), ('1967년', 1), ('1969년', 1), ('강의', 1), ('갸우뚱', 1), ('거짓', 1), ('건반', 1), ('것과', 1), ('것들', 1), ('것들이', 1), ('것만', 1), ('것은', 1), ('고개', 1), ('교수', 1), ('교수님', 1), ('구부', 1), ('구식', 1), ('그래', 1), ('그래서', 1)] \n",
      "\n",
      "#doc=185, score=-0.5438, unknown_features=0.3826, num_features=149\n",
      "[('바이', 5), ('바이올', 5), ('바이올린', 5), ('연주', 5), ('소나타', 3), ('프로', 3), ('프로그램', 3), ('공연', 2), ('과정', 2), ('세계', 2), ('이종', 2), ('클라', 2), ('클라리', 2), ('클라리넷', 2), ('황금', 2), ('11일', 1), ('2011년', 1), ('4월', 1), ('A장조', 1), ('C장조', 1), ('감미', 1), ('감미로', 1), ('감상', 1), ('감상해', 1), ('갖춘', 1), ('과정이', 1), ('그리그', 1), ('극적', 1), ('금호', 1), ('금호아트홀', 1)] \n",
      "\n",
      "#doc=187, score=0.09154, unknown_features=0.234, num_features=141\n",
      "[('1악장', 3), ('거리', 3), ('그런', 3), ('모습', 3), ('소나타', 3), ('아르', 3), ('아르페지오네', 3), ('유리', 3), ('유리창', 3), ('2층', 2), ('날에', 2), ('모습이', 2), ('빗물', 2), ('슈베르트', 2), ('연상', 2), ('연상되', 2), ('우산', 2), ('이곡', 2), ('3개', 1), ('가운데', 1), ('각인', 1), ('경험', 1), ('경험이', 1), ('구분', 1), ('그렇', 1), ('그렇다', 1), ('그리고', 1), ('나는', 1), ('나오', 1), ('나오면', 1)] \n",
      "\n",
      "#doc=189, score=0.5478, unknown_features=0.3515, num_features=697\n",
      "[('톨스토이', 18), ('사랑', 13), ('예술', 13), ('한다', 13), ('중에', 8), ('중에서', 8), ('것은', 6), ('것이', 6), ('모든', 6), ('상대', 6), ('상대방', 6), ('위해', 6), ('가장', 5), ('결혼', 5), ('사랑이', 5), ('생각', 5), ('아니', 5), ('없다', 5), ('인간', 5), ('그런', 4), ('도덕', 4), ('사람', 4), ('여자', 4), ('예술이', 4), ('육체', 4), ('이것', 4), ('거짓', 3), ('거짓말', 3), ('것을', 3), ('것이다', 3)] \n",
      "\n",
      "#doc=195, score=0.177, unknown_features=0.2461, num_features=321\n",
      "[('음악', 15), ('엄마', 10), ('태교', 10), ('이후', 5), ('임신', 5), ('같은', 4), ('발달', 4), ('방법', 4), ('소리', 4), ('좋아', 4), ('청각', 4), ('태아', 4), ('기능', 3), ('기분', 3), ('들려', 3), ('시기', 3), ('시작', 3), ('아기', 3), ('이용', 3), ('이후에', 3), ('인지', 3), ('있는', 3), ('가지고', 2), ('기능이', 2), ('기분이', 2), ('노래', 2), ('능력', 2), ('들려주', 2), ('들을', 2), ('때문에', 2)] \n",
      "\n",
      "#doc=196, score=0.7206, unknown_features=0.5435, num_features=92\n",
      "[('17만', 2), ('2010년', 2), ('무게', 2), ('얼마', 2), ('얼마나', 2), ('이가', 2), ('정말', 2), ('종로', 2), ('종로구', 2), ('하는', 2), ('000대', 1), ('30여', 1), ('30여개', 1), ('거쳐', 1), ('남자', 1), ('남자가', 1), ('느껴', 1), ('느껴지', 1), ('느껴지시', 1), ('되니', 1), ('되니까', 1), ('들어', 1), ('들어야', 1), ('많은', 1), ('모아', 1), ('모여', 1), ('몽땅', 1), ('무거', 1), ('배달', 1), ('보내', 1)] \n",
      "\n",
      "#doc=198, score=-0.8242, unknown_features=0.565, num_features=200\n",
      "[('교향곡', 5), ('출생', 5), ('피아', 5), ('피아노', 5), ('협주곡', 5), ('모차르트', 4), ('베토벤', 4), ('오페라', 4), ('12월', 2), ('C장조', 2), ('나이', 2), ('소나타', 2), ('음악', 2), ('작품', 2), ('클라', 2), ('13번', 1), ('14번', 1), ('1770년', 1), ('17일', 1), ('1827년', 1), ('1곡', 1), ('1월', 1), ('20번', 1), ('21번', 1), ('23번', 1), ('25번', 1), ('26일', 1), ('27일', 1), ('32곡', 1), ('3대', 1)] \n",
      "\n",
      "#doc=204, score=-0.8603, unknown_features=0.625, num_features=8\n",
      "[('2악장', 1), ('바흐', 1), ('소나타', 1)] \n",
      "\n",
      "#doc=205, score=-0.5046, unknown_features=0.2966, num_features=118\n",
      "[('사랑', 5), ('월광', 5), ('소나타', 4), ('베에토벤', 3), ('1악장', 2), ('3악장', 2), ('느낌', 2), ('달빛', 2), ('별명', 2), ('사랑의', 2), ('사랑이', 2), ('연인', 2), ('은은', 2), ('줄리', 2), ('진행', 2), ('진행되', 2), ('진행되는', 2), ('피아', 2), ('피아노', 2), ('헌정', 2), ('1악장에서', 1), ('2악장', 1), ('3악장에', 1), ('같다', 1), ('것이', 1), ('결렬', 1), ('경쾌', 1), ('경쾌하', 1), ('그녀', 1), ('그대로', 1)] \n",
      "\n",
      "#doc=207, score=-0.5709, unknown_features=0.5456, num_features=1129\n",
      "[('반주', 14), ('연주', 14), ('피아', 12), ('동행', 9), ('양성', 9), ('교수', 8), ('반주자', 8), ('음악', 8), ('브리', 7), ('양성원', 7), ('피아니스트', 7), ('미국', 6), ('바이', 6), ('바이올', 6), ('있다', 6), ('활동', 6), ('교수로', 5), ('김현', 5), ('독주', 5), ('연세', 5), ('연세대', 5), ('연주자', 5), ('오르', 5), ('피아노', 5), ('함께', 5), ('동반', 4), ('동행하', 4), ('미국에서', 4), ('주립', 4), ('주립대', 4)] \n",
      "\n",
      "#doc=211, score=0.5087, unknown_features=0.2982, num_features=275\n",
      "[('아이', 4), ('아이들', 4), ('연습', 4), ('열심히', 4), ('치고', 4), ('가르', 3), ('가르치', 3), ('노래', 3), ('하고', 3), ('가스', 2), ('계신', 2), ('그래', 2), ('그래서', 2), ('그런', 2), ('그런데', 2), ('그리고', 2), ('나가', 2), ('많이', 2), ('아무', 2), ('아주', 2), ('에서', 2), ('연습해', 2), ('연주', 2), ('유재', 2), ('음악', 2), ('있는', 2), ('있었', 2), ('정말', 2), ('클래', 2), ('클래식', 2)] \n",
      "\n",
      "#doc=220, score=-0.3831, unknown_features=0.2722, num_features=180\n",
      "[('코다', 12), ('악장', 4), ('있다', 4), ('경우', 3), ('붙여', 3), ('소나타', 3), ('악장에', 3), ('같은', 2), ('꼬리', 2), ('끝에', 2), ('많다', 2), ('뮤직', 2), ('사용', 2), ('새로', 2), ('악장에서', 2), ('음악', 2), ('이미', 2), ('종결', 2), ('코데타', 2), ('형식', 2), ('가끔', 1), ('것이', 1), ('고전', 1), ('교향곡', 1), ('구별', 1), ('구분', 1), ('규모', 1), ('규모로', 1), ('그랜', 1), ('그랜드', 1)] \n",
      "\n",
      "#doc=224, score=-0.9046, unknown_features=0.2, num_features=5\n",
      "[('3악장', 1), ('베토벤', 1), ('소나타', 1), ('월광', 1), ('이준', 1)] \n",
      "\n",
      "#doc=225, score=-0.2856, unknown_features=0.3612, num_features=515\n",
      "[('음악', 11), ('사랑', 10), ('무대', 7), ('세기', 6), ('콘서트', 6), ('미술', 5), ('아르', 5), ('음악가', 5), ('있는', 5), ('협연', 5), ('사랑을', 4), ('있다', 4), ('화가', 4), ('감성', 3), ('대중', 3), ('독주', 3), ('독주회', 3), ('뮤지', 3), ('뮤지컬', 3), ('세계', 3), ('송영', 3), ('송영훈', 3), ('연인', 3), ('연주', 3), ('이름', 3), ('작품', 3), ('피아', 3), ('피아니스트', 3), ('2부', 2), ('감동', 2)] \n",
      "\n",
      "#doc=232, score=-0.4013, unknown_features=0.2172, num_features=221\n",
      "[('음악', 8), ('고전', 5), ('고전주의', 4), ('모차르트', 4), ('양식', 4), ('하이', 4), ('하이든', 4), ('교향곡', 3), ('되었', 3), ('모든', 3), ('베토벤', 3), ('사진', 3), ('이들', 3), ('표현', 3), ('기악', 2), ('기초', 2), ('나타', 2), ('나타나', 2), ('대표', 2), ('되었다', 2), ('시기', 2), ('시대', 2), ('악보', 2), ('있는', 2), ('작곡', 2), ('합니다', 2), ('형식', 2), ('화성', 2), ('확립', 2), ('확립되', 2)] \n",
      "\n",
      "#doc=241, score=-0.6801, unknown_features=0.5886, num_features=700\n",
      "[('음악', 13), ('서울', 9), ('연세', 6), ('연주', 6), ('콩쿠르', 6), ('실내', 5), ('실내악', 5), ('있다', 5), ('교향악단', 4), ('김수', 4), ('바이', 4), ('바이올', 4), ('악장', 4), ('연세대', 4), ('전곡', 4), ('협연', 4), ('활동', 4), ('1위', 3), ('바이올린', 3), ('보스', 3), ('서울시', 3), ('음악대학', 3), ('가지고', 2), ('과정', 2), ('교수', 2), ('교수로', 2), ('귀국', 2), ('독일', 2), ('독주', 2), ('독주회', 2)] \n",
      "\n",
      "#doc=242, score=-0.6966, unknown_features=0.5106, num_features=94\n",
      "[('모차르트', 3), ('소나타', 3), ('1악장', 2), ('2번', 2), ('3악장', 2), ('연주', 2), ('피아', 2), ('피아노', 2), ('1번', 1), ('2악장', 1), ('강하', 1), ('강하다', 1), ('거의', 1), ('곡으로', 1), ('곡이', 1), ('규모', 1), ('규모로', 1), ('내용', 1), ('많이', 1), ('미상', 1), ('받은', 1), ('비슷', 1), ('비슷하', 1), ('스타', 1), ('스타일', 1), ('스타일이', 1), ('실내', 1), ('실내악', 1), ('실내악적', 1), ('악보', 1)] \n",
      "\n",
      "#doc=243, score=-0.6598, unknown_features=0.2944, num_features=248\n",
      "[('쇼팽', 11), ('피아', 9), ('피아노', 9), ('소나타', 7), ('작곡', 4), ('3곡', 2), ('3번', 2), ('같아', 2), ('곡들', 2), ('곡이', 2), ('노다', 2), ('노다메', 2), ('시인', 2), ('연주', 2), ('요구', 2), ('자유', 2), ('작곡가', 2), ('제3', 2), ('제3번', 2), ('중에', 2), ('중에서', 2), ('치아', 2), ('치아키', 2), ('템포', 2), ('1번', 1), ('1주', 1), ('1주제', 1), ('2번', 1), ('3악장', 1), ('5년', 1)] \n",
      "\n",
      "#doc=244, score=0.5326, unknown_features=0.4399, num_features=1223\n",
      "[('이것', 28), ('다음', 12), ('고르', 11), ('있는', 11), ('고르시', 10), ('무엇', 9), ('이름', 9), ('무엇일까', 7), ('하는', 7), ('모두', 6), ('미국', 6), ('사람', 6), ('독립', 5), ('동물', 5), ('이곳', 5), ('최근', 5), ('플라', 5), ('2라', 4), ('2라운드', 4), ('공통', 4), ('국제', 4), ('노벨', 4), ('사용', 4), ('성당', 4), ('영국', 4), ('우리', 4), ('우리나라', 4), ('있다', 4), ('퀴즈', 4), ('하는데', 4)] \n",
      "\n",
      "#doc=247, score=-0.03832, unknown_features=0.2456, num_features=114\n",
      "[('너무', 3), ('많이', 3), ('패스', 3), ('곡으로', 2), ('곡이', 2), ('들어', 2), ('별로', 2), ('어렵', 2), ('어렵다', 2), ('엄마', 2), ('이미', 2), ('작년', 2), ('작년에', 2), ('콩쿨', 2), ('11월', 1), ('1악장', 1), ('2011년', 1), ('결정', 1), ('결정되', 1), ('결정되었', 1), ('고심', 1), ('고심하', 1), ('곡이라', 1), ('골라', 1), ('그래', 1), ('그래도', 1), ('깔아', 1), ('나도', 1), ('나오', 1), ('나오는', 1)] \n",
      "\n",
      "#doc=249, score=0.004197, unknown_features=0.2552, num_features=145\n",
      "[('나는', 3), ('생각', 3), ('2악장', 2), ('고민', 2), ('비창', 2), ('생각을', 2), ('소나타', 2), ('시간', 2), ('아다', 2), ('아다지오', 2), ('언제', 2), ('언제까지', 2), ('이제', 2), ('칸타', 2), ('칸타빌레', 2), ('하는', 2), ('하루', 2), ('간다', 1), ('같다', 1), ('걸리', 1), ('걸리는', 1), ('것을', 1), ('겨우', 1), ('계속', 1), ('고민이', 1), ('고민하', 1), ('곱씹', 1), ('과거', 1), ('그래', 1), ('그래서', 1)] \n",
      "\n",
      "#doc=252, score=0.0609, unknown_features=0.2585, num_features=793\n",
      "[('클래', 15), ('클래식', 15), ('베토벤', 14), ('음악', 14), ('아이', 13), ('아이들', 13), ('있는', 10), ('그림', 9), ('체험', 8), ('공연', 7), ('명화', 7), ('시간', 7), ('앞에', 7), ('우리', 7), ('감상', 5), ('같다', 5), ('곳에', 5), ('대한', 5), ('미술', 5), ('앞에서', 5), ('있다', 5), ('통해', 5), ('오후', 4), ('음악가', 4), ('찾아', 4), ('가까', 3), ('가까이', 3), ('가졌', 3), ('감상할', 3), ('것이', 3)] \n",
      "\n",
      "#doc=255, score=-0.3932, unknown_features=0.6533, num_features=450\n",
      "[('정보', 9), ('영화', 8), ('다뉴브', 6), ('바흐', 5), ('베토벤', 4), ('정보를', 4), ('클래', 4), ('클래식', 4), ('드라마', 3), ('사랑', 3), ('사랑의', 3), ('쇼팽', 3), ('클래식음악', 3), ('기쁨', 2), ('많이', 2), ('상세', 2), ('소나타', 2), ('슈만', 2), ('슈베르트', 2), ('엄청', 2), ('좋고', 2), ('주세요', 2), ('추천', 2), ('확인', 2), ('20번', 1), ('2악장', 1), ('4분', 1), ('G장조', 1), ('가보', 1), ('가져', 1)] \n",
      "\n",
      "#doc=262, score=-0.2758, unknown_features=0.5031, num_features=654\n",
      "[('슈베르트', 11), ('피아', 11), ('사랑', 10), ('음악', 8), ('피아노', 8), ('생각', 7), ('사람', 6), ('즉흥', 6), ('즉흥곡', 6), ('베토벤', 5), ('당신', 4), ('사랑하는', 4), ('오늘', 4), ('우리', 4), ('있는', 4), ('가까', 3), ('가까이', 3), ('것은', 3), ('너무', 3), ('당신이', 3), ('만드는', 3), ('모짜르트', 3), ('사진', 3), ('영혼', 3), ('오늘의', 3), ('콩쿠르', 3), ('클라', 3), ('4개', 2), ('가슴', 2), ('가장', 2)] \n",
      "\n",
      "#doc=263, score=-0.5704, unknown_features=0.5611, num_features=180\n",
      "[('전원', 6), ('베토벤', 4), ('제1', 3), ('피아', 3), ('피아노', 3), ('곡에', 2), ('이라', 2), ('있었', 2), ('있었다', 2), ('제15', 2), ('피아노소나타', 2), ('15번', 1), ('1801년', 1), ('6번', 1), ('가리', 1), ('가리지', 1), ('가져', 1), ('가져다', 1), ('감정', 1), ('격렬', 1), ('고뇌', 1), ('곡에서', 1), ('교향곡', 1), ('귓병', 1), ('그러', 1), ('그러하', 1), ('그에', 1), ('그에게', 1), ('노래', 1), ('노래하', 1)] \n",
      "\n",
      "#doc=264, score=-0.5622, unknown_features=0.3753, num_features=445\n",
      "[('클래', 15), ('클래식', 15), ('스쿨', 6), ('행진', 6), ('베토벤', 5), ('쇼팽', 5), ('떠나', 4), ('모차르트', 4), ('베르', 4), ('베르디', 4), ('사랑', 4), ('사랑의', 4), ('아이', 4), ('여행', 4), ('차이', 4), ('차이코프스키', 4), ('행진곡', 4), ('무곡', 3), ('브람스', 3), ('서곡', 3), ('아이들', 3), ('아이들에게', 3), ('어린', 3), ('왈츠', 3), ('음악', 3), ('헝가리', 3), ('헨델', 3), ('1번', 2), ('귀에', 2), ('노래', 2)] \n",
      "\n",
      "#doc=265, score=0.7518, unknown_features=0.6814, num_features=452\n",
      "[('고통', 4), ('것들', 3), ('고통스', 3), ('꺼졌', 3), ('마지막', 3), ('미래', 3), ('고통스러', 2), ('과거', 2), ('내가', 2), ('내용', 2), ('되있', 2), ('명반', 2), ('시어', 2), ('이탈', 2), ('이탈리아', 2), ('있다', 2), ('주인', 2), ('주인공', 2), ('죽음', 2), ('흐르', 2), ('흐르는', 2), ('12번', 1), ('2004년', 1), ('가사', 1), ('거친', 1), ('검색', 1), ('겁니다', 1), ('것들이', 1), ('고독', 1), ('과거와', 1)] \n",
      "\n",
      "#doc=266, score=0.2863, unknown_features=0.5959, num_features=193\n",
      "[('사이', 3), ('정보', 3), ('도움', 2), ('사이트', 2), ('앙상', 2), ('앙상블', 2), ('전문', 2), ('전문정', 2), ('가격', 1), ('가격정보', 1), ('결정', 1), ('결정해', 1), ('고민', 1), ('관련', 1), ('구한', 1), ('눌러', 1), ('눌러주', 1), ('뉴그랜', 1), ('뉴그랜져', 1), ('뉴그랜져XG', 1), ('뉴스', 1), ('대박', 1), ('동시', 1), ('드림', 1), ('들어', 1), ('들어가', 1), ('들어가면', 1), ('리어', 1), ('링크', 1), ('많이', 1)] \n",
      "\n",
      "#doc=273, score=0.6944, unknown_features=0.4454, num_features=889\n",
      "[('사람', 13), ('이것', 12), ('다음', 9), ('소설', 8), ('무엇', 7), ('위해', 7), ('있는', 7), ('다음에', 6), ('무엇일까', 6), ('연상', 6), ('연상되', 6), ('작품', 6), ('누구', 5), ('누구일까', 5), ('사용', 5), ('크리', 5), ('크리스', 5), ('크리스마스', 5), ('에서', 4), ('영화', 4), ('한다', 4), ('단테', 3), ('대한', 3), ('들어', 3), ('뜻하', 3), ('뜻하는', 3), ('상품', 3), ('세상', 3), ('알려', 3), ('우리', 3)] \n",
      "\n",
      "#doc=281, score=0.6944, unknown_features=0.4843, num_features=956\n",
      "[('노동', 30), ('노동자', 29), ('현대', 20), ('비정', 16), ('비정규', 16), ('비정규직', 16), ('아산', 16), ('현대차', 15), ('노동자들', 14), ('전주', 13), ('투쟁', 12), ('3지', 8), ('아산공장', 8), ('울산', 8), ('공장', 7), ('판결', 7), ('다시', 6), ('그리고', 5), ('있다', 5), ('전주공장', 5), ('정규', 5), ('정규직', 5), ('출근', 5), ('하나', 5), ('해고', 5), ('현대자동차', 5), ('1년', 4), ('대한', 4), ('아침', 4), ('자본', 4)] \n",
      "\n",
      "#doc=284, score=-0.1105, unknown_features=0.9697, num_features=627\n",
      "[('가창', 1), ('가창력', 1), ('그리고', 1), ('기타', 1), ('노래', 1), ('대표', 1), ('대표곡', 1), ('밴드', 1), ('보컬', 1), ('소나타', 1), ('시작', 1), ('시작하', 1), ('아크', 1), ('없는', 1), ('이어', 1), ('이어지', 1), ('이어지는', 1), ('잔잔', 1), ('질주', 1), ('출신', 1), ('키보드', 1), ('파워', 1), ('피아', 1), ('피아노', 1), ('핀란드', 1), ('하나', 1), ('합주', 1), ('흠잡을', 1)] \n",
      "\n",
      "#doc=287, score=-0.6959, unknown_features=0.3669, num_features=447\n",
      "[('기악', 12), ('성악', 10), ('기악곡', 7), ('연주', 6), ('형식', 6), ('3박', 4), ('3박자', 4), ('악기', 4), ('교향곡', 3), ('마주', 3), ('만든', 3), ('모음', 3), ('모음곡', 3), ('부르', 3), ('여러', 3), ('음악', 3), ('자유', 3), ('자유로', 3), ('작곡', 3), ('폴란드', 3), ('것이', 2), ('기교', 2), ('기상', 2), ('노래', 2), ('독주', 2), ('뛰어', 2), ('마주르카', 2), ('모아', 2), ('부르는', 2), ('서정', 2)] \n",
      "\n",
      "#doc=295, score=-0.09526, unknown_features=0.7481, num_features=258\n",
      "[('동기', 7), ('방법', 4), ('선율', 3), ('활용', 3), ('반복', 2), ('발전', 2), ('음악', 2), ('있고', 2), ('있다', 2), ('작품', 2), ('조성', 2), ('가장', 1), ('같은', 1), ('근거', 1), ('다양한', 1), ('드뷔시', 1), ('듣는', 1), ('말하', 1), ('모양', 1), ('미학', 1), ('미학적', 1), ('반복하', 1), ('방법으로', 1), ('베토벤', 1), ('변형', 1), ('변형시', 1), ('보호', 1), ('사람', 1), ('선율이', 1), ('성격', 1)] \n",
      "\n",
      "#doc=296, score=-0.619, unknown_features=0.2376, num_features=101\n",
      "[('4악장', 7), ('신세', 6), ('신세계', 6), ('교향곡', 4), ('저희', 3), ('4박', 2), ('4박자', 2), ('다운', 2), ('음악', 2), ('작곡', 2), ('저희가', 2), ('트럼', 2), ('해설', 2), ('1악장', 1), ('구성', 1), ('그리고', 1), ('나가', 1), ('나가는', 1), ('내림', 1), ('내용', 1), ('단조', 1), ('대신', 1), ('대신하', 1), ('대표', 1), ('대해', 1), ('대해서', 1), ('대회', 1), ('뭐가', 1), ('상대', 1), ('상대방', 1)] \n",
      "\n",
      "#doc=298, score=-0.7597, unknown_features=0.5532, num_features=47\n",
      "[('음반', 3), ('바이', 2), ('바이얼린', 2), ('브람스', 2), ('피아', 2), ('피아노', 2), ('깨끗', 1), ('매우', 1), ('미국', 1), ('소나타', 1), ('안내', 1), ('연주', 1), ('위한', 1), ('입니다', 1), ('커버', 1), ('피아노를', 1)] \n",
      "\n",
      "#doc=303, score=-0.2494, unknown_features=0.6176, num_features=170\n",
      "[('바이', 3), ('바이올', 3), ('바이올린', 3), ('베에토벤', 3), ('19일', 2), ('가져', 2), ('본체', 2), ('이웃', 2), ('이웃님들', 2), ('작품', 2), ('장조', 2), ('제8', 2), ('컴퓨터', 2), ('화요일', 2), ('1802년', 1), ('가득', 1), ('가득한', 1), ('가져가', 1), ('가져온', 1), ('같은', 1), ('건강', 1), ('고난', 1), ('관현악', 1), ('그가', 1), ('기사', 1), ('기사님', 1), ('나가', 1), ('느낌', 1), ('느낌이', 1), ('느낌이라', 1)] \n",
      "\n",
      "#doc=304, score=-0.5512, unknown_features=0.3155, num_features=637\n",
      "[('바흐', 15), ('연주', 15), ('비올', 12), ('비올라', 12), ('한다', 10), ('작곡', 9), ('있다', 8), ('첼로', 7), ('레거', 6), ('것이', 5), ('연주하', 5), ('연주하는', 5), ('있는', 5), ('독주', 4), ('아니', 4), ('아니라', 4), ('음악', 4), ('이런', 4), ('작곡가', 4), ('같이', 3), ('그가', 3), ('대위법', 3), ('많이', 3), ('면에서', 3), ('모음', 3), ('모음곡', 3), ('모티', 3), ('모티브', 3), ('바로', 3), ('바로크', 3)] \n",
      "\n",
      "#doc=312, score=-0.265, unknown_features=0.3707, num_features=294\n",
      "[('공연', 7), ('합창', 7), ('오케', 4), ('오케스트라', 4), ('합창단', 4), ('2막', 3), ('그라', 3), ('노래', 3), ('되었', 3), ('되었습니다', 3), ('가족', 2), ('감동', 2), ('구성', 2), ('귀여', 2), ('귀여운', 2), ('등으로', 2), ('뜻하', 2), ('뜻하는', 2), ('무대', 2), ('세계', 2), ('순회', 2), ('아니', 2), ('아름다운', 2), ('예수', 2), ('예수님', 2), ('우리', 2), ('이루어', 2), ('이루어진', 2), ('이어', 2), ('즐거', 2)] \n",
      "\n",
      "#doc=313, score=0.7252, unknown_features=0.7373, num_features=1629\n",
      "[('일산', 47), ('서울', 16), ('롯데', 11), ('롯데시', 11), ('스폰', 10), ('스폰지', 10), ('중앙', 9), ('사랑', 6), ('날짜', 5), ('미스', 5), ('시간', 5), ('아트', 5), ('제목', 5), ('준영', 5), ('필름', 5), ('그녀', 4), ('남자', 4), ('도쿄', 4), ('소녀', 4), ('우리', 4), ('간다', 3), ('단편', 3), ('대학', 3), ('대학로', 3), ('레인', 3), ('메가', 3), ('모모', 3), ('미로', 3), ('민영', 3), ('소년', 3)] \n",
      "\n",
      "#doc=317, score=-0.5335, unknown_features=0.314, num_features=172\n",
      "[('첼로', 3), ('가장', 2), ('떠나', 2), ('바로', 2), ('바로크', 2), ('바이', 2), ('바이올', 2), ('바이올린', 2), ('바탕으로', 2), ('시간', 2), ('시간여', 2), ('시간여행', 2), ('시대', 2), ('아리', 2), ('아리아', 2), ('연구', 2), ('연주', 2), ('유명', 2), ('음악', 2), ('작곡', 2), ('작곡가', 2), ('작품', 2), ('10월', 1), ('10월2', 1), ('2004년', 1), ('2시', 1), ('2시간', 1), ('3만', 1), ('4만', 1), ('4만원', 1)] \n",
      "\n",
      "#doc=319, score=0.695, unknown_features=0.7962, num_features=373\n",
      "[('소년', 7), ('권지용', 5), ('사랑', 5), ('번외', 4), ('1999년', 3), ('헤어', 3), ('까칠', 2), ('미친', 2), ('블랙', 2), ('사랑이', 2), ('시즌', 2), ('이승', 2), ('이승현', 2), ('지금', 2), ('큐브', 2), ('피에', 2), ('피에로', 2), ('헤어져', 2), ('1월', 1), ('1월2', 1), ('1위', 1), ('가기', 1), ('가을', 1), ('개척', 1), ('거기', 1), ('걸음', 1), ('검은', 1), ('계집', 1), ('공금', 1), ('교환', 1)] \n",
      "\n",
      "#doc=322, score=0.4419, unknown_features=0.4013, num_features=152\n",
      "[('노래', 6), ('목소리', 3), ('좋아', 3), ('좋아하', 3), ('좋아하는', 3), ('같이', 2), ('나는', 2), ('사람', 2), ('어떤', 2), ('엄마', 2), ('있는', 2), ('좋겠', 2), ('귀가', 1), ('그런', 1), ('그렇', 1), ('그렇지', 1), ('꼼수', 1), ('나이', 1), ('노래가', 1), ('놀았', 1), ('대화', 1), ('되었', 1), ('되었음', 1), ('두대', 1), ('듣고', 1), ('듣는', 1), ('들렸', 1), ('들리', 1), ('들리기', 1), ('들썩', 1)] \n",
      "\n",
      "#doc=328, score=-0.5557, unknown_features=0.3493, num_features=272\n",
      "[('피아', 10), ('피아노', 9), ('노다', 5), ('노다메', 5), ('라벨', 5), ('연주', 4), ('협주곡', 4), ('G장조', 3), ('위한', 3), ('있다', 3), ('정말', 3), ('제시', 3), ('것이', 2), ('그래', 2), ('미국', 2), ('보다', 2), ('사용', 2), ('여행', 2), ('왼손', 2), ('있었', 2), ('있었다', 2), ('작아', 2), ('작아졌', 2), ('재즈', 2), ('제시하', 2), ('제시하고', 2), ('지휘', 2), ('치아', 2), ('치아키', 2), ('캐스', 2)] \n",
      "\n",
      "#doc=329, score=-0.7322, unknown_features=0.3235, num_features=102\n",
      "[('하이', 5), ('피아', 4), ('피아노', 4), ('하이든', 4), ('협주곡', 3), ('11번', 2), ('교향곡', 2), ('리히터', 2), ('보통', 2), ('에스', 2), ('에스테', 2), ('연주', 2), ('작곡', 2), ('10년', 1), ('10년간', 1), ('가장', 1), ('간단', 1), ('곡으로', 1), ('곡이', 1), ('구성', 1), ('구성되어', 1), ('남겼', 1), ('남겼다', 1), ('만든', 1), ('만든것', 1), ('많이', 1), ('불린', 1), ('불린다', 1), ('선율', 1), ('소개', 1)] \n",
      "\n",
      "#doc=332, score=-0.01202, unknown_features=0.8944, num_features=142\n",
      "[('작성', 2), ('01월', 1), ('11일', 1), ('12일', 1), ('1월', 1), ('기도', 1), ('기타', 1), ('물들', 1), ('바이', 1), ('바이올', 1), ('바이올린', 1), ('선곡', 1), ('소나타', 1), ('위한', 1), ('음악', 1), ('작성일', 1), ('작성자', 1), ('전기', 1), ('한마디', 1)] \n",
      "\n"
     ]
    }
   ],
   "source": [
    "_counter = 0\n",
    "for doc in negative:\n",
    "# for doc in positive:\n",
    "    bow = make_bow(doc, x, index2subword)\n",
    "    if not bow:\n",
    "        continue\n",
    "    print('#doc={}, score={:.4}, unknown_features={:.4}, num_features={}'.format(doc, float(scores[doc]), float(unknown_features[doc]), num_features[doc]))\n",
    "    print(bow, '\\n')\n",
    "    _counter += 1\n",
    "    if _counter > 100: break"
   ]
  },
  {
   "cell_type": "code",
   "execution_count": null,
   "metadata": {
    "collapsed": true
   },
   "outputs": [],
   "source": []
  }
 ],
 "metadata": {
  "kernelspec": {
   "display_name": "Python 3",
   "language": "python",
   "name": "python3"
  },
  "language_info": {
   "codemirror_mode": {
    "name": "ipython",
    "version": 3
   },
   "file_extension": ".py",
   "mimetype": "text/x-python",
   "name": "python",
   "nbconvert_exporter": "python",
   "pygments_lexer": "ipython3",
   "version": "3.6.1"
  }
 },
 "nbformat": 4,
 "nbformat_minor": 1
}
